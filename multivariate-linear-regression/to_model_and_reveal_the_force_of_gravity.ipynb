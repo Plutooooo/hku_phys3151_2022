{
  "nbformat": 4,
  "nbformat_minor": 0,
  "metadata": {
    "colab": {
      "name": "to model and reveal the force of gravity.ipynb",
      "provenance": [],
      "include_colab_link": true
    },
    "kernelspec": {
      "name": "python3",
      "display_name": "Python 3"
    },
    "language_info": {
      "name": "python"
    }
  },
  "cells": [
    {
      "cell_type": "markdown",
      "metadata": {
        "id": "view-in-github",
        "colab_type": "text"
      },
      "source": [
        "<a href=\"https://colab.research.google.com/github/Plutooooo/hku_phys3151_2022/blob/main/multivariate-linear-regression/to_model_and_reveal_the_force_of_gravity.ipynb\" target=\"_parent\"><img src=\"https://colab.research.google.com/assets/colab-badge.svg\" alt=\"Open In Colab\"/></a>"
      ]
    },
    {
      "cell_type": "markdown",
      "source": [
        "# Using polynomial regression to model and reveal the force of gravity"
      ],
      "metadata": {
        "id": "aqWz9kqbl9YX"
      }
    },
    {
      "cell_type": "markdown",
      "source": [
        "We will take a look at a simple example: the force of gravity on a falling object. The formula for the location of a falling object is:\n",
        "\n",
        "\\begin{eqnarray}\n",
        "y=X_{0}+V_{0}t-\\frac{1}{2}gt^{2}\n",
        "\\end{eqnarray}\n",
        "\n",
        "where $X_{0}$ is the initial location of the object, i.e. its initial height.\n",
        "$V_{0}$ is the initial velocity (or speed) of the object when it is at this initial position. $t$ is the time after the object was dropped. $g$ is the force of gravity, which is an acceleration of approximately 9.8 $m/s^{2}$. This is actually a constant not a variable like all of the others (unless we are dropping an object on different planets, which are not). It is negative because the force of gravity is downward, from a positive location value toward zero."
      ],
      "metadata": {
        "id": "nXL58ogzmONQ"
      }
    },
    {
      "cell_type": "markdown",
      "source": [
        "First, we will create a Python function to calculate the location of a falling object"
      ],
      "metadata": {
        "id": "jo98J0Dro2yc"
      }
    },
    {
      "cell_type": "code",
      "source": [
        "def location(x_0, v_0, t):\n",
        "    return x_0 + v_0*t - (9.8/2)*t**2"
      ],
      "metadata": {
        "id": "qWUscPHgo6Yq"
      },
      "execution_count": 23,
      "outputs": []
    },
    {
      "cell_type": "markdown",
      "source": [
        "Next, we use this function to create a dataset and save it in a CSV file"
      ],
      "metadata": {
        "id": "B4tnqItmpCii"
      }
    },
    {
      "cell_type": "code",
      "source": [
        "import csv\n",
        "import random\n",
        "import math\n",
        "random.seed\n",
        "with open('gravity_location_data.csv', mode='w') as gravity_file:\n",
        "    gravity_writer = csv.writer(gravity_file, delimiter=',', quotechar='\"', quoting=csv.QUOTE_MINIMAL)\n",
        "    gravity_writer.writerow(['initial_position', 'initial_velocity', 'mass', 'time', 'location'])\n",
        "    for i in range (0, 100):\n",
        "        initial_position = random.uniform(0,1)\n",
        "        initial_velocity = random.uniform(0,1)\n",
        "        mass = random.uniform(0,1)\n",
        "        time = random.uniform(0,1)\n",
        "        gravity_writer.writerow([initial_position, initial_velocity, mass, time, location(initial_position, initial_velocity, time)])"
      ],
      "metadata": {
        "id": "nMhKhvw3pHpY"
      },
      "execution_count": 24,
      "outputs": []
    },
    {
      "cell_type": "markdown",
      "source": [
        "What we are doing here is creating 10,000 examples, using randomized values for all of our variables, then calculating the location at a certain (randomly selected) time."
      ],
      "metadata": {
        "id": "TmFDIoOgpOLH"
      }
    },
    {
      "cell_type": "code",
      "source": [
        "import numpy as np\n",
        "import matplotlib.pyplot as plt\n",
        "import pandas as pd\n",
        "df = pd.read_csv('/content/gravity_location_data.csv')\n",
        "print(df)"
      ],
      "metadata": {
        "id": "Hx52Kebbp7Wc",
        "outputId": "29debba3-8673-4e24-b573-90a126b13ba7",
        "colab": {
          "base_uri": "https://localhost:8080/"
        }
      },
      "execution_count": 25,
      "outputs": [
        {
          "output_type": "stream",
          "name": "stdout",
          "text": [
            "    initial_position  initial_velocity      mass      time  location\n",
            "0           0.138581          0.061789  0.176690  0.019089  0.137975\n",
            "1           0.139302          0.203033  0.740611  0.541491 -1.187500\n",
            "2           0.015550          0.400995  0.693982  0.714254 -2.197816\n",
            "3           0.507527          0.561191  0.774548  0.743021 -1.780689\n",
            "4           0.656178          0.270555  0.849372  0.092156  0.639497\n",
            "..               ...               ...       ...       ...       ...\n",
            "95          0.094618          0.757971  0.048976  0.262205 -0.043521\n",
            "96          0.115511          0.496748  0.117689  0.847035 -2.979318\n",
            "97          0.989156          0.803398  0.993519  0.876362 -2.070027\n",
            "98          0.069261          0.299830  0.745982  0.694252 -2.084311\n",
            "99          0.648232          0.252579  0.840916  0.389677  0.002600\n",
            "\n",
            "[100 rows x 5 columns]\n"
          ]
        }
      ]
    },
    {
      "cell_type": "code",
      "source": [
        "df['initial_velocity_time']=df['initial_velocity']*df['time']\n",
        "df['time^2']=df['time']*df['time']\n",
        "print(df)"
      ],
      "metadata": {
        "id": "G9Q75xxHwtqY",
        "outputId": "a430daed-c2cc-4594-ffaa-92e2be302fa4",
        "colab": {
          "base_uri": "https://localhost:8080/"
        }
      },
      "execution_count": 26,
      "outputs": [
        {
          "output_type": "stream",
          "name": "stdout",
          "text": [
            "    initial_position  initial_velocity  ...  initial_velocity_time    time^2\n",
            "0           0.138581          0.061789  ...               0.001179  0.000364\n",
            "1           0.139302          0.203033  ...               0.109941  0.293213\n",
            "2           0.015550          0.400995  ...               0.286412  0.510159\n",
            "3           0.507527          0.561191  ...               0.416977  0.552080\n",
            "4           0.656178          0.270555  ...               0.024933  0.008493\n",
            "..               ...               ...  ...                    ...       ...\n",
            "95          0.094618          0.757971  ...               0.198744  0.068752\n",
            "96          0.115511          0.496748  ...               0.420763  0.717468\n",
            "97          0.989156          0.803398  ...               0.704067  0.768010\n",
            "98          0.069261          0.299830  ...               0.208157  0.481986\n",
            "99          0.648232          0.252579  ...               0.098424  0.151848\n",
            "\n",
            "[100 rows x 7 columns]\n"
          ]
        }
      ]
    },
    {
      "cell_type": "markdown",
      "source": [
        "Next, we scale the data"
      ],
      "metadata": {
        "id": "9OUYH7aIyIJL"
      }
    },
    {
      "cell_type": "code",
      "source": [
        "df = df.to_numpy()\n",
        "x = [df[:,0],df[:,5],df[:,6]]\n",
        "y = [df[:,4]]\n",
        "x = np.array(x)\n",
        "print(x)\n",
        "x = x.T\n",
        "y = np.array(y)\n",
        "y = y.T\n",
        "print(y)"
      ],
      "metadata": {
        "id": "6NRbgEH3wGcW",
        "outputId": "aea66953-47c8-40c1-e7d0-1ba4c7b884d1",
        "colab": {
          "base_uri": "https://localhost:8080/"
        }
      },
      "execution_count": 27,
      "outputs": [
        {
          "output_type": "stream",
          "name": "stdout",
          "text": [
            "[[1.38581352e-01 1.39302237e-01 1.55496465e-02 5.07526908e-01\n",
            "  6.56177896e-01 1.78075761e-04 2.49290778e-01 3.06959349e-01\n",
            "  4.75503399e-01 2.32926981e-01 8.57634791e-01 9.70449830e-01\n",
            "  7.09236921e-01 7.77553263e-01 8.80541153e-01 9.00274462e-01\n",
            "  6.00927555e-01 2.98351616e-01 9.14454490e-01 9.54192779e-01\n",
            "  2.46992885e-01 5.51074376e-01 8.72159761e-03 4.78566130e-01\n",
            "  3.33476641e-01 1.73901681e-01 9.84505747e-01 3.79301323e-01\n",
            "  8.05341550e-01 6.88912046e-01 6.20859443e-01 1.80949518e-01\n",
            "  2.57321820e-01 8.37721041e-01 8.63706046e-01 8.45610723e-01\n",
            "  9.95665678e-01 1.00750390e-01 3.25977256e-01 4.86698537e-02\n",
            "  1.40797444e-01 6.49645419e-01 8.78350706e-01 2.36664620e-02\n",
            "  2.67014495e-01 9.91002966e-01 6.85621559e-01 5.34401365e-01\n",
            "  6.52298949e-01 4.85110427e-01 9.39883579e-01 3.73524262e-01\n",
            "  5.24956963e-01 7.61523432e-01 8.92536502e-01 5.52018271e-01\n",
            "  2.91494799e-01 8.38849571e-01 2.21425629e-01 5.45587211e-01\n",
            "  8.62394039e-01 7.27424658e-01 1.17039821e-01 9.29020122e-01\n",
            "  6.94716433e-02 2.00517703e-01 8.50388777e-01 8.96644385e-01\n",
            "  6.06966238e-01 4.95282410e-02 6.41955795e-01 8.66887150e-01\n",
            "  6.11897853e-01 3.06293814e-01 6.75903129e-01 7.41547029e-01\n",
            "  2.66965963e-01 6.92835289e-01 9.10606651e-01 2.19852589e-01\n",
            "  8.35814357e-01 7.22794562e-01 9.94012623e-01 9.73557177e-01\n",
            "  4.13210596e-01 8.56457424e-01 3.48960998e-01 4.25424254e-01\n",
            "  8.38885032e-01 3.93067123e-01 4.70860484e-01 6.27321714e-01\n",
            "  1.41453102e-01 1.45206228e-01 9.83016288e-01 9.46182424e-02\n",
            "  1.15511154e-01 9.89155624e-01 6.92608736e-02 6.48232013e-01]\n",
            " [1.17948070e-03 1.09940698e-01 2.86412354e-01 4.16976939e-01\n",
            "  2.49334127e-02 2.69796431e-01 5.12853535e-01 6.76822895e-02\n",
            "  3.41073843e-01 6.06196939e-02 1.98325106e-01 2.41839295e-01\n",
            "  4.00344717e-01 9.91053920e-02 8.61025561e-01 1.69930551e-02\n",
            "  6.51061131e-01 2.16084400e-01 5.05344838e-01 9.10293360e-02\n",
            "  2.80958235e-03 5.07531638e-01 5.89962948e-02 1.76489200e-01\n",
            "  6.32191326e-01 4.91671027e-01 6.04469273e-02 6.46559803e-01\n",
            "  4.69009407e-02 3.86159640e-01 2.53238635e-01 1.50312571e-02\n",
            "  2.24129897e-01 1.09501858e-01 2.93468578e-01 2.35272682e-01\n",
            "  4.67093326e-02 5.30438238e-01 4.97793790e-01 6.93708679e-02\n",
            "  2.74830570e-02 1.62009604e-01 2.03482058e-02 4.42040903e-02\n",
            "  7.52320361e-02 1.40947783e-02 3.45870954e-02 1.56706811e-02\n",
            "  9.50359996e-02 2.84016783e-01 2.76249999e-01 3.57378783e-02\n",
            "  1.00296024e-01 9.16088371e-02 3.11798376e-01 3.71565065e-01\n",
            "  8.39427565e-01 1.38299921e-01 5.59597775e-03 7.11840355e-02\n",
            "  3.49820658e-02 8.94735562e-03 8.16496480e-01 2.48771895e-01\n",
            "  7.89396886e-02 5.67517336e-01 1.74155017e-01 6.56453531e-02\n",
            "  2.97762921e-02 5.64467693e-01 3.81776793e-01 7.47859461e-01\n",
            "  1.02143759e-03 3.86218820e-01 9.67927297e-02 2.41569486e-03\n",
            "  1.07563603e-01 3.71649353e-01 1.86516853e-01 5.27505753e-01\n",
            "  2.42002373e-02 1.65491332e-02 5.98715935e-01 5.34589675e-01\n",
            "  1.31855684e-01 2.87915860e-01 7.63219280e-02 1.73872128e-01\n",
            "  8.11669509e-01 1.11669930e-02 6.00324168e-03 9.18357747e-02\n",
            "  7.41355512e-02 8.17457139e-01 2.13593392e-01 1.98744170e-01\n",
            "  4.20762983e-01 7.04067300e-01 2.08157256e-01 9.84240782e-02]\n",
            " [3.64378583e-04 2.93212873e-01 5.10158862e-01 5.52080139e-01\n",
            "  8.49280797e-03 1.71615605e-01 8.49460291e-01 3.33623937e-01\n",
            "  4.59023995e-01 4.78474271e-01 1.18555667e-01 4.39562314e-01\n",
            "  2.11260986e-01 3.87651343e-01 9.90368371e-01 2.85257049e-01\n",
            "  6.39141483e-01 4.44529348e-01 8.00575975e-01 5.84605871e-01\n",
            "  8.58936592e-03 4.39297247e-01 2.71872665e-02 1.40907293e-01\n",
            "  5.33654751e-01 9.12809146e-01 1.25308959e-01 5.29539286e-01\n",
            "  3.31810001e-02 3.63345129e-01 3.59676314e-01 1.11915775e-02\n",
            "  9.02623447e-02 5.02456612e-01 5.83271993e-01 1.97101498e-01\n",
            "  2.62629308e-01 3.64705655e-01 6.08652840e-01 2.13589084e-02\n",
            "  8.38749819e-02 5.52097486e-01 1.85921150e-03 1.18561360e-02\n",
            "  1.68643062e-01 5.30277783e-04 2.01965260e-02 8.68314695e-03\n",
            "  2.19060657e-02 3.40590716e-01 1.86298435e-01 1.52072843e-03\n",
            "  1.22417811e-01 2.42532434e-02 9.93055491e-01 7.98269259e-01\n",
            "  7.65876904e-01 4.14201961e-02 4.48969828e-04 8.02105560e-02\n",
            "  2.68828746e-01 2.05506142e-01 6.90660935e-01 1.97016265e-01\n",
            "  3.10619855e-01 3.50355613e-01 4.28549670e-01 7.97110031e-01\n",
            "  1.08940212e-02 4.75705874e-01 3.15858597e-01 5.65405710e-01\n",
            "  8.41851497e-04 5.44117894e-01 1.15940306e-01 5.02239442e-01\n",
            "  8.77855921e-01 1.58236733e-01 4.03541654e-02 8.92625961e-01\n",
            "  2.44752858e-02 5.64622742e-03 5.42816145e-01 5.32550751e-01\n",
            "  1.91536450e-02 1.08921733e-01 9.71612380e-01 6.51205968e-02\n",
            "  8.86479952e-01 1.67268330e-01 2.67876356e-01 1.19943058e-01\n",
            "  7.05608999e-02 9.85552943e-01 5.86674985e-02 6.87517188e-02\n",
            "  7.17467693e-01 7.68010201e-01 4.81985554e-01 1.51848274e-01]]\n",
            "[[ 1.37975378e-01]\n",
            " [-1.18750014e+00]\n",
            " [-2.19781642e+00]\n",
            " [-1.78068884e+00]\n",
            " [ 6.39496550e-01]\n",
            " [-5.70941959e-01]\n",
            " [-3.40021111e+00]\n",
            " [-1.26011565e+00]\n",
            " [-1.43264033e+00]\n",
            " [-2.05097725e+00]\n",
            " [ 4.75037127e-01]\n",
            " [-9.41566212e-01]\n",
            " [ 7.44028066e-02]\n",
            " [-1.02283293e+00]\n",
            " [-3.11123830e+00]\n",
            " [-4.80492025e-01]\n",
            " [-1.87980458e+00]\n",
            " [-1.66375779e+00]\n",
            " [-2.50302295e+00]\n",
            " [-1.81934665e+00]\n",
            " [ 2.07714574e-01]\n",
            " [-1.09395050e+00]\n",
            " [-6.54997132e-02]\n",
            " [-3.53904067e-02]\n",
            " [-1.64924031e+00]\n",
            " [-3.80719211e+00]\n",
            " [ 4.30938773e-01]\n",
            " [-1.56888137e+00]\n",
            " [ 6.89655590e-01]\n",
            " [-7.05319444e-01]\n",
            " [-8.88315863e-01]\n",
            " [ 1.41142045e-01]\n",
            " [ 3.91662276e-02]\n",
            " [-1.51481450e+00]\n",
            " [-1.70085814e+00]\n",
            " [ 1.15086064e-01]\n",
            " [-2.44508599e-01]\n",
            " [-1.15586908e+00]\n",
            " [-2.15862787e+00]\n",
            " [ 1.33820706e-02]\n",
            " [-2.42706910e-01]\n",
            " [-1.89362266e+00]\n",
            " [ 8.89588775e-01]\n",
            " [ 9.77548594e-03]\n",
            " [-4.84104475e-01]\n",
            " [ 1.00249938e+00]\n",
            " [ 6.21245677e-01]\n",
            " [ 5.07524626e-01]\n",
            " [ 6.39995226e-01]\n",
            " [-8.99767299e-01]\n",
            " [ 3.03271247e-01]\n",
            " [ 4.01810571e-01]\n",
            " [ 2.54057153e-02]\n",
            " [ 7.34291376e-01]\n",
            " [-3.66163703e+00]\n",
            " [-2.98793603e+00]\n",
            " [-2.62187447e+00]\n",
            " [ 7.74190531e-01]\n",
            " [ 2.24821655e-01]\n",
            " [ 2.23739522e-01]\n",
            " [-4.19884753e-01]\n",
            " [-2.70608080e-01]\n",
            " [-2.45070228e+00]\n",
            " [ 2.12412317e-01]\n",
            " [-1.37362596e+00]\n",
            " [-9.48707462e-01]\n",
            " [-1.07534959e+00]\n",
            " [-2.94354941e+00]\n",
            " [ 5.83361826e-01]\n",
            " [-1.71696285e+00]\n",
            " [-5.23974536e-01]\n",
            " [-1.15574137e+00]\n",
            " [ 6.08794218e-01]\n",
            " [-1.97366505e+00]\n",
            " [ 2.04588361e-01]\n",
            " [-1.71701054e+00]\n",
            " [-3.92696445e+00]\n",
            " [ 2.89124653e-01]\n",
            " [ 8.99388094e-01]\n",
            " [-3.62650887e+00]\n",
            " [ 7.40085694e-01]\n",
            " [ 7.11677181e-01]\n",
            " [-1.06707055e+00]\n",
            " [-1.10135183e+00]\n",
            " [ 4.51213420e-01]\n",
            " [ 6.10656793e-01]\n",
            " [-4.33561773e+00]\n",
            " [ 2.80205458e-01]\n",
            " [-2.69319722e+00]\n",
            " [-4.15380701e-01]\n",
            " [-8.35730420e-01]\n",
            " [ 1.31436507e-01]\n",
            " [-1.30159756e-01]\n",
            " [-3.86654605e+00]\n",
            " [ 9.09138937e-01]\n",
            " [-4.35210098e-02]\n",
            " [-2.97931756e+00]\n",
            " [-2.07002706e+00]\n",
            " [-2.08431109e+00]\n",
            " [ 2.59954950e-03]]\n"
          ]
        }
      ]
    },
    {
      "cell_type": "markdown",
      "source": [
        "Now, we define functions for cost funciton and gradient descent."
      ],
      "metadata": {
        "id": "Prd7EH5T0XqZ"
      }
    },
    {
      "cell_type": "code",
      "source": [
        "def  computeCost(theta,X,y):\n",
        "    m = float(len(y))\n",
        "    \n",
        "    predictions = X.dot(theta)\n",
        "    cost = (1/(2*m)) * np.sum(np.square(predictions-y))\n",
        "    return cost"
      ],
      "metadata": {
        "id": "mU_Rqzl00UU0"
      },
      "execution_count": 28,
      "outputs": []
    },
    {
      "cell_type": "code",
      "source": [
        "def gradient_descent(X,y,theta,alpha,iterations):\n",
        "    m = float(len(y))\n",
        "    cost_history = np.zeros(iterations)\n",
        "    theta_history = np.zeros((iterations,3))\n",
        "    for it in range(iterations):\n",
        "        \n",
        "        prediction = np.dot(X,theta)\n",
        "        theta = theta -(1/m)*alpha*( X.T.dot((prediction - y)))\n",
        "        theta_history[it,:] = theta.T\n",
        "        cost_history[it]  = computeCost(theta,X,y)\n",
        "        \n",
        "    return theta, cost_history, theta_history"
      ],
      "metadata": {
        "id": "UHUgK7hy0grw"
      },
      "execution_count": 29,
      "outputs": []
    },
    {
      "cell_type": "code",
      "source": [
        "alpha =0.1\n",
        "n_iter = 1000\n",
        "\n",
        "theta = np.random.randn(3,1)\n",
        "print(theta)\n",
        "\n",
        "print(computeCost(theta,x,y))\n",
        "\n",
        "theta,cost_history,theta_history = gradient_descent(x,y,theta,alpha,n_iter)\n",
        "\n",
        "print('Theta0:          {:0.3f},\\nTheta1:          {:0.3f},\\nTheta2:          {:0.3f}'.format(theta[0][0],theta[1][0],theta[2][0]))\n",
        "print('Final cost/MSE:  {:0.3f}'.format(cost_history[-1]))\n",
        "\n",
        "plt.plot(cost_history)\n",
        "plt.xlabel(\"Iteration\")\n",
        "plt.ylabel(\"$J(\\Theta)$\")\n",
        "plt.title(\"Cost function using Gradient Descent\")"
      ],
      "metadata": {
        "id": "mIl42aua0m-6",
        "outputId": "285c87e3-ee68-44ee-be26-af82a490a80d",
        "colab": {
          "base_uri": "https://localhost:8080/",
          "height": 451
        }
      },
      "execution_count": 30,
      "outputs": [
        {
          "output_type": "stream",
          "name": "stdout",
          "text": [
            "[[ 1.79543679]\n",
            " [ 0.72806112]\n",
            " [-0.42984733]]\n",
            "2.5864092200112845\n",
            "Theta0:          0.998,\n",
            "Theta1:          0.736,\n",
            "Theta2:          -4.707\n",
            "Final cost/MSE:  0.001\n"
          ]
        },
        {
          "output_type": "execute_result",
          "data": {
            "text/plain": [
              "Text(0.5, 1.0, 'Cost function using Gradient Descent')"
            ]
          },
          "metadata": {},
          "execution_count": 30
        },
        {
          "output_type": "display_data",
          "data": {
            "image/png": "[encoded data removed]",
            "text/plain": [
              "<Figure size 432x288 with 1 Axes>"
            ]
          },
          "metadata": {
            "needs_background": "light"
          }
        }
      ]
    },
    {
      "cell_type": "markdown",
      "source": [
        "This gives us coefficients correspond to each of the three features from above. The first value from our array ( 1.00000000e+00, or 1) is the coefficient on “initial_position.” And in fact, in our original equation, we have the initial velocity ($X_{0}$) with a coefficient of one. \n",
        "\n",
        "The second in our list is also a coefficient of 1, which corresponds to ‘initial_velocity time,’ or initial velocity multiplied by time. Again, we have this factor in our original equation, which appears as $V_{0}t$. \n",
        "\n",
        "Finally, the very last value is -4.9, which is the coefficient corresponding to ‘time ^ 2.’ Note that this also appears in our original equation as $\\frac{1}{2}gt^{2}$. But we said earlier that $g$ is approximately 9.8, and $-\\frac{1}{2} * 9.8 = -4.9$. So this also corresponds with our original equation."
      ],
      "metadata": {
        "id": "VkqwE4eXsBLE"
      }
    },
    {
      "cell_type": "code",
      "source": [
        "x_0 = df[80:82,0]\n",
        "v_0 = df[80:82,1]\n",
        "t = df[80:82,3]\n",
        "time = np.linspace(0,1,100)\n",
        "y_grad = x_0[0]+v_0[0]*time-4.9*time**2\n",
        "y_grad2 = x_0[1]+v_0[1]*time-4.9*time**2\n",
        "\n",
        "plt.scatter(t, df[80:82,4],label='Random examples', color='red')\n",
        "\n",
        "plt.plot(time,y_grad,'b-',label='Gradient Descent',color='blue')\n",
        "plt.plot(time,y_grad2,'b-',label='Gradient Descent',color='green')\n",
        "plt.title(' Location of a falling object vs Time', fontsize=14)\n",
        "plt.xlabel('Time', fontsize=14)\n",
        "plt.ylabel('Location', fontsize=14)\n",
        "plt.legend(loc='lower left')\n",
        "plt.grid(True)\n",
        "plt.xlim(0,1.2)\n",
        "plt.ylim(-2,1)\n",
        "plt.show()"
      ],
      "metadata": {
        "id": "YnyWJCBg2t6c",
        "outputId": "725fe7aa-805d-4be1-ef37-251c44ebe0df",
        "colab": {
          "base_uri": "https://localhost:8080/",
          "height": 300
        }
      },
      "execution_count": 50,
      "outputs": [
        {
          "output_type": "display_data",
          "data": {
            "image/png": "[encoded data removed]",
            "text/plain": [
              "<Figure size 432x288 with 1 Axes>"
            ]
          },
          "metadata": {
            "needs_background": "light"
          }
        }
      ]
    },
    {
      "cell_type": "code",
      "source": [
        ""
      ],
      "metadata": {
        "id": "ofnMxuwCLHs2"
      },
      "execution_count": null,
      "outputs": []
    }
  ]
}