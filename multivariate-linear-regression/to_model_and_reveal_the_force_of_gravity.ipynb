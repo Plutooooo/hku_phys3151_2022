{
  "nbformat": 4,
  "nbformat_minor": 0,
  "metadata": {
    "colab": {
      "name": "to model and reveal the force of gravity.ipynb",
      "provenance": [],
      "authorship_tag": "ABX9TyOHC19gj3IQv2S7cn4NN+bO",
      "include_colab_link": true
    },
    "kernelspec": {
      "name": "python3",
      "display_name": "Python 3"
    },
    "language_info": {
      "name": "python"
    }
  },
  "cells": [
    {
      "cell_type": "markdown",
      "metadata": {
        "id": "view-in-github",
        "colab_type": "text"
      },
      "source": [
        "<a href=\"https://colab.research.google.com/github/Plutooooo/hku_phys3151_2022/blob/main/multivariate-linear-regression/to_model_and_reveal_the_force_of_gravity.ipynb\" target=\"_parent\"><img src=\"https://colab.research.google.com/assets/colab-badge.svg\" alt=\"Open In Colab\"/></a>"
      ]
    },
    {
      "cell_type": "markdown",
      "source": [
        "# Using polynomial regression to model and reveal the force of gravity"
      ],
      "metadata": {
        "id": "aqWz9kqbl9YX"
      }
    },
    {
      "cell_type": "markdown",
      "source": [
        "We will take a look at a simple example: the force of gravity on a falling object. The formula for the location of a falling object is:\n",
        "\n",
        "\\begin{eqnarray}\n",
        "y=X_{0}+V_{0}t-\\frac{1}{2}gt^{2}\n",
        "\\end{eqnarray}\n",
        "\n",
        "where $X_{0}$ is the initial location of the object, i.e. its initial height.\n",
        "$V_{0}$ is the initial velocity (or speed) of the object when it is at this initial position. $t$ is the time after the object was dropped. $g$ is the force of gravity, which is an acceleration of approximately 9.8 $m/s^{2}$. This is actually a constant not a variable like all of the others (unless we are dropping an object on different planets, which are not). It is negative because the force of gravity is downward, from a positive location value toward zero."
      ],
      "metadata": {
        "id": "nXL58ogzmONQ"
      }
    },
    {
      "cell_type": "markdown",
      "source": [
        "First, we will create a Python function to calculate the location of a falling object"
      ],
      "metadata": {
        "id": "jo98J0Dro2yc"
      }
    },
    {
      "cell_type": "code",
      "source": [
        "def location(x_0, v_0, t):\n",
        "    return x_0 + v_0*t - (9.8/2)*t**2"
      ],
      "metadata": {
        "id": "qWUscPHgo6Yq"
      },
      "execution_count": 1,
      "outputs": []
    },
    {
      "cell_type": "markdown",
      "source": [
        "Next, we use this function to create a dataset and save it in a CSV file"
      ],
      "metadata": {
        "id": "B4tnqItmpCii"
      }
    },
    {
      "cell_type": "code",
      "source": [
        "import csv\n",
        "import random\n",
        "import math\n",
        "random.seed\n",
        "with open('gravity_location_data.csv', mode='w') as gravity_file:\n",
        "    gravity_writer = csv.writer(gravity_file, delimiter=',', quotechar='\"', quoting=csv.QUOTE_MINIMAL)\n",
        "    gravity_writer.writerow(['initial_position', 'initial_velocity', 'mass', 'time', 'location'])\n",
        "    for i in range (0, 10000):\n",
        "        initial_position = random.uniform(0,1)\n",
        "        initial_velocity = random.uniform(0,1)\n",
        "        mass = random.uniform(0,1)\n",
        "        time = random.uniform(0,1)\n",
        "        gravity_writer.writerow([initial_position, initial_velocity, mass, time, location(initial_position, initial_velocity, time)])"
      ],
      "metadata": {
        "id": "nMhKhvw3pHpY"
      },
      "execution_count": 2,
      "outputs": []
    },
    {
      "cell_type": "markdown",
      "source": [
        "What we are doing here is creating 10,000 examples, using randomized values for all of our variables, then calculating the location at a certain (randomly selected) time."
      ],
      "metadata": {
        "id": "TmFDIoOgpOLH"
      }
    },
    {
      "cell_type": "code",
      "source": [
        "import numpy as np\n",
        "import matplotlib.pyplot as plt\n",
        "import pandas as pd\n",
        "df = pd.read_csv('/content/gravity_location_data.csv')\n",
        "print(df)"
      ],
      "metadata": {
        "id": "Hx52Kebbp7Wc",
        "outputId": "97111a3b-a967-403f-f62d-b83689cbf679",
        "colab": {
          "base_uri": "https://localhost:8080/"
        }
      },
      "execution_count": 3,
      "outputs": [
        {
          "output_type": "stream",
          "name": "stdout",
          "text": [
            "      initial_position  initial_velocity      mass      time  location\n",
            "0             0.915859          0.242772  0.949562  0.732662 -1.536563\n",
            "1             0.443968          0.322196  0.503233  0.704134 -1.758606\n",
            "2             0.335850          0.268673  0.517430  0.833004 -2.840431\n",
            "3             0.736968          0.066624  0.670178  0.791428 -2.279457\n",
            "4             0.631702          0.351265  0.754492  0.318522  0.246452\n",
            "...                ...               ...       ...       ...       ...\n",
            "9995          0.620745          0.839724  0.768666  0.020239  0.635733\n",
            "9996          0.730391          0.013297  0.632981  0.436184 -0.196067\n",
            "9997          0.361198          0.680471  0.679833  0.588633 -0.936052\n",
            "9998          0.305355          0.365860  0.389722  0.530554 -0.879826\n",
            "9999          0.118504          0.069954  0.891195  0.303184 -0.310697\n",
            "\n",
            "[10000 rows x 5 columns]\n"
          ]
        }
      ]
    },
    {
      "cell_type": "code",
      "source": [
        "df['initial_velocity_time']=df['initial_velocity']*df['time']\n",
        "df['time^2']=df['time']*df['time']\n",
        "print(df)"
      ],
      "metadata": {
        "id": "G9Q75xxHwtqY",
        "outputId": "7f147509-ed96-4b74-b401-87b4cdb1a452",
        "colab": {
          "base_uri": "https://localhost:8080/"
        }
      },
      "execution_count": 4,
      "outputs": [
        {
          "output_type": "stream",
          "name": "stdout",
          "text": [
            "      initial_position  initial_velocity  ...  initial_velocity_time    time^2\n",
            "0             0.915859          0.242772  ...               0.177870  0.536794\n",
            "1             0.443968          0.322196  ...               0.226869  0.495805\n",
            "2             0.335850          0.268673  ...               0.223806  0.693895\n",
            "3             0.736968          0.066624  ...               0.052728  0.626358\n",
            "4             0.631702          0.351265  ...               0.111886  0.101456\n",
            "...                ...               ...  ...                    ...       ...\n",
            "9995          0.620745          0.839724  ...               0.016995  0.000410\n",
            "9996          0.730391          0.013297  ...               0.005800  0.190257\n",
            "9997          0.361198          0.680471  ...               0.400548  0.346489\n",
            "9998          0.305355          0.365860  ...               0.194108  0.281488\n",
            "9999          0.118504          0.069954  ...               0.021209  0.091920\n",
            "\n",
            "[10000 rows x 7 columns]\n"
          ]
        }
      ]
    },
    {
      "cell_type": "markdown",
      "source": [
        "Next, we scale the data"
      ],
      "metadata": {
        "id": "9OUYH7aIyIJL"
      }
    },
    {
      "cell_type": "code",
      "source": [
        "df = df.to_numpy()\n",
        "x = [df[:,0],df[:,5],df[:,6]]\n",
        "y = [df[:,4]]\n",
        "x = np.array(x)\n",
        "#print(x)\n",
        "x = x.T\n",
        "y = np.array(y)\n",
        "y = y.T\n",
        "#print(y)"
      ],
      "metadata": {
        "id": "6NRbgEH3wGcW"
      },
      "execution_count": 5,
      "outputs": []
    },
    {
      "cell_type": "markdown",
      "source": [
        "Now, we define functions for cost funciton and gradient descent."
      ],
      "metadata": {
        "id": "Prd7EH5T0XqZ"
      }
    },
    {
      "cell_type": "code",
      "source": [
        "def  computeCost(theta,X,y):\n",
        "    m = float(len(y))\n",
        "    \n",
        "    predictions = X.dot(theta)\n",
        "    cost = (1/(2*m)) * np.sum(np.square(predictions-y))\n",
        "    return cost"
      ],
      "metadata": {
        "id": "mU_Rqzl00UU0"
      },
      "execution_count": 6,
      "outputs": []
    },
    {
      "cell_type": "code",
      "source": [
        "def gradient_descent(X,y,theta,alpha,iterations):\n",
        "    m = float(len(y))\n",
        "    cost_history = np.zeros(iterations)\n",
        "    theta_history = np.zeros((iterations,3))\n",
        "    for it in range(iterations):\n",
        "        \n",
        "        prediction = np.dot(X,theta)\n",
        "        theta = theta -(1/m)*alpha*( X.T.dot((prediction - y)))\n",
        "        theta_history[it,:] = theta.T\n",
        "        cost_history[it]  = computeCost(theta,X,y)\n",
        "        \n",
        "    return theta, cost_history, theta_history"
      ],
      "metadata": {
        "id": "UHUgK7hy0grw"
      },
      "execution_count": 7,
      "outputs": []
    },
    {
      "cell_type": "code",
      "source": [
        "alpha =0.1\n",
        "n_iter = 10000\n",
        "\n",
        "theta = np.random.randn(3,1)\n",
        "print(theta)\n",
        "\n",
        "print(computeCost(theta,x,y))\n",
        "\n",
        "theta,cost_history,theta_history = gradient_descent(x,y,theta,alpha,n_iter)\n",
        "\n",
        "print('Theta0:          {:0.3f},\\nTheta1:          {:0.3f},\\nTheta2:          {:0.3f}'.format(theta[0][0],theta[1][0],theta[2][0]))\n",
        "print('Final cost/MSE:  {:0.3f}'.format(cost_history[-1]))\n",
        "\n",
        "plt.plot(cost_history)\n",
        "plt.xlabel(\"Iteration\")\n",
        "plt.ylabel(\"$J(\\Theta)$\")\n",
        "plt.title(\"Cost function using Gradient Descent\")"
      ],
      "metadata": {
        "id": "mIl42aua0m-6",
        "outputId": "69b9953d-c273-4a11-a8a1-df7befade600",
        "colab": {
          "base_uri": "https://localhost:8080/",
          "height": 448
        }
      },
      "execution_count": 8,
      "outputs": [
        {
          "output_type": "stream",
          "name": "stdout",
          "text": [
            "[[ 0.41484071]\n",
            " [-0.06379743]\n",
            " [-0.0078693 ]]\n",
            "1.4256541245608354\n",
            "Theta0:          1.000,\n",
            "Theta1:          1.000,\n",
            "Theta2:          -4.900\n",
            "Final cost/MSE:  0.000\n"
          ]
        },
        {
          "output_type": "execute_result",
          "data": {
            "text/plain": [
              "Text(0.5, 1.0, 'Cost function using Gradient Descent')"
            ]
          },
          "metadata": {},
          "execution_count": 8
        },
        {
          "output_type": "display_data",
          "data": {
            "image/png": "[encoded data removed]",
            "text/plain": [
              "<Figure size 432x288 with 1 Axes>"
            ]
          },
          "metadata": {
            "needs_background": "light"
          }
        }
      ]
    },
    {
      "cell_type": "markdown",
      "source": [
        "This gives us coefficients correspond to each of the three features from above. The first value from our array ( 1.00000000e+00, or 1) is the coefficient on “initial_position.” And in fact, in our original equation, we have the initial velocity ($X_{0}$) with a coefficient of one. \n",
        "\n",
        "The second in our list is also a coefficient of 1, which corresponds to ‘initial_velocity time,’ or initial velocity multiplied by time. Again, we have this factor in our original equation, which appears as $V_{0}t$. \n",
        "\n",
        "Finally, the very last value is -4.9, which is the coefficient corresponding to ‘time ^ 2.’ Note that this also appears in our original equation as $\\frac{1}{2}gt^{2}$. But we said earlier that $g$ is approximately 9.8, and $-\\frac{1}{2} * 9.8 = -4.9$. So this also corresponds with our original equation."
      ],
      "metadata": {
        "id": "VkqwE4eXsBLE"
      }
    },
    {
      "cell_type": "code",
      "source": [
        "x_0 = df[:,0]\n",
        "v_0 = df[:,1]\n",
        "t = df[:,3]\n",
        "y_grad = x_0+v_0*t-4.9*t**2\n",
        "\n",
        "plt.scatter(t, df[:,4],label='Random examples', color='red')\n",
        "plt.plot(t,y_grad,'b-',label='Gradient Descent',color='blue')\n",
        "plt.title(' Location of a falling object vs Time', fontsize=14)\n",
        "plt.xlabel('Time', fontsize=14)\n",
        "plt.ylabel('Location', fontsize=14)\n",
        "plt.legend(loc='lower left')\n",
        "plt.grid(True)\n",
        "plt.show()"
      ],
      "metadata": {
        "id": "YnyWJCBg2t6c",
        "outputId": "0c51a2ae-34e5-4ebf-a6df-64e5cae06773",
        "colab": {
          "base_uri": "https://localhost:8080/",
          "height": 300
        }
      },
      "execution_count": 31,
      "outputs": [
        {
          "output_type": "display_data",
          "data": {
            "image/png": "[encoded data removed]",
            "text/plain": [
              "<Figure size 432x288 with 1 Axes>"
            ]
          },
          "metadata": {
            "needs_background": "light"
          }
        }
      ]
    }
  ]
}