{
  "nbformat": 4,
  "nbformat_minor": 0,
  "metadata": {
    "colab": {
      "name": "to model and reveal the force of gravity.ipynb",
      "provenance": [],
      "authorship_tag": "ABX9TyPDPTgGv03FW39zgRMCBB49",
      "include_colab_link": true
    },
    "kernelspec": {
      "name": "python3",
      "display_name": "Python 3"
    },
    "language_info": {
      "name": "python"
    }
  },
  "cells": [
    {
      "cell_type": "markdown",
      "metadata": {
        "id": "view-in-github",
        "colab_type": "text"
      },
      "source": [
        "<a href=\"https://colab.research.google.com/github/Plutooooo/hku_phys3151_2022/blob/main/multivariate-linear-regression/to_model_and_reveal_the_force_of_gravity.ipynb\" target=\"_parent\"><img src=\"https://colab.research.google.com/assets/colab-badge.svg\" alt=\"Open In Colab\"/></a>"
      ]
    },
    {
      "cell_type": "markdown",
      "source": [
        "# Using polynomial regression to model and reveal the force of gravity"
      ],
      "metadata": {
        "id": "aqWz9kqbl9YX"
      }
    },
    {
      "cell_type": "markdown",
      "source": [
        "We will take a look at a simple example: the force of gravity on a falling object. The formula for the location of a falling object is:\n",
        "\n",
        "\\begin{eqnarray}\n",
        "y=X_{0}+V_{0}t-\\frac{1}{2}gt^{2}\n",
        "\\end{eqnarray}\n",
        "\n",
        "where $X_{0}$ is the initial location of the object, i.e. its initial height.\n",
        "$V_{0}$ is the initial velocity (or speed) of the object when it is at this initial position. $t$ is the time after the object was dropped. $g$ is the force of gravity, which is an acceleration of approximately 9.8 $m/s^{2}$. This is actually a constant not a variable like all of the others (unless we are dropping an object on different planets, which are not). It is negative because the force of gravity is downward, from a positive location value toward zero."
      ],
      "metadata": {
        "id": "nXL58ogzmONQ"
      }
    },
    {
      "cell_type": "markdown",
      "source": [
        "First, we will create a Python function to calculate the location of a falling object"
      ],
      "metadata": {
        "id": "jo98J0Dro2yc"
      }
    },
    {
      "cell_type": "code",
      "source": [
        "def location(x_0, v_0, t):\n",
        "    return x_0 + v_0*t - (9.8/2)*t**2"
      ],
      "metadata": {
        "id": "qWUscPHgo6Yq"
      },
      "execution_count": null,
      "outputs": []
    },
    {
      "cell_type": "markdown",
      "source": [
        "Next, we use this function to create a dataset and save it in a CSV file"
      ],
      "metadata": {
        "id": "B4tnqItmpCii"
      }
    },
    {
      "cell_type": "code",
      "source": [
        "import csv\n",
        "import random\n",
        "import math\n",
        "random.seed\n",
        "with open('gravity_location_data.csv', mode='w') as gravity_file:\n",
        "    gravity_writer = csv.writer(gravity_file, delimiter=',', quotechar='\"', quoting=csv.QUOTE_MINIMAL)\n",
        "    gravity_writer.writerow(['initial_position', 'initial_velocity', 'mass', 'time', 'location'])\n",
        "for i in range (0, 10000):\n",
        "        initial_position = random.randrange(1, 10000)\n",
        "        initial_velocity = random.randrange(1, 100)\n",
        "        mass = random.randrange(1, 1000)\n",
        "        time = random.randrange(1, 100)\n",
        "gravity_writer.writerow([initial_position, initial_velocity, mass, time, location(initial_position, initial_velocity, time)])"
      ],
      "metadata": {
        "id": "nMhKhvw3pHpY"
      },
      "execution_count": null,
      "outputs": []
    },
    {
      "cell_type": "markdown",
      "source": [
        "What we are doing here is creating 10,000 examples, using randomized values for all of our variables, then calculating the location at a certain (randomly selected) time."
      ],
      "metadata": {
        "id": "TmFDIoOgpOLH"
      }
    },
    {
      "cell_type": "markdown",
      "source": [
        "Now that we have our data in a CSV file, we import it"
      ],
      "metadata": {
        "id": "SvRWbcLRp0vv"
      }
    },
    {
      "cell_type": "code",
      "source": [
        "import pandas as pd\n",
        "gravity_data = pd.read_csv('gravity_location_data.csv')\n",
        "df_location = pd.DataFrame(gravity_data)"
      ],
      "metadata": {
        "id": "DYFVtgLWp5bZ"
      },
      "execution_count": null,
      "outputs": []
    },
    {
      "cell_type": "markdown",
      "source": [
        "This data will not actually be linear but scitkit-learn gives us the ability modify the data so that it can be trained as a LinearRegression model, while taking into account that it is actually a polynomial."
      ],
      "metadata": {
        "id": "wDxEyDO0qiJn"
      }
    },
    {
      "cell_type": "code",
      "source": [
        "from sklearn.model_selection import train_test_split\n",
        "def split_data(data, target_name):\n",
        "    y = data[target_name]\n",
        "    X = data.drop(target_name, axis=1)\n",
        "    return train_test_split(X, y, test_size=0.2, random_state=30)"
      ],
      "metadata": {
        "id": "AeM_DPlEqvT7"
      },
      "execution_count": null,
      "outputs": []
    },
    {
      "cell_type": "code",
      "source": [
        "from sklearn.linear_model import LinearRegression\n",
        "from sklearn.preprocessing import PolynomialFeatures\n",
        "from sklearn.metrics import mean_squared_error, mean_absolute_error, r2_score\n",
        "from math import sqrt\n",
        "def train_eval_poly(X_train, X_test, y_train, y_test):\n",
        "    regression_model = LinearRegression() \n",
        "    \n",
        "    poly = PolynomialFeatures(degree=2)\n",
        "    X_train_transform = poly.fit_transform(X_train)\n",
        "    X_test_transform = poly.fit_transform(X_test)\n",
        "    \n",
        "    regression_model.fit(X_train_transform, y_train)\n",
        "    \n",
        "    print(poly.fit(X_train).get_feature_names(X_train.columns))\n",
        "    \n",
        "    y_pred = regression_model.predict(X_test_transform)\n",
        "    print(\"R2: \\t\", r2_score(y_test, y_pred))\n",
        "    print(\"RMSE: \\t\", sqrt(mean_squared_error(y_test, y_pred)))\n",
        "    print(\"MAE: \\t\", mean_absolute_error(y_test, y_pred))\n",
        "    \n",
        "    return regression_model"
      ],
      "metadata": {
        "id": "_lCqlyeLqxK2"
      },
      "execution_count": null,
      "outputs": []
    },
    {
      "cell_type": "markdown",
      "source": [
        "Now we train the model with this code\n"
      ],
      "metadata": {
        "id": "1O7WPekfrBfa"
      }
    },
    {
      "cell_type": "code",
      "source": [
        "df_split = split_data(df_location, 'location')\n",
        "lrModel = train_eval_poly(*df_split)"
      ],
      "metadata": {
        "id": "KtPwrqlhrGq9"
      },
      "execution_count": null,
      "outputs": []
    },
    {
      "cell_type": "markdown",
      "source": [
        "Note that the $R^{2}$ value is 1.0. Also, the root mean squared error (RMSE) and mean absolute error (MAE) are tiny. At this scale that is minuscule, essentially zero."
      ],
      "metadata": {
        "id": "2iAbANPFrToZ"
      }
    },
    {
      "cell_type": "markdown",
      "source": [
        "Now let’s look at the exponents on our model, which are the exponents on the polynomial equation the model is using to make predictions"
      ],
      "metadata": {
        "id": "KScqUEX9rrAy"
      }
    },
    {
      "cell_type": "code",
      "source": [
        "lrModel.coef_"
      ],
      "metadata": {
        "id": "lVXhE2JDrtug"
      },
      "execution_count": null,
      "outputs": []
    },
    {
      "cell_type": "markdown",
      "source": [
        "This gives us coefficients correspond to each of the fifteen features from above. The first value (0.00000000e+00, or 0) is the coefficient for the value 1. That would be hanging constant with no variable, a constant value always added to the equation, except that the coefficient is zero so there is no constant value added to our result. The second value from our array ( 1.00000000e+00, or 1) is the coefficient on “initial_position.” And in fact, in our original equation, we have the initial velocity ($X_{0}$) with a coefficient of one.\n",
        "\n",
        "<br>\n",
        "\n",
        "Most of our other coefficients are essentially zero, and tell us that these factors are irrelevant to predicting the location, but we do have a few that are not. The twelfth in our list is also a coefficient of 1, which corresponds to ‘initial_velocity time,’ or initial velocity multiplied by time. Again, we have this factor in our original equation, which appears as $V_{0}t$.\n",
        "\n",
        "<br>\n",
        "\n",
        "Finally, the very last value is -4.9, which is the coefficient corresponding to ‘time ^ 2.’ Note that this also appears in our original equation as $\\frac{1}{2}gt^{2}$. But we said earlier that $g$ is approximately 9.8, and $-\\frac{1}{2} * 9.8 = -4.9$. So this also corresponds with our original equation.\n",
        "\n",
        "<br>\n",
        "\n",
        "There are two very interesting final points to be made here. First, the resulting model found the mass to be irrelevant to making the prediction, which is correct. Second, the machine learning algorithm was able to derive the gravitational acceleration constant g, or at least determine the value of the entire coefficient $(-\\frac{1}{2} * 9.8)$ which includes $g$."
      ],
      "metadata": {
        "id": "VkqwE4eXsBLE"
      }
    }
  ]
}