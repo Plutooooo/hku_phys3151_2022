{
  "nbformat": 4,
  "nbformat_minor": 0,
  "metadata": {
    "colab": {
      "name": "to model and reveal the force of gravity.ipynb",
      "provenance": [],
      "authorship_tag": "ABX9TyMCagDlYLEt39x6KjgmkT1K",
      "include_colab_link": true
    },
    "kernelspec": {
      "name": "python3",
      "display_name": "Python 3"
    },
    "language_info": {
      "name": "python"
    }
  },
  "cells": [
    {
      "cell_type": "markdown",
      "metadata": {
        "id": "view-in-github",
        "colab_type": "text"
      },
      "source": [
        "<a href=\"https://colab.research.google.com/github/Plutooooo/hku_phys3151_2022/blob/main/multivariate-linear-regression/to_model_and_reveal_the_force_of_gravity.ipynb\" target=\"_parent\"><img src=\"https://colab.research.google.com/assets/colab-badge.svg\" alt=\"Open In Colab\"/></a>"
      ]
    },
    {
      "cell_type": "markdown",
      "source": [
        "# Using polynomial regression to model and reveal the force of gravity"
      ],
      "metadata": {
        "id": "aqWz9kqbl9YX"
      }
    },
    {
      "cell_type": "markdown",
      "source": [
        "We will take a look at a simple example: the force of gravity on a falling object. The formula for the location of a falling object is:\n",
        "\n",
        "\\begin{eqnarray}\n",
        "y=X_{0}+V_{0}t-\\frac{1}{2}gt^{2}\n",
        "\\end{eqnarray}\n",
        "\n",
        "where $X_{0}$ is the initial location of the object, i.e. its initial height.\n",
        "$V_{0}$ is the initial velocity (or speed) of the object when it is at this initial position. $t$ is the time after the object was dropped. $g$ is the force of gravity, which is an acceleration of approximately 9.8 $m/s^{2}$. This is actually a constant not a variable like all of the others (unless we are dropping an object on different planets, which are not). It is negative because the force of gravity is downward, from a positive location value toward zero."
      ],
      "metadata": {
        "id": "nXL58ogzmONQ"
      }
    },
    {
      "cell_type": "markdown",
      "source": [
        "First, we will create a Python function to calculate the location of a falling object"
      ],
      "metadata": {
        "id": "jo98J0Dro2yc"
      }
    },
    {
      "cell_type": "code",
      "source": [
        "def location(x_0, v_0, t):\n",
        "    return x_0 + v_0*t - (9.8/2)*t**2"
      ],
      "metadata": {
        "id": "qWUscPHgo6Yq"
      },
      "execution_count": 1,
      "outputs": []
    },
    {
      "cell_type": "markdown",
      "source": [
        "Next, we use this function to create a dataset and save it in a CSV file"
      ],
      "metadata": {
        "id": "B4tnqItmpCii"
      }
    },
    {
      "cell_type": "code",
      "source": [
        "import csv\n",
        "import random\n",
        "import math\n",
        "random.seed\n",
        "with open('gravity_location_data.csv', mode='w') as gravity_file:\n",
        "    gravity_writer = csv.writer(gravity_file, delimiter=',', quotechar='\"', quoting=csv.QUOTE_MINIMAL)\n",
        "    gravity_writer.writerow(['initial_position', 'initial_velocity', 'mass', 'time', 'location'])\n",
        "    for i in range (0, 10000):\n",
        "        initial_position = random.uniform(0,1)\n",
        "        initial_velocity = random.uniform(0,1)\n",
        "        mass = random.uniform(0,1)\n",
        "        time = random.uniform(0,1)\n",
        "        gravity_writer.writerow([initial_position, initial_velocity, mass, time, location(initial_position, initial_velocity, time)])"
      ],
      "metadata": {
        "id": "nMhKhvw3pHpY"
      },
      "execution_count": 2,
      "outputs": []
    },
    {
      "cell_type": "markdown",
      "source": [
        "What we are doing here is creating 10,000 examples, using randomized values for all of our variables, then calculating the location at a certain (randomly selected) time."
      ],
      "metadata": {
        "id": "TmFDIoOgpOLH"
      }
    },
    {
      "cell_type": "code",
      "source": [
        "import numpy as np\n",
        "import matplotlib.pyplot as plt\n",
        "import pandas as pd\n",
        "df = pd.read_csv('/content/gravity_location_data.csv')\n",
        "print(df)"
      ],
      "metadata": {
        "id": "Hx52Kebbp7Wc",
        "outputId": "24ab8c19-6e00-4656-ad4c-e872a2d47cf4",
        "colab": {
          "base_uri": "https://localhost:8080/"
        }
      },
      "execution_count": 3,
      "outputs": [
        {
          "output_type": "stream",
          "name": "stdout",
          "text": [
            "      initial_position  initial_velocity      mass      time  location\n",
            "0             0.683255          0.625416  0.961955  0.689871 -1.217307\n",
            "1             0.567541          0.176405  0.686904  0.362317 -0.011785\n",
            "2             0.643994          0.755164  0.090814  0.654675 -0.961757\n",
            "3             0.074788          0.129791  0.497255  0.291631 -0.304100\n",
            "4             0.185041          0.810707  0.293577  0.439207 -0.404115\n",
            "...                ...               ...       ...       ...       ...\n",
            "9995          0.276105          0.632381  0.090042  0.540624 -0.814160\n",
            "9996          0.861143          0.566950  0.893897  0.129493  0.852394\n",
            "9997          0.388516          0.004476  0.784135  0.985617 -4.367130\n",
            "9998          0.042918          0.475465  0.351846  0.493969 -0.917844\n",
            "9999          0.416736          0.748529  0.509820  0.857941 -2.547776\n",
            "\n",
            "[10000 rows x 5 columns]\n"
          ]
        }
      ]
    },
    {
      "cell_type": "code",
      "source": [
        "df['initial_velocity_time']=df['initial_velocity']*df['time']\n",
        "df['time^2']=df['time']*df['time']\n",
        "print(df)"
      ],
      "metadata": {
        "id": "G9Q75xxHwtqY",
        "outputId": "3c15df1d-0459-48ef-90b6-8215ebffc2a8",
        "colab": {
          "base_uri": "https://localhost:8080/"
        }
      },
      "execution_count": 4,
      "outputs": [
        {
          "output_type": "stream",
          "name": "stdout",
          "text": [
            "      initial_position  initial_velocity  ...  initial_velocity_time    time^2\n",
            "0             0.683255          0.625416  ...               0.431457  0.475922\n",
            "1             0.567541          0.176405  ...               0.063914  0.131274\n",
            "2             0.643994          0.755164  ...               0.494387  0.428600\n",
            "3             0.074788          0.129791  ...               0.037851  0.085049\n",
            "4             0.185041          0.810707  ...               0.356068  0.192903\n",
            "...                ...               ...  ...                    ...       ...\n",
            "9995          0.276105          0.632381  ...               0.341880  0.292275\n",
            "9996          0.861143          0.566950  ...               0.073416  0.016768\n",
            "9997          0.388516          0.004476  ...               0.004412  0.971440\n",
            "9998          0.042918          0.475465  ...               0.234865  0.244005\n",
            "9999          0.416736          0.748529  ...               0.642194  0.736062\n",
            "\n",
            "[10000 rows x 7 columns]\n"
          ]
        }
      ]
    },
    {
      "cell_type": "markdown",
      "source": [
        "Next, we scale the data"
      ],
      "metadata": {
        "id": "9OUYH7aIyIJL"
      }
    },
    {
      "cell_type": "code",
      "source": [
        "df = df.to_numpy()\n",
        "x = [df[:,0],df[:,5],df[:,6]]\n",
        "y = [df[:,4]]\n",
        "x = np.array(x)\n",
        "#print(x)\n",
        "x = x.T\n",
        "y = np.array(y)\n",
        "y = y.T\n",
        "#print(y)"
      ],
      "metadata": {
        "id": "6NRbgEH3wGcW"
      },
      "execution_count": 5,
      "outputs": []
    },
    {
      "cell_type": "markdown",
      "source": [
        "Now, we define functions for cost funciton and gradient descent."
      ],
      "metadata": {
        "id": "Prd7EH5T0XqZ"
      }
    },
    {
      "cell_type": "code",
      "source": [
        "def  computeCost(theta,X,y):\n",
        "    m = float(len(y))\n",
        "    \n",
        "    predictions = X.dot(theta)\n",
        "    cost = (1/(2*m)) * np.sum(np.square(predictions-y))\n",
        "    return cost"
      ],
      "metadata": {
        "id": "mU_Rqzl00UU0"
      },
      "execution_count": 6,
      "outputs": []
    },
    {
      "cell_type": "code",
      "source": [
        "def gradient_descent(X,y,theta,alpha,iterations):\n",
        "    m = float(len(y))\n",
        "    cost_history = np.zeros(iterations)\n",
        "    theta_history = np.zeros((iterations,3))\n",
        "    for it in range(iterations):\n",
        "        \n",
        "        prediction = np.dot(X,theta)\n",
        "        theta = theta -(1/m)*alpha*( X.T.dot((prediction - y)))\n",
        "        theta_history[it,:] = theta.T\n",
        "        cost_history[it]  = computeCost(theta,X,y)\n",
        "        \n",
        "    return theta, cost_history, theta_history"
      ],
      "metadata": {
        "id": "UHUgK7hy0grw"
      },
      "execution_count": 7,
      "outputs": []
    },
    {
      "cell_type": "code",
      "source": [
        "alpha =0.1\n",
        "n_iter = 10000\n",
        "\n",
        "theta = np.random.randn(3,1)\n",
        "print(theta)\n",
        "\n",
        "print(computeCost(theta,x,y))\n",
        "\n",
        "theta,cost_history,theta_history = gradient_descent(x,y,theta,alpha,n_iter)\n",
        "\n",
        "print('Theta0:          {:0.3f},\\nTheta1:          {:0.3f},\\nTheta2:          {:0.3f}'.format(theta[0][0],theta[1][0],theta[2][0]))\n",
        "print('Final cost/MSE:  {:0.3f}'.format(cost_history[-1]))\n",
        "\n",
        "plt.plot(cost_history)\n",
        "plt.xlabel(\"Iteration\")\n",
        "plt.ylabel(\"$J(\\Theta)$\")\n",
        "plt.title(\"Cost function using Gradient Descent\")"
      ],
      "metadata": {
        "id": "mIl42aua0m-6",
        "outputId": "5f66bb7a-7a3f-4981-e05f-1debc107dc35",
        "colab": {
          "base_uri": "https://localhost:8080/",
          "height": 448
        }
      },
      "execution_count": 14,
      "outputs": [
        {
          "output_type": "stream",
          "name": "stdout",
          "text": [
            "[[0.55617778]\n",
            " [0.47603529]\n",
            " [1.92502933]]\n",
            "3.757585030346268\n",
            "Theta0:          1.000,\n",
            "Theta1:          1.000,\n",
            "Theta2:          -4.900\n",
            "Final cost/MSE:  0.000\n"
          ]
        },
        {
          "output_type": "execute_result",
          "data": {
            "text/plain": [
              "Text(0.5, 1.0, 'Cost function using Gradient Descent')"
            ]
          },
          "metadata": {},
          "execution_count": 14
        },
        {
          "output_type": "display_data",
          "data": {
            "image/png": "[encoded data removed]",
            "text/plain": [
              "<Figure size 432x288 with 1 Axes>"
            ]
          },
          "metadata": {
            "needs_background": "light"
          }
        }
      ]
    },
    {
      "cell_type": "markdown",
      "source": [
        "Now that we have our data in a CSV file, we import it"
      ],
      "metadata": {
        "id": "SvRWbcLRp0vv"
      }
    },
    {
      "cell_type": "code",
      "source": [
        "import pandas as pd\n",
        "gravity_data = pd.read_csv('gravity_location_data.csv')\n",
        "df_location = pd.DataFrame(gravity_data)"
      ],
      "metadata": {
        "id": "DYFVtgLWp5bZ"
      },
      "execution_count": 15,
      "outputs": []
    },
    {
      "cell_type": "markdown",
      "source": [
        "This data will not actually be linear but scitkit-learn gives us the ability modify the data so that it can be trained as a LinearRegression model, while taking into account that it is actually a polynomial."
      ],
      "metadata": {
        "id": "wDxEyDO0qiJn"
      }
    },
    {
      "cell_type": "code",
      "source": [
        "from sklearn.model_selection import train_test_split\n",
        "def split_data(data, target_name):\n",
        "    y = data[target_name]\n",
        "    X = data.drop(target_name, axis=1)\n",
        "    return train_test_split(X, y, test_size=0.2, random_state=30)"
      ],
      "metadata": {
        "id": "AeM_DPlEqvT7"
      },
      "execution_count": 16,
      "outputs": []
    },
    {
      "cell_type": "code",
      "source": [
        "from sklearn.linear_model import LinearRegression\n",
        "from sklearn.preprocessing import PolynomialFeatures\n",
        "from sklearn.metrics import mean_squared_error, mean_absolute_error, r2_score\n",
        "from math import sqrt\n",
        "def train_eval_poly(X_train, X_test, y_train, y_test):\n",
        "    regression_model = LinearRegression() \n",
        "    \n",
        "    poly = PolynomialFeatures(degree=2)\n",
        "    X_train_transform = poly.fit_transform(X_train)\n",
        "    X_test_transform = poly.fit_transform(X_test)\n",
        "    \n",
        "    regression_model.fit(X_train_transform, y_train)\n",
        "    \n",
        "    print(poly.fit(X_train).get_feature_names_out(X_train.columns))\n",
        "    \n",
        "    y_pred = regression_model.predict(X_test_transform)\n",
        "    print(\"R2: \\t\", r2_score(y_test, y_pred))\n",
        "    print(\"RMSE: \\t\", sqrt(mean_squared_error(y_test, y_pred)))\n",
        "    print(\"MAE: \\t\", mean_absolute_error(y_test, y_pred))\n",
        "    \n",
        "    return regression_model"
      ],
      "metadata": {
        "id": "_lCqlyeLqxK2"
      },
      "execution_count": 17,
      "outputs": []
    },
    {
      "cell_type": "markdown",
      "source": [
        "Now we train the model with this code\n"
      ],
      "metadata": {
        "id": "1O7WPekfrBfa"
      }
    },
    {
      "cell_type": "code",
      "source": [
        "df_split = split_data(df_location, 'location')\n",
        "lrModel = train_eval_poly(*df_split)"
      ],
      "metadata": {
        "colab": {
          "base_uri": "https://localhost:8080/"
        },
        "id": "KtPwrqlhrGq9",
        "outputId": "c5a8f402-91d7-494d-c071-2a652f202af9"
      },
      "execution_count": 18,
      "outputs": [
        {
          "output_type": "stream",
          "name": "stdout",
          "text": [
            "['1' 'initial_position' 'initial_velocity' 'mass' 'time'\n",
            " 'initial_position^2' 'initial_position initial_velocity'\n",
            " 'initial_position mass' 'initial_position time' 'initial_velocity^2'\n",
            " 'initial_velocity mass' 'initial_velocity time' 'mass^2' 'mass time'\n",
            " 'time^2']\n",
            "R2: \t 1.0\n",
            "RMSE: \t 5.969523414225096e-15\n",
            "MAE: \t 5.706584944170645e-15\n"
          ]
        }
      ]
    },
    {
      "cell_type": "markdown",
      "source": [
        "Note that the $R^{2}$ value is 1.0. Also, the root mean squared error (RMSE) and mean absolute error (MAE) are tiny. At this scale that is minuscule, essentially zero."
      ],
      "metadata": {
        "id": "2iAbANPFrToZ"
      }
    },
    {
      "cell_type": "markdown",
      "source": [
        "Now let’s look at the exponents on our model, which are the exponents on the polynomial equation the model is using to make predictions"
      ],
      "metadata": {
        "id": "KScqUEX9rrAy"
      }
    },
    {
      "cell_type": "code",
      "source": [
        "lrModel.coef_"
      ],
      "metadata": {
        "colab": {
          "base_uri": "https://localhost:8080/"
        },
        "id": "lVXhE2JDrtug",
        "outputId": "83bd075b-4b54-4fad-b7bb-5103e52d6615"
      },
      "execution_count": 19,
      "outputs": [
        {
          "output_type": "execute_result",
          "data": {
            "text/plain": [
              "array([ 0.00000000e+00,  1.00000000e+00, -3.92741395e-15, -1.91513472e-15,\n",
              "        2.21177243e-16, -3.93435284e-15,  6.45317133e-15, -3.62904151e-15,\n",
              "       -2.31065167e-15,  1.19348975e-15,  7.49400542e-16,  1.00000000e+00,\n",
              "        1.24900090e-16,  2.49800181e-16, -4.90000000e+00])"
            ]
          },
          "metadata": {},
          "execution_count": 19
        }
      ]
    },
    {
      "cell_type": "markdown",
      "source": [
        "This gives us coefficients correspond to each of the fifteen features from above. The first value (0.00000000e+00, or 0) is the coefficient for the value 1. That would be hanging constant with no variable, a constant value always added to the equation, except that the coefficient is zero so there is no constant value added to our result. The second value from our array ( 1.00000000e+00, or 1) is the coefficient on “initial_position.” And in fact, in our original equation, we have the initial velocity ($X_{0}$) with a coefficient of one.\n",
        "\n",
        "<br>\n",
        "\n",
        "Most of our other coefficients are essentially zero, and tell us that these factors are irrelevant to predicting the location, but we do have a few that are not. The twelfth in our list is also a coefficient of 1, which corresponds to ‘initial_velocity time,’ or initial velocity multiplied by time. Again, we have this factor in our original equation, which appears as $V_{0}t$.\n",
        "\n",
        "<br>\n",
        "\n",
        "Finally, the very last value is -4.9, which is the coefficient corresponding to ‘time ^ 2.’ Note that this also appears in our original equation as $\\frac{1}{2}gt^{2}$. But we said earlier that $g$ is approximately 9.8, and $-\\frac{1}{2} * 9.8 = -4.9$. So this also corresponds with our original equation.\n",
        "\n",
        "<br>\n",
        "\n",
        "There are two very interesting final points to be made here. First, the resulting model found the mass to be irrelevant to making the prediction, which is correct. Second, the machine learning algorithm was able to derive the gravitational acceleration constant g, or at least determine the value of the entire coefficient $(-\\frac{1}{2} * 9.8)$ which includes $g$."
      ],
      "metadata": {
        "id": "VkqwE4eXsBLE"
      }
    }
  ]
}