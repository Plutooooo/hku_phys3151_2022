{
 "cells": [
  {
   "cell_type": "markdown",
   "metadata": {},
   "source": [
    "# Multivariate Linear Regression"
   ]
  },
  {
   "cell_type": "markdown",
   "metadata": {},
   "source": [
    "<table><tr><td bgcolor=lightyellow><font  size=3 face=\"微软雅黑\"> In this case, we make a hypothesis linearly correlated to mutiple features(variables) based on the given data, and then make predictions according to the hypothesis.</font>\n"
   ]
  },
  {
   "cell_type": "markdown",
   "metadata": {},
   "source": [
    " A few examples of Multivariate Linear Regression are provided below. "
   ]
  },
  {
   "cell_type": "markdown",
   "metadata": {},
   "source": [
    "## Example 1"
   ]
  },
  {
   "cell_type": "markdown",
   "metadata": {},
   "source": [
    "### Data Layer"
   ]
  },
  {
   "cell_type": "markdown",
   "metadata": {},
   "source": [
    "<table><tr><td bgcolor=lightyellow>Source: U.S. Census Bureau\n",
    "\n",
    "<br>Description: U.S. SMSA Retail Sales (1992) and Several covariates.\n",
    "\n",
    "<br>This data relates US per capita retail sales with parameters like per capita retail establishments, per capita income, etc. \n",
    "\n",
    "<br> SMAS stands for standard metropolitan statistical areas (a Metropolitan Statistical Area as one or more adjacent counties or county equivalents that have at least one urban core area of at least 50,000 population, plus adjacent territory that has a high degree of social and economic integration with the core as measured by commuting ties) ."
   ]
  },
  {
   "cell_type": "markdown",
   "metadata": {},
   "source": [
    "<table><tr><td bgcolor=lightyellow> First of all, we have a quick view of the data.                                  "
   ]
  },
  {
   "cell_type": "code",
   "execution_count": 1,
   "metadata": {
    "jupyter": {
     "outputs_hidden": false
    }
   },
   "outputs": [
    {
     "ename": "ModuleNotFoundError",
     "evalue": "No module named 'numpy'",
     "output_type": "error",
     "traceback": [
      "\u001b[0;31m---------------------------------------------------------------------------\u001b[0m",
      "\u001b[0;31mModuleNotFoundError\u001b[0m                       Traceback (most recent call last)",
      "\u001b[0;32m/var/folders/kx/ds72yftn02z63bd4kgfsd7nr0000gn/T/ipykernel_42610/1873891739.py\u001b[0m in \u001b[0;36m<module>\u001b[0;34m\u001b[0m\n\u001b[0;32m----> 1\u001b[0;31m \u001b[0;32mimport\u001b[0m \u001b[0mnumpy\u001b[0m \u001b[0;32mas\u001b[0m \u001b[0mnp\u001b[0m\u001b[0;34m\u001b[0m\u001b[0;34m\u001b[0m\u001b[0m\n\u001b[0m\u001b[1;32m      2\u001b[0m \u001b[0;32mimport\u001b[0m \u001b[0mpandas\u001b[0m \u001b[0;32mas\u001b[0m \u001b[0mpd\u001b[0m\u001b[0;34m\u001b[0m\u001b[0;34m\u001b[0m\u001b[0m\n\u001b[1;32m      3\u001b[0m \u001b[0;32mfrom\u001b[0m \u001b[0mpandas\u001b[0m \u001b[0;32mimport\u001b[0m \u001b[0mDataFrame\u001b[0m\u001b[0;34m\u001b[0m\u001b[0;34m\u001b[0m\u001b[0m\n",
      "\u001b[0;31mModuleNotFoundError\u001b[0m: No module named 'numpy'"
     ]
    }
   ],
   "source": [
    "import numpy as np\n",
    "import pandas as pd\n",
    "from pandas import DataFrame"
   ]
  },
  {
   "cell_type": "code",
   "execution_count": 2,
   "metadata": {
    "jupyter": {
     "outputs_hidden": false
    },
    "scrolled": true
   },
   "outputs": [
    {
     "ename": "NameError",
     "evalue": "name 'pd' is not defined",
     "output_type": "error",
     "traceback": [
      "\u001b[0;31m---------------------------------------------------------------------------\u001b[0m",
      "\u001b[0;31mNameError\u001b[0m                                 Traceback (most recent call last)",
      "\u001b[0;32m/var/folders/kx/ds72yftn02z63bd4kgfsd7nr0000gn/T/ipykernel_42610/2047483981.py\u001b[0m in \u001b[0;36m<module>\u001b[0;34m\u001b[0m\n\u001b[1;32m      1\u001b[0m \u001b[0;31m#df = pd.read_csv(\"asset/csv/retail92.csv\", sep=\",\")\u001b[0m\u001b[0;34m\u001b[0m\u001b[0;34m\u001b[0m\u001b[0m\n\u001b[0;32m----> 2\u001b[0;31m \u001b[0mdf\u001b[0m \u001b[0;34m=\u001b[0m \u001b[0mpd\u001b[0m\u001b[0;34m.\u001b[0m\u001b[0mread_csv\u001b[0m\u001b[0;34m(\u001b[0m\u001b[0;34m\"multivariate-linear-regression-example-1.csv\"\u001b[0m\u001b[0;34m,\u001b[0m \u001b[0msep\u001b[0m\u001b[0;34m=\u001b[0m\u001b[0;34m\",\"\u001b[0m\u001b[0;34m)\u001b[0m\u001b[0;34m\u001b[0m\u001b[0;34m\u001b[0m\u001b[0m\n\u001b[0m\u001b[1;32m      3\u001b[0m \u001b[0mpd\u001b[0m\u001b[0;34m.\u001b[0m\u001b[0mset_option\u001b[0m\u001b[0;34m(\u001b[0m\u001b[0;34m'display.width'\u001b[0m\u001b[0;34m,\u001b[0m \u001b[0;36m100\u001b[0m\u001b[0;34m)\u001b[0m\u001b[0;34m\u001b[0m\u001b[0;34m\u001b[0m\u001b[0m\n\u001b[1;32m      4\u001b[0m \u001b[0mprint\u001b[0m\u001b[0;34m(\u001b[0m\u001b[0mdf\u001b[0m\u001b[0;34m.\u001b[0m\u001b[0mhead\u001b[0m\u001b[0;34m(\u001b[0m\u001b[0;36m10\u001b[0m\u001b[0;34m)\u001b[0m\u001b[0;34m.\u001b[0m\u001b[0mappend\u001b[0m\u001b[0;34m(\u001b[0m\u001b[0mdf\u001b[0m\u001b[0;34m.\u001b[0m\u001b[0mtail\u001b[0m\u001b[0;34m(\u001b[0m\u001b[0;36m10\u001b[0m\u001b[0;34m)\u001b[0m\u001b[0;34m)\u001b[0m\u001b[0;34m)\u001b[0m\u001b[0;34m\u001b[0m\u001b[0;34m\u001b[0m\u001b[0m\n",
      "\u001b[0;31mNameError\u001b[0m: name 'pd' is not defined"
     ]
    }
   ],
   "source": [
    "#df = pd.read_csv(\"asset/csv/retail92.csv\", sep=\",\")\n",
    "df = pd.read_csv(\"multivariate-linear-regression-example-1.csv\", sep=\",\")\n",
    "pd.set_option('display.width', 100)\n",
    "print(df.head(10).append(df.tail(10)))"
   ]
  },
  {
   "cell_type": "markdown",
   "metadata": {},
   "source": [
    "<table><tr><td bgcolor=lightyellow><font   size=2.5> From the data above, we see that except the <font> target </font> variable per capita retail, there are four features. Since this is a case of linear regression, we have to firstly check whether the variables are linearly correlated."
   ]
  },
  {
   "cell_type": "markdown",
   "metadata": {},
   "source": [
    "### Code Layer"
   ]
  },
  {
   "cell_type": "markdown",
   "metadata": {},
   "source": [
    "<table><tr><td bgcolor=lightyellow> To plot the target with features:"
   ]
  },
  {
   "cell_type": "code",
   "execution_count": 39,
   "metadata": {
    "jupyter": {
     "outputs_hidden": false
    }
   },
   "outputs": [],
   "source": [
    "import matplotlib.pyplot as plt\n",
    "plt.rcParams['figure.figsize'] = (9.0, 4.0)\n",
    "plt.scatter( df['Per_capita_Retail_Establishments'],df['Per_capita_Retail_sales '], color='red')\n",
    "plt.title('Per capita retail sales Vs per capita retail establishments', fontsize=14)\n",
    "plt.xlabel('Per capita retail establishments', fontsize=14)\n",
    "plt.ylabel('Per capita retail sales', fontsize=14)\n",
    "plt.grid(True)\n",
    "plt.show()"
   ]
  },
  {
   "cell_type": "code",
   "execution_count": 40,
   "metadata": {
    "jupyter": {
     "outputs_hidden": false
    }
   },
   "outputs": [],
   "source": [
    "plt.scatter( df['Per_capita_income'],df['Per_capita_Retail_sales '], color='blue')\n",
    "plt.title('Per capita retail sales Vs per capita income', fontsize=14)\n",
    "plt.xlabel('Per capita income', fontsize=14)\n",
    "plt.ylabel('Per capita retail sales ', fontsize=14)\n",
    "plt.grid(True)\n",
    "plt.show()"
   ]
  },
  {
   "cell_type": "code",
   "execution_count": 41,
   "metadata": {},
   "outputs": [],
   "source": [
    "plt.scatter( df['Per_capita_federal_expenditures'],df['Per_capita_Retail_sales '], color='yellow')\n",
    "plt.title('Per capita retail sales Vs per capita federal expenditures', fontsize=14)\n",
    "plt.xlabel('Per capita federal expenditures', fontsize=14)\n",
    "plt.ylabel('Per capita retail sales', fontsize=14)\n",
    "plt.grid(True)\n",
    "plt.show()"
   ]
  },
  {
   "cell_type": "code",
   "execution_count": 42,
   "metadata": {},
   "outputs": [],
   "source": [
    "plt.scatter( df['Males_per_100_females '],df['Per_capita_Retail_sales '], color='green')\n",
    "plt.title('Per capita retail sales Vs Males_per_100_females', fontsize=14)\n",
    "plt.xlabel('Males_per_100_females', fontsize=14)\n",
    "plt.ylabel('Per capita retail sales', fontsize=14)\n",
    "plt.grid(True)\n",
    "plt.show()"
   ]
  },
  {
   "cell_type": "markdown",
   "metadata": {},
   "source": [
    "<table><tr><td bgcolor=lightyellow><font   size=3> These four plots show that our target variable (Per_capita_Retail_sales) is somewhat linearly correlated with the Per_capita_Retail_Establishment and Per_capita_income out of the four.</font>"
   ]
  },
  {
   "cell_type": "markdown",
   "metadata": {},
   "source": [
    "<table><tr><td bgcolor=lightyellow>The next step is to set the data matrices."
   ]
  },
  {
   "cell_type": "code",
   "execution_count": 43,
   "metadata": {
    "jupyter": {
     "outputs_hidden": false
    }
   },
   "outputs": [],
   "source": [
    "X = df[['Per_capita_Retail_Establishments','Per_capita_income','Per_capita_federal_expenditures','Males_per_100_females ']] # here we have 4 variables for multiple linear regression.\n",
    "Y = df['Per_capita_Retail_sales ']"
   ]
  },
  {
   "cell_type": "markdown",
   "metadata": {},
   "source": [
    "sklearn is the gold standard package in machine learning for python, as such, it has exactly the regression tools we need."
   ]
  },
  {
   "cell_type": "code",
   "execution_count": 44,
   "metadata": {
    "jupyter": {
     "outputs_hidden": false
    }
   },
   "outputs": [
    {
     "name": "stdout",
     "output_type": "stream",
     "text": [
      "Intercept: \n",
      " 2.3850230603786136\n",
      "Coefficients: \n",
      " [ 5.86477964  0.15279506  0.02715106 -0.04493364]\n"
     ]
    }
   ],
   "source": [
    "from sklearn import linear_model\n",
    "import statsmodels.api as sm\n",
    "\n",
    "# with sklearn\n",
    "regr = linear_model.LinearRegression()\n",
    "regr.fit(X, Y)\n",
    "\n",
    "print('Intercept: \\n', regr.intercept_)\n",
    "print('Coefficients: \\n', regr.coef_)"
   ]
  },
  {
   "cell_type": "markdown",
   "metadata": {},
   "source": [
    "<table><tr><td bgcolor=lightyellow> This represents that the regression produced by sklearn is a linear correlation given by equation \\begin{equation}Y=C_1*X_1+C_2*X_2+C_3*X_3+C_4*X_4+Intercept\\end{equation} where $C_i$s are the list of coefficients listed above，Y is the target variable and $X_i$s are the variables inside 'X'.\n",
    "  <br><br>\n",
    " For the results on an intuitive level, this makes sense.<br> 1.Retail sales should be heavily correlated with the number of retail establishments. After all, you can't shop without shops; <br> 2.It should also be positively correlated with income and federal expenditure as these are sources where people get their money to consume;<br> 3. Retail sales should be negatively correlated here with the implication being that the females consume more.<br> These all intuitively make sense so we have our first assurance that the code is working as intended.\n"
   ]
  },
  {
   "cell_type": "markdown",
   "metadata": {},
   "source": [
    " <table><tr><td bgcolor=lightyellow> After intuitively checking the feasibility of our hypothesis, we are making predictions."
   ]
  },
  {
   "cell_type": "code",
   "execution_count": 45,
   "metadata": {},
   "outputs": [],
   "source": [
    "x = np.linspace(0,2.5,100)\n",
    "y_grad = 2.38502+5.86478*x\n",
    "plt.scatter(df['Per_capita_Retail_Establishments'],df['Per_capita_Retail_sales '], color='red')\n",
    "plt.plot(x,y_grad,'b-',label='Gradient Descent',color='blue')\n",
    "plt.title('Per capita retail sales Vs per capita retail establishments', fontsize=14)\n",
    "plt.xlabel('Per capita retail establishments', fontsize=14)\n",
    "plt.ylabel('Per capita retail sales', fontsize=14)\n",
    "plt.legend(loc='upper left')\n",
    "plt.grid(True)\n",
    "plt.show()"
   ]
  },
  {
   "cell_type": "code",
   "execution_count": 46,
   "metadata": {},
   "outputs": [],
   "source": [
    "x = np.linspace(0,100,100)\n",
    "y_grad = 2.38502+0.153*x\n",
    "\n",
    "plt.scatter( df['Per_capita_income'],df['Per_capita_Retail_sales '], color='blue')\n",
    "plt.plot(x,y_grad,'b-',label='Gradient Descent',color='blue')\n",
    "plt.title('Per capita retail sales Vs per capita income', fontsize=14)\n",
    "plt.xlabel('Per capita income', fontsize=14)\n",
    "plt.ylabel('Per capita retail sales ', fontsize=14)\n",
    "plt.legend(loc='upper left')\n",
    "plt.grid(True)\n",
    "plt.show()\n"
   ]
  },
  {
   "cell_type": "code",
   "execution_count": 47,
   "metadata": {},
   "outputs": [],
   "source": [
    "x = np.linspace(80,200,100)\n",
    "y_grad = 2.38502-0.0449*x\n",
    "\n",
    "plt.scatter( df['Males_per_100_females '],df['Per_capita_Retail_sales '], color='green')\n",
    "plt.plot(x,y_grad,'b-',label='Gradient Descent',color='blue')\n",
    "plt.title('Per capita retail sales Vs Males_per_100_females', fontsize=14)\n",
    "plt.xlabel('Males_per_100_females', fontsize=14)\n",
    "plt.ylabel('Per capita retail sales', fontsize=14)\n",
    "plt.legend(loc='upper left')\n",
    "plt.grid(True)\n",
    "plt.show()"
   ]
  },
  {
   "cell_type": "code",
   "execution_count": 48,
   "metadata": {
    "jupyter": {
     "outputs_hidden": false
    }
   },
   "outputs": [
    {
     "name": "stdout",
     "output_type": "stream",
     "text": [
      "Predicted Per Capita Retail Sales (1000s):  [118.37890848]\n"
     ]
    }
   ],
   "source": [
    "# Set the variables\n",
    "New_Per_capita_Retail_Establishments = 20\n",
    "New_Per_capita_income = 20\n",
    "New_Per_capita_federal_expenditures = 5\n",
    "New_Males_per_100_females = 100\n",
    "#Prediction\n",
    "print ('Predicted Per Capita Retail Sales (1000s): ', regr.predict([[New_Per_capita_Retail_Establishments ,New_Per_capita_income,New_Per_capita_federal_expenditures,New_Males_per_100_females]]))"
   ]
  },
  {
   "cell_type": "markdown",
   "metadata": {},
   "source": [
    "<table><tr><td bgcolor=lightyellow>The prediction model allows us to predict per capita retail sales given the other 4 variables.<br><br>\n",
    "\n",
    "Now that we have our prediction model in place, we can examine the model using statistical methods found in package 'statsmodels'."
   ]
  },
  {
   "cell_type": "markdown",
   "metadata": {},
   "source": [
    "### Visualization Layer"
   ]
  },
  {
   "cell_type": "code",
   "execution_count": 49,
   "metadata": {
    "jupyter": {
     "outputs_hidden": false
    }
   },
   "outputs": [
    {
     "name": "stdout",
     "output_type": "stream",
     "text": [
      "                               OLS Regression Results                               \n",
      "====================================================================================\n",
      "Dep. Variable:     Per_capita_Retail_sales    R-squared:                       0.428\n",
      "Model:                                  OLS   Adj. R-squared:                  0.425\n",
      "Method:                       Least Squares   F-statistic:                     153.5\n",
      "Date:                      Sat, 25 Jul 2020   Prob (F-statistic):           5.19e-98\n",
      "Time:                              16:40:36   Log-Likelihood:                -1616.4\n",
      "No. Observations:                       825   AIC:                             3243.\n",
      "Df Residuals:                           820   BIC:                             3266.\n",
      "Df Model:                                 4                                         \n",
      "Covariance Type:                  nonrobust                                         \n",
      "====================================================================================================\n",
      "                                       coef    std err          t      P>|t|      [0.025      0.975]\n",
      "----------------------------------------------------------------------------------------------------\n",
      "const                                2.3850      1.178      2.024      0.043       0.072       4.698\n",
      "Per_capita_Retail_Establishments     5.8648      0.319     18.377      0.000       5.238       6.491\n",
      "Per_capita_income                    0.1528      0.014     11.207      0.000       0.126       0.180\n",
      "Per_capita_federal_expenditures      0.0272      0.016      1.667      0.096      -0.005       0.059\n",
      "Males_per_100_females               -0.0449      0.011     -4.279      0.000      -0.066      -0.024\n",
      "==============================================================================\n",
      "Omnibus:                       51.781   Durbin-Watson:                   2.063\n",
      "Prob(Omnibus):                  0.000   Jarque-Bera (JB):              205.415\n",
      "Skew:                          -0.035   Prob(JB):                     2.48e-45\n",
      "Kurtosis:                       5.443   Cond. No.                     1.95e+03\n",
      "==============================================================================\n",
      "\n",
      "Warnings:\n",
      "[1] Standard Errors assume that the covariance matrix of the errors is correctly specified.\n",
      "[2] The condition number is large, 1.95e+03. This might indicate that there are\n",
      "strong multicollinearity or other numerical problems.\n",
      "Note:\"std err\" means standard error \n"
     ]
    },
    {
     "name": "stderr",
     "output_type": "stream",
     "text": [
      "c:\\工具\\python\\lib\\site-packages\\numpy\\core\\fromnumeric.py:2389: FutureWarning: Method .ptp is deprecated and will be removed in a future version. Use numpy.ptp instead.\n",
      "  return ptp(axis=axis, out=out, **kwargs)\n"
     ]
    }
   ],
   "source": [
    "# with statsmodels\n",
    "X = sm.add_constant(X) # adding a constant\n",
    "\n",
    "model = sm.OLS(Y, X).fit()\n",
    "predictions = model.predict(X) \n",
    " \n",
    "print_model = model.summary()\n",
    "print(print_model)\n",
    "print('Note:\"std err\" means standard error ')"
   ]
  },
  {
   "cell_type": "markdown",
   "metadata": {},
   "source": [
    "<table><tr><td bgcolor=lightyellow>Understanding every statistic in the funciton is not necessary, we list some of their interpretations.\n",
    "    \n",
    "<br> 'R-squared': goodness of fit, which is the coefficient of determination and has a possible value from 0 to 1, with 1 being a perfect fit. \n",
    "<br>F-statistic tries to test the hypothesis that all coefficients (except the intercept) are equal to zero. The null hypothesis is rejected if the F calculated from the data is greater than the critical value of the F-distribution for some desired false-rejection probability (e.g. 0.05). For example, if the probability for F-statistic is smaller than 0.05, then the null hypothesis is rejected, which means not all cofficients equal to zero.\n",
    "    \n",
    "<br>To separately view the coeffients we get in the previous hypothesis, we can look at 'coef' which refers to the coeffients and next to it, the 'std err' means standard error. The Std error column shows standard errors of each coefficient estimate.\n",
    "\n",
    "<br> The t-statistic and p-value columns are testing whether any of the coefficients might be equal to zero. 'p-value' -expresses the results of the hypothesis test as a significance level. Conventionally, p-values smaller than 0.05 are taken as evidence that the population coefficient is nonzero. Large values of t indicate that the null hypothesis can be rejected and that the corresponding coefficient is not zero.  \n",
    "    \n",
    "<br> 'confidence intervals':random intervals around individual estimators that, if constructed for regressions over multiple samples, would contain the true population parameter, a certain fraction, e.g. 95%, of the time.\n",
    "    \n",
    "<br>We can also directly check part of the difference between predictions and real data:<br />    "
   ]
  },
  {
   "cell_type": "code",
   "execution_count": 50,
   "metadata": {
    "jupyter": {
     "outputs_hidden": false
    }
   },
   "outputs": [
    {
     "name": "stdout",
     "output_type": "stream",
     "text": [
      "Difference:  \n",
      " 0   -0.487768\n",
      "1    0.118486\n",
      "2    0.208298\n",
      "3    0.018165\n",
      "4   -0.171567\n",
      "5    0.147976\n",
      "6    0.002461\n",
      "7    0.019741\n",
      "8    0.166701\n",
      "9   -1.028865\n",
      "dtype: float64 \n",
      " ... \n",
      " 815   -0.928077\n",
      "816    0.138802\n",
      "817    0.026472\n",
      "818    0.188162\n",
      "819    0.070090\n",
      "820    0.107051\n",
      "821   -0.086230\n",
      "822   -0.686190\n",
      "823   -0.116206\n",
      "824    0.286974\n",
      "dtype: float64\n"
     ]
    }
   ],
   "source": [
    "y_fitted =model.fittedvalues\n",
    "err=(Y-y_fitted)/Y\n",
    "print('Difference:',' \\n',err.head(n=10),'\\n','...','\\n',err.tail(10))\n",
    "\n",
    "plt.plot(err, color='black')\n",
    "plt.title('Err of each example', fontsize=14)\n",
    "plt.xlabel('# example', fontsize=14)\n",
    "plt.ylabel('Err', fontsize=14)\n",
    "plt.ylim(-1,1)\n",
    "plt.grid(True)\n",
    "plt.show()"
   ]
  },
  {
   "cell_type": "markdown",
   "metadata": {},
   "source": [
    "<table><tr><td bgcolor=lightyellow>As the tooltip suggests, this fit isn't the best and there might be some other factors influencing the fitting, but this is a good first step in understanding multivarible linear regression. "
   ]
  },
  {
   "cell_type": "markdown",
   "metadata": {},
   "source": [
    "## Example 2"
   ]
  },
  {
   "cell_type": "markdown",
   "metadata": {},
   "source": [
    "<table><tr><td bgcolor=lightyellow>Next, we approach a different dataset where there are fewer data points, hopefully giving a clearer linear relationship.<br><br> Here, we use a cross sectional analysis of the running costs of British buses in the 50s."
   ]
  },
  {
   "cell_type": "markdown",
   "metadata": {},
   "source": [
    "### Data Layer"
   ]
  },
  {
   "cell_type": "markdown",
   "metadata": {},
   "source": [
    "<table><tr><td bgcolor=lightyellow>Dataset:  passenger1.dat\n",
    "\n",
    "Source: J. Johnston (1956), \"Scale, Costs, and Profitability in Road\n",
    "Passenger Transport,\" The Journal of Industrial Economics Vol 4, pp207-223.\n",
    "\n",
    "Description: Cross-sectional analysis of 24 British bus companies (1951).<br>\n",
    "\n",
    "This data analyses the cost per car mile of british buses with various characteristics of the buses.<br> One would forsee this data to be useful for various bus companies to determine what would be the most profitable way of running their buses. However, given that the data is from 1951, it is highly unlikely that they had the help of machine learning..."
   ]
  },
  {
   "cell_type": "markdown",
   "metadata": {},
   "source": [
    "<table><tr><td bgcolor=lightyellow>Using the same method as above, we start with defining our dataframe and have a view of data both in numbers and figures "
   ]
  },
  {
   "cell_type": "code",
   "execution_count": 51,
   "metadata": {
    "jupyter": {
     "outputs_hidden": false
    },
    "scrolled": true
   },
   "outputs": [
    {
     "name": "stdout",
     "output_type": "stream",
     "text": [
      "    Expenses_per_car_mile  Car_miles_per_year  Percent_of_Double_Deckers_in_fleet  Percent_of_fleet_on_fuel_oil  \\\n",
      "0                   19.76                6235                              100.00                        100.00   \n",
      "1                   17.85               46230                               43.67                         84.53   \n",
      "2                   19.96                7360                               65.51                         81.57   \n",
      "3                   16.80               28715                               45.16                         93.33   \n",
      "4                   18.20               21934                               49.20                         83.07   \n",
      "5                   16.71                1337                               74.84                         94.99   \n",
      "6                   18.81               17881                               70.66                         92.34   \n",
      "7                   20.74                2319                               63.93                         95.08   \n",
      "8                   16.56               18040                               14.45                         61.24   \n",
      "9                   18.55                1147                               68.58                         97.90   \n",
      "10                  17.40                2176                               53.33                         97.50   \n",
      "11                  17.62               13267                               25.16                         56.86   \n",
      "12                  21.24                3581                               35.76                         63.58   \n",
      "13                  18.23               15104                               47.72                         95.29   \n",
      "14                  16.86               47009                               17.21                        100.00   \n",
      "15                  17.45               10139                               43.15                         89.40   \n",
      "16                  17.66                6147                               67.73                         92.54   \n",
      "17                  18.30               23089                               33.27                         67.53   \n",
      "18                  16.58               20550                               26.61                         98.32   \n",
      "19                  17.51                9450                               61.35                         86.72   \n",
      "20                  21.17                1028                              100.00                        100.00   \n",
      "21                  16.92                3848                                5.35                         65.58   \n",
      "22                  16.96               15656                               20.53                         93.72   \n",
      "23                  18.24                7725                               50.59                         96.63   \n",
      "\n",
      "    Receipts_per_car_mile  \n",
      "0                   25.10  \n",
      "1                   19.23  \n",
      "2                   21.42  \n",
      "3                   18.11  \n",
      "4                   19.24  \n",
      "5                   19.31  \n",
      "6                   20.07  \n",
      "7                   24.35  \n",
      "8                   17.60  \n",
      "9                   20.13  \n",
      "10                  18.40  \n",
      "11                  18.96  \n",
      "12                  25.75  \n",
      "13                  19.40  \n",
      "14                  18.64  \n",
      "15                  19.10  \n",
      "16                  20.00  \n",
      "17                  19.31  \n",
      "18                  20.49  \n",
      "19                  17.07  \n",
      "20                  20.61  \n",
      "21                  15.73  \n",
      "22                  18.70  \n",
      "23                  18.99  \n"
     ]
    }
   ],
   "source": [
    "#df = pd.read_csv(\"asset/csv/passenger1.csv\", sep=\",\")\n",
    "df = pd.read_csv(\"multivariate-linear-regression-example-2.csv\", sep=\",\")\n",
    "pd.set_option('display.width', 120)\n",
    "print (df)"
   ]
  },
  {
   "cell_type": "markdown",
   "metadata": {},
   "source": [
    "### Code Layer"
   ]
  },
  {
   "cell_type": "markdown",
   "metadata": {},
   "source": [
    "To plot:"
   ]
  },
  {
   "cell_type": "code",
   "execution_count": 52,
   "metadata": {
    "jupyter": {
     "outputs_hidden": false
    }
   },
   "outputs": [],
   "source": [
    "plt.scatter( df['Car_miles_per_year'],df['Expenses_per_car_mile'], color='red')\n",
    "plt.title('Expenses per car mile Vs car miles per year', fontsize=14)\n",
    "plt.xlabel('Car miles per year', fontsize=14)\n",
    "plt.ylabel('Expenses per car mile', fontsize=14)\n",
    "plt.grid(True)\n",
    "plt.show()\n",
    "\n",
    "plt.scatter( df['Percent_of_Double_Deckers_in_fleet'],df['Expenses_per_car_mile'], color='blue')\n",
    "plt.title('Expenses per car mile Vs percent of double deckers in fleet', fontsize=14)\n",
    "plt.xlabel('Percent of double deckers in fleet', fontsize=14)\n",
    "plt.ylabel('Expenses per car mile', fontsize=14)\n",
    "plt.grid(True)\n",
    "plt.show()"
   ]
  },
  {
   "cell_type": "code",
   "execution_count": 53,
   "metadata": {},
   "outputs": [],
   "source": [
    "plt.scatter( df['Percent_of_fleet_on_fuel_oil'],df['Expenses_per_car_mile'], color='green')\n",
    "plt.title('Expenses per car mile Vs Percent of fleet on fuel oil', fontsize=14)\n",
    "plt.xlabel('Percent_of_fleet_on_fuel_oil', fontsize=14)\n",
    "plt.ylabel('Expenses per car mile', fontsize=14)\n",
    "plt.grid(True)\n",
    "plt.show()\n",
    "\n",
    "plt.scatter( df['Receipts_per_car_mile'],df['Expenses_per_car_mile'], color='black')\n",
    "plt.title('Expenses per car mile Vs Receipts_per_car_mile', fontsize=14)\n",
    "plt.xlabel('Percent of double deckers in fleet', fontsize=14)\n",
    "plt.ylabel('Expenses per car mile', fontsize=14)\n",
    "plt.grid(True)\n",
    "plt.show()"
   ]
  },
  {
   "cell_type": "markdown",
   "metadata": {},
   "source": [
    "<table><tr><td bgcolor=lightyellow>This example has fewer datapoints, but broadly speaking one can still see that in the first plot the variable is negatively correlated while in the second plot the variable is positively correlated."
   ]
  },
  {
   "cell_type": "markdown",
   "metadata": {},
   "source": [
    "<table><tr><td bgcolor=lightyellow>Then, we set the data matrices and use the previous packages again."
   ]
  },
  {
   "cell_type": "code",
   "execution_count": 54,
   "metadata": {
    "jupyter": {
     "outputs_hidden": false
    }
   },
   "outputs": [],
   "source": [
    "X = df[['Car_miles_per_year','Percent_of_Double_Deckers_in_fleet','Percent_of_fleet_on_fuel_oil','Receipts_per_car_mile']] # Again, we have 4 variables for the linear regression.\n",
    "Y = df['Expenses_per_car_mile']"
   ]
  },
  {
   "cell_type": "code",
   "execution_count": 55,
   "metadata": {
    "jupyter": {
     "outputs_hidden": false
    }
   },
   "outputs": [
    {
     "name": "stdout",
     "output_type": "stream",
     "text": [
      "Intercept: \n",
      " 12.156944061183491\n",
      "Coefficients: \n",
      " [-5.71262276e-06  2.35488357e-02 -2.90647783e-02  3.76282333e-01]\n"
     ]
    }
   ],
   "source": [
    "from sklearn import linear_model\n",
    "import statsmodels.api as sm\n",
    "\n",
    "# with sklearn\n",
    "regr = linear_model.LinearRegression()\n",
    "regr.fit(X, Y)\n",
    "\n",
    "print('Intercept: \\n', regr.intercept_)\n",
    "print('Coefficients: \\n', regr.coef_)"
   ]
  },
  {
   "cell_type": "markdown",
   "metadata": {},
   "source": [
    "<table><tr><td bgcolor=lightyellow>Substitute the coefficients and intercept into the equation：\\begin{equation}Y=C_1*X_1+C_2*X_2+C_3*X_3+C_4*X_4+Intercept\\end{equation}\n",
    "We get our hypothesis."
   ]
  },
  {
   "cell_type": "markdown",
   "metadata": {},
   "source": [
    "<table><tr><td bgcolor=lightyellow>Now, using our hypothesis, let's predict the expenses_per_car_mile of  a bus company with 100% of buses running on fuel oil and 100% of buses being double deckers, and reciepts per car mile of 20, which is middling in the dataset, and the car miles per year being 10000, which is a reasonable number."
   ]
  },
  {
   "cell_type": "code",
   "execution_count": 56,
   "metadata": {
    "jupyter": {
     "outputs_hidden": false
    }
   },
   "outputs": [
    {
     "name": "stdout",
     "output_type": "stream",
     "text": [
      "Expenses per car mile: \n",
      " [19.07387024]\n"
     ]
    }
   ],
   "source": [
    "# prediction with sklearn\n",
    "New_Car_miles_per_year = 10000\n",
    "New_Percent_of_Double_Deckers_in_fleet = 100\n",
    "New_Percent_of_fleet_on_fuel_oil = 100\n",
    "New_Receipts_per_car_mile = 20\n",
    "\n",
    "print ('Expenses per car mile: \\n', regr.predict([[New_Car_miles_per_year,New_Percent_of_Double_Deckers_in_fleet,New_Percent_of_fleet_on_fuel_oil,New_Receipts_per_car_mile]]))\n"
   ]
  },
  {
   "cell_type": "markdown",
   "metadata": {},
   "source": [
    "### Visualization Layer"
   ]
  },
  {
   "cell_type": "markdown",
   "metadata": {},
   "source": [
    "<table><tr><td bgcolor=lightyellow>Again, the number is reasonable. Now, let's see the goodness of fit using the statistical package."
   ]
  },
  {
   "cell_type": "code",
   "execution_count": 57,
   "metadata": {
    "jupyter": {
     "outputs_hidden": false
    }
   },
   "outputs": [
    {
     "name": "stdout",
     "output_type": "stream",
     "text": [
      "                              OLS Regression Results                             \n",
      "=================================================================================\n",
      "Dep. Variable:     Expenses_per_car_mile   R-squared:                       0.729\n",
      "Model:                               OLS   Adj. R-squared:                  0.672\n",
      "Method:                    Least Squares   F-statistic:                     12.80\n",
      "Date:                   Sat, 25 Jul 2020   Prob (F-statistic):           3.22e-05\n",
      "Time:                           16:40:37   Log-Likelihood:                -26.546\n",
      "No. Observations:                     24   AIC:                             63.09\n",
      "Df Residuals:                         19   BIC:                             68.98\n",
      "Df Model:                              4                                         \n",
      "Covariance Type:               nonrobust                                         \n",
      "======================================================================================================\n",
      "                                         coef    std err          t      P>|t|      [0.025      0.975]\n",
      "------------------------------------------------------------------------------------------------------\n",
      "const                                 12.1569      2.023      6.008      0.000       7.922      16.392\n",
      "Car_miles_per_year                 -5.713e-06   1.56e-05     -0.366      0.718   -3.83e-05    2.69e-05\n",
      "Percent_of_Double_Deckers_in_fleet     0.0235      0.011      2.228      0.038       0.001       0.046\n",
      "Percent_of_fleet_on_fuel_oil          -0.0291      0.016     -1.828      0.083      -0.062       0.004\n",
      "Receipts_per_car_mile                  0.3763      0.084      4.483      0.000       0.201       0.552\n",
      "==============================================================================\n",
      "Omnibus:                        1.525   Durbin-Watson:                   1.858\n",
      "Prob(Omnibus):                  0.466   Jarque-Bera (JB):                0.426\n",
      "Skew:                          -0.176   Prob(JB):                        0.808\n",
      "Kurtosis:                       3.549   Cond. No.                     2.25e+05\n",
      "==============================================================================\n",
      "\n",
      "Warnings:\n",
      "[1] Standard Errors assume that the covariance matrix of the errors is correctly specified.\n",
      "[2] The condition number is large, 2.25e+05. This might indicate that there are\n",
      "strong multicollinearity or other numerical problems.\n"
     ]
    },
    {
     "name": "stderr",
     "output_type": "stream",
     "text": [
      "c:\\工具\\python\\lib\\site-packages\\numpy\\core\\fromnumeric.py:2389: FutureWarning: Method .ptp is deprecated and will be removed in a future version. Use numpy.ptp instead.\n",
      "  return ptp(axis=axis, out=out, **kwargs)\n"
     ]
    }
   ],
   "source": [
    "# with statsmodels\n",
    "X = sm.add_constant(X) # adding a constant\n",
    " \n",
    "model = sm.OLS(Y, X).fit()\n",
    "predictions = model.predict(X) \n",
    " \n",
    "print_model = model.summary()\n",
    "print(print_model)"
   ]
  },
  {
   "cell_type": "markdown",
   "metadata": {},
   "source": [
    "<table><tr><td bgcolor=lightyellow>In this case, we can see that the R-squared is 0.729, much larger than that of example 1, so this fitting is better than the previous one but still not so perfect。"
   ]
  },
  {
   "cell_type": "markdown",
   "metadata": {},
   "source": [
    "## Example 3"
   ]
  },
  {
   "cell_type": "markdown",
   "metadata": {},
   "source": [
    "### Data Layer"
   ]
  },
  {
   "cell_type": "markdown",
   "metadata": {},
   "source": [
    "<table><tr><td bgcolor=lightyellow>To round off our series of 3 examples, we will use a very simple dataset: Blood pressure in relation to weight and age. \n",
    "\n",
    "<br>Source: http://college.cengage.com/mathematics/brase/understandable_statistics/7e/students/datasets/mlr/frames/frame.html\n",
    "\n",
    "Here is a very simple dataset relating blood pressure to age and weight. The data is so closely correlated that it's very possible that the data is fabricated rather than collected."
   ]
  },
  {
   "cell_type": "markdown",
   "metadata": {},
   "source": [
    "<table><tr><td bgcolor=lightyellow>First, We have a view of the data in numbers and in figures"
   ]
  },
  {
   "cell_type": "code",
   "execution_count": 58,
   "metadata": {
    "jupyter": {
     "outputs_hidden": false
    }
   },
   "outputs": [
    {
     "name": "stdout",
     "output_type": "stream",
     "text": [
      "    systolic blood pressure  age in years  weight in pounds\n",
      "0                       132            52               173\n",
      "1                       143            59               184\n",
      "2                       153            67               194\n",
      "3                       162            73               211\n",
      "4                       154            64               196\n",
      "5                       168            74               220\n",
      "6                       137            54               188\n",
      "7                       149            61               188\n",
      "8                       159            65               207\n",
      "9                       128            46               167\n",
      "10                      166            72               217\n"
     ]
    }
   ],
   "source": [
    "#df = pd.read_csv(\"asset/csv/mlr02.csv\", sep=\",\")\n",
    "df = pd.read_csv(\"multivariate-linear-regression-example-3.csv\", sep=\",\")\n",
    "pd.set_option('display.width', 120)\n",
    "print (df)"
   ]
  },
  {
   "cell_type": "code",
   "execution_count": 59,
   "metadata": {
    "jupyter": {
     "outputs_hidden": false
    }
   },
   "outputs": [],
   "source": [
    "plt.scatter(df['age in years'], df['systolic blood pressure'], color='red')\n",
    "plt.title('Systolic Blood Pressure Vs Age', fontsize=14)\n",
    "plt.xlabel('Age', fontsize=14)\n",
    "plt.ylabel('Systolic Blood Pressure', fontsize=14)\n",
    "plt.grid(True)\n",
    "plt.show()\n",
    "\n",
    "plt.scatter(df['weight in pounds'], df['systolic blood pressure'], color='blue')\n",
    "plt.title('Systolic Blood Pressure Vs Weight', fontsize=14)\n",
    "plt.xlabel('Weight', fontsize=14)\n",
    "plt.ylabel('Systolic Blood Pressure', fontsize=14)\n",
    "plt.grid(True)\n",
    "plt.show()"
   ]
  },
  {
   "cell_type": "markdown",
   "metadata": {},
   "source": [
    "<table><tr><td bgcolor=lightyellow>With this dataset, the linearity is very clearly defined and thus, we can expect the regression fit to be very good.\n",
    "    \n",
    "<br>Then ,we start getting our hypothesis."
   ]
  },
  {
   "cell_type": "code",
   "execution_count": 60,
   "metadata": {
    "jupyter": {
     "outputs_hidden": false
    }
   },
   "outputs": [],
   "source": [
    "X = df[['age in years','weight in pounds']] # This time, we only have 2 variables to fit to.\n",
    "Y = df['systolic blood pressure']"
   ]
  },
  {
   "cell_type": "code",
   "execution_count": 61,
   "metadata": {
    "jupyter": {
     "outputs_hidden": false
    }
   },
   "outputs": [
    {
     "name": "stdout",
     "output_type": "stream",
     "text": [
      "Intercept: \n",
      " 30.994102952348328\n",
      "Coefficients: \n",
      " [0.86141469 0.3348592 ]\n"
     ]
    }
   ],
   "source": [
    "from sklearn import linear_model\n",
    "import statsmodels.api as sm\n",
    "\n",
    "# with sklearn\n",
    "regr = linear_model.LinearRegression()\n",
    "regr.fit(X, Y)\n",
    "\n",
    "print('Intercept: \\n', regr.intercept_)\n",
    "print('Coefficients: \\n', regr.coef_)"
   ]
  },
  {
   "cell_type": "markdown",
   "metadata": {},
   "source": [
    "<table><tr><td bgcolor=lightyellow>Substitute the coefficients and intercept into the equation：\\begin{equation}Y=C_1*X_1+C_2*X_2+Intercept\\end{equation}\n",
    "The hypothesis is made and our next step is to make predictions as follows."
   ]
  },
  {
   "cell_type": "code",
   "execution_count": 62,
   "metadata": {
    "jupyter": {
     "outputs_hidden": false
    }
   },
   "outputs": [
    {
     "name": "stdout",
     "output_type": "stream",
     "text": [
      "Systolic Blood Pressure: \n",
      " [107.55075699]\n"
     ]
    }
   ],
   "source": [
    "# prediction with sklearn\n",
    "New_age = 50\n",
    "New_weight = 100\n",
    "\n",
    "print ('Systolic Blood Pressure: \\n', regr.predict([[New_age,New_weight]]))\n"
   ]
  },
  {
   "cell_type": "markdown",
   "metadata": {},
   "source": [
    "<table><tr><td bgcolor=lightyellow>Clearly, we predicted that a person who weighs 100lb and is 50 years old should have a blood pressure of around 108, which is reasonable."
   ]
  },
  {
   "cell_type": "code",
   "execution_count": 63,
   "metadata": {
    "jupyter": {
     "outputs_hidden": false
    }
   },
   "outputs": [
    {
     "name": "stdout",
     "output_type": "stream",
     "text": [
      "Systolic Blood Pressure: \n",
      " [131.93719597]\n"
     ]
    }
   ],
   "source": [
    "# prediction with sklearn\n",
    "New_age = 20\n",
    "New_weight = 250\n",
    "\n",
    "print ('Systolic Blood Pressure: \\n', regr.predict([[New_age,New_weight]]))\n"
   ]
  },
  {
   "cell_type": "markdown",
   "metadata": {},
   "source": [
    "<table><tr><td bgcolor=lightyellow>However, a person who's 20, but weighs 250lb should have a blood pressure of around 132, which seems a bit low medically speaking but still within the bounds of reason."
   ]
  },
  {
   "cell_type": "markdown",
   "metadata": {},
   "source": [
    "### Visualization Layer"
   ]
  },
  {
   "cell_type": "markdown",
   "metadata": {},
   "source": [
    "<table><tr><td bgcolor=lightyellow>Finally, using the package statsmodels again, we check reliability of out hypothesis."
   ]
  },
  {
   "cell_type": "code",
   "execution_count": 64,
   "metadata": {
    "jupyter": {
     "outputs_hidden": false
    },
    "scrolled": true
   },
   "outputs": [
    {
     "name": "stdout",
     "output_type": "stream",
     "text": [
      "                               OLS Regression Results                              \n",
      "===================================================================================\n",
      "Dep. Variable:     systolic blood pressure   R-squared:                       0.977\n",
      "Model:                                 OLS   Adj. R-squared:                  0.971\n",
      "Method:                      Least Squares   F-statistic:                     168.8\n",
      "Date:                     Sat, 25 Jul 2020   Prob (F-statistic):           2.87e-07\n",
      "Time:                             16:40:38   Log-Likelihood:                -23.106\n",
      "No. Observations:                       11   AIC:                             52.21\n",
      "Df Residuals:                            8   BIC:                             53.40\n",
      "Df Model:                                2                                         \n",
      "Covariance Type:                 nonrobust                                         \n",
      "====================================================================================\n",
      "                       coef    std err          t      P>|t|      [0.025      0.975]\n",
      "------------------------------------------------------------------------------------\n",
      "const               30.9941     11.944      2.595      0.032       3.452      58.537\n",
      "age in years         0.8614      0.248      3.470      0.008       0.289       1.434\n",
      "weight in pounds     0.3349      0.131      2.563      0.034       0.034       0.636\n",
      "==============================================================================\n",
      "Omnibus:                        0.796   Durbin-Watson:                   1.927\n",
      "Prob(Omnibus):                  0.672   Jarque-Bera (JB):                0.618\n",
      "Skew:                          -0.159   Prob(JB):                        0.734\n",
      "Kurtosis:                       1.883   Cond. No.                     3.51e+03\n",
      "==============================================================================\n",
      "\n",
      "Warnings:\n",
      "[1] Standard Errors assume that the covariance matrix of the errors is correctly specified.\n",
      "[2] The condition number is large, 3.51e+03. This might indicate that there are\n",
      "strong multicollinearity or other numerical problems.\n"
     ]
    },
    {
     "name": "stderr",
     "output_type": "stream",
     "text": [
      "c:\\工具\\python\\lib\\site-packages\\numpy\\core\\fromnumeric.py:2389: FutureWarning: Method .ptp is deprecated and will be removed in a future version. Use numpy.ptp instead.\n",
      "  return ptp(axis=axis, out=out, **kwargs)\n",
      "c:\\工具\\python\\lib\\site-packages\\scipy\\stats\\stats.py:1416: UserWarning: kurtosistest only valid for n>=20 ... continuing anyway, n=11\n",
      "  \"anyway, n=%i\" % int(n))\n"
     ]
    }
   ],
   "source": [
    "# with statsmodels\n",
    "X = sm.add_constant(X) # adding a constant\n",
    " \n",
    "model = sm.OLS(Y, X).fit()\n",
    "predictions = model.predict(X) \n",
    " \n",
    "print_model = model.summary()\n",
    "print(print_model)"
   ]
  },
  {
   "cell_type": "markdown",
   "metadata": {},
   "source": [
    "<table><tr><td bgcolor=lightyellow>The goodness of fit here is defined by the R-squared metric in the upper right, as the number approaches 1, the better the fit. As we have seen previously, the Y variable is very well correlated with the two X variables, hence such a high R-squared value. One may contrast this with the R-squared values in the previous two examples which were around ~0.5-0.7. For reference, variables with no correlation have $R^2=0$ while variables which are totally correlated have $R^2=1$."
   ]
  },
  {
   "cell_type": "markdown",
   "metadata": {},
   "source": [
    "## Example 4 (Cost Function, Gradient Descent & Conjugate Gra)"
   ]
  },
  {
   "cell_type": "markdown",
   "metadata": {},
   "source": [
    "<table><tr><td bgcolor=lightyellow>Here we will have an example of a single variable dataset to demonstrate the concept of a cost function. Furthermore, a method using conjugate gradient descent will be used.\n",
    "\n",
    "<br>The data that will be used is the sulfur dioxide concentration (which cause acid rain) in the air related to the surface recession rate (which is an effect of acid rain) of marble tombstones.\n",
    "<br>Data source:https://www.chegg.com/homework-help/questions-and-answers/1-read-r-use-response-variable-marble-tombstone-mean-surface-recession-rate-covariate-mean-q34698055\n",
    "\n",
    "<br>This dataset will be used for both cost function (gradient descent) and conjugate gradient."
   ]
  },
  {
   "cell_type": "markdown",
   "metadata": {},
   "source": [
    "### Data Layer"
   ]
  },
  {
   "cell_type": "markdown",
   "metadata": {},
   "source": [
    "<table><tr><td bgcolor=lightyellow>First of all, we take a look at the data."
   ]
  },
  {
   "cell_type": "code",
   "execution_count": 65,
   "metadata": {
    "jupyter": {
     "outputs_hidden": false
    }
   },
   "outputs": [
    {
     "name": "stdout",
     "output_type": "stream",
     "text": [
      "    Modelled_SO2_Concentration  Surface_Recession_Rate\n",
      "0                           12                    0.27\n",
      "1                           20                    0.14\n",
      "2                           20                    0.33\n",
      "3                           46                    0.81\n",
      "4                           48                    0.84\n",
      "5                           92                    1.08\n",
      "6                           91                    1.78\n",
      "7                           94                    1.21\n",
      "8                          102                    1.09\n",
      "9                          117                    1.72\n",
      "10                         122                    1.18\n",
      "11                         142                    1.01\n",
      "12                         142                    1.90\n",
      "13                         178                    1.98\n",
      "14                         180                    1.53\n",
      "15                         197                    2.71\n",
      "16                         224                    2.41\n",
      "17                         234                    1.61\n",
      "18                         239                    2.51\n",
      "19                         244                    2.15\n",
      "20                         323                    3.16\n"
     ]
    }
   ],
   "source": [
    "import numpy as np\n",
    "import matplotlib.pyplot as plt\n",
    "import pandas as pd\n",
    "\n",
    "#df = pd.read_csv(\"asset/csv/Tombstone.csv\")\n",
    "df = pd.read_csv(\"multivariate-linear-regression-example-4.csv\", sep=\",\")\n",
    "\n",
    "#Removing the label column\n",
    "df = df [['Modelled_SO2_Concentration','Surface_Recession_Rate']]\n",
    "dg = df\n",
    "pd.set_option('display.width', 120)\n",
    "print(df)"
   ]
  },
  {
   "cell_type": "code",
   "execution_count": 66,
   "metadata": {
    "jupyter": {
     "outputs_hidden": false
    },
    "scrolled": true
   },
   "outputs": [],
   "source": [
    "plt.scatter(df['Modelled_SO2_Concentration'], df['Surface_Recession_Rate'], color='red')\n",
    "plt.title('Concentraiton vs Recession Rate', fontsize=14)\n",
    "plt.xlabel('Modelled SO2 Concentration', fontsize=14)\n",
    "plt.ylabel('Surface Recession Rate', fontsize=14)\n",
    "plt.grid(True)\n",
    "plt.show()"
   ]
  },
  {
   "cell_type": "markdown",
   "metadata": {},
   "source": [
    "<table><tr><td bgcolor=lightyellow>It is clear that the data is relatively well linearly correlated.\n",
    "    "
   ]
  },
  {
   "cell_type": "markdown",
   "metadata": {},
   "source": [
    "### Code Layer"
   ]
  },
  {
   "cell_type": "code",
   "execution_count": 67,
   "metadata": {
    "jupyter": {
     "outputs_hidden": false
    }
   },
   "outputs": [],
   "source": [
    "df = df.to_numpy()\n",
    "X = df[:,0].reshape((-1, 1))\n",
    "y = df[:,1].reshape((-1, 1))"
   ]
  },
  {
   "cell_type": "markdown",
   "metadata": {},
   "source": [
    "<table><tr><td bgcolor=lightyellow>Next, as with all machine learning tasks where the scalar distance is involved, this data needs to be scaled, meaning that any feature which has a high numerical value does not dominate the fit. Note, the y value does not need to be scaled because it is a vector and hence any scalar operations can be thought of as being performed *in the units of* y. In fact, if one does scales Y, then information is lost about the units of Y. This does not need to be done to the first three examples because the sklearn package presumably already scales the data in the fit and unscales it automatically.\n",
    "<br><br>The feature scaling here is as forllows:"
   ]
  },
  {
   "cell_type": "code",
   "execution_count": 68,
   "metadata": {
    "jupyter": {
     "outputs_hidden": false
    },
    "scrolled": true
   },
   "outputs": [
    {
     "name": "stdout",
     "output_type": "stream",
     "text": [
      "[[-1.03773585]\n",
      " [-0.96226415]\n",
      " [-0.96226415]\n",
      " [-0.71698113]\n",
      " [-0.69811321]\n",
      " [-0.28301887]\n",
      " [-0.29245283]\n",
      " [-0.26415094]\n",
      " [-0.18867925]\n",
      " [-0.04716981]\n",
      " [ 0.        ]\n",
      " [ 0.18867925]\n",
      " [ 0.18867925]\n",
      " [ 0.52830189]\n",
      " [ 0.54716981]\n",
      " [ 0.70754717]\n",
      " [ 0.96226415]\n",
      " [ 1.05660377]\n",
      " [ 1.10377358]\n",
      " [ 1.1509434 ]\n",
      " [ 1.89622642]]\n",
      "RobustScaler(copy=True, quantile_range=(25.0, 75.0), with_centering=True,\n",
      "       with_scaling=True)\n"
     ]
    }
   ],
   "source": [
    "from sklearn import preprocessing\n",
    "scaler = preprocessing.RobustScaler()\n",
    "X_scaled = scaler.fit_transform(X)\n",
    "print(X_scaled)\n",
    "print(scaler)"
   ]
  },
  {
   "cell_type": "markdown",
   "metadata": {},
   "source": [
    "<table><tr><td bgcolor=lightyellow>Now, we define functions for cost funciton and gradient descent."
   ]
  },
  {
   "cell_type": "code",
   "execution_count": 69,
   "metadata": {
    "jupyter": {
     "outputs_hidden": false
    }
   },
   "outputs": [],
   "source": [
    "X = X_scaled\n",
    "def  computeCost(theta,X,y):\n",
    "    m = float(len(y))\n",
    "    \n",
    "    predictions = X.dot(theta)\n",
    "    cost = (1/(2*m)) * np.sum(np.square(predictions-y))\n",
    "    return cost"
   ]
  },
  {
   "cell_type": "markdown",
   "metadata": {},
   "source": [
    "<table><tr><td bgcolor=lightyellow>The cost function is defined as follows:<br>$$J:=\\frac{1}{2m}\\sum_{i=1}^m (h_{\\theta}(x_i)-y_i)^2 $$ where m depends on the training set.\n",
    "<br>Gradient descent is uesd to search the minimum and the definition is: <br>$$\\theta:=\\theta-\\alpha\\frac{\\partial}{\\partial \\theta}J(\\theta)$$\n",
    "where $\\alpha$ is a number called learning rate."
   ]
  },
  {
   "cell_type": "code",
   "execution_count": 70,
   "metadata": {
    "jupyter": {
     "outputs_hidden": false
    }
   },
   "outputs": [],
   "source": [
    "def gradient_descent(X,y,theta,alpha=0.1,iterations=200):\n",
    "    m = float(len(y))\n",
    "    cost_history = np.zeros(iterations)\n",
    "    theta_history = np.zeros((iterations,2))\n",
    "    for it in range(iterations):\n",
    "        \n",
    "        prediction = np.dot(X,theta)\n",
    "        theta = theta -(1/m)*alpha*( X.T.dot((prediction - y)))\n",
    "        theta_history[it,:] = theta.T\n",
    "        cost_history[it]  = computeCost(theta,X,y)\n",
    "        \n",
    "    return theta, cost_history, theta_history"
   ]
  },
  {
   "cell_type": "code",
   "execution_count": 71,
   "metadata": {
    "jupyter": {
     "outputs_hidden": false
    },
    "scrolled": true
   },
   "outputs": [
    {
     "name": "stdout",
     "output_type": "stream",
     "text": [
      "[[-0.78701408]\n",
      " [ 1.25809234]]\n",
      "[[ 1.         -1.03773585]\n",
      " [ 1.         -0.96226415]\n",
      " [ 1.         -0.96226415]\n",
      " [ 1.         -0.71698113]\n",
      " [ 1.         -0.69811321]\n",
      " [ 1.         -0.28301887]\n",
      " [ 1.         -0.29245283]\n",
      " [ 1.         -0.26415094]\n",
      " [ 1.         -0.18867925]\n",
      " [ 1.         -0.04716981]\n",
      " [ 1.          0.        ]\n",
      " [ 1.          0.18867925]\n",
      " [ 1.          0.18867925]\n",
      " [ 1.          0.52830189]\n",
      " [ 1.          0.54716981]\n",
      " [ 1.          0.70754717]\n",
      " [ 1.          0.96226415]\n",
      " [ 1.          1.05660377]\n",
      " [ 1.          1.10377358]\n",
      " [ 1.          1.1509434 ]\n",
      " [ 1.          1.89622642]]\n",
      "2.3257776375095114\n",
      "Theta0:          1.371,\n",
      "Theta1:          0.911\n",
      "Final cost/MSE:  0.060\n",
      "theta_history is [[-0.57593163  1.26528858]\n",
      " [-0.38605604  1.26912883]\n",
      " [-0.21522062  1.27011995]\n",
      " [-0.06148232  1.26870646]\n",
      " [ 0.07690152  1.26527758]\n",
      " [ 0.20149395  1.26017361]\n",
      " [ 0.31369707  1.25369147]\n",
      " [ 0.4147687   1.24608974]\n",
      " [ 0.50583732  1.23759309]\n",
      " [ 0.5879155   1.22839628]\n",
      " [ 0.66191187  1.21866759]\n",
      " [ 0.7286419   1.20855206]\n",
      " [ 0.78883753  1.19817418]\n",
      " [ 0.8431558   1.18764038]\n",
      " [ 0.89218656  1.17704124]\n",
      " [ 0.93645948  1.16645343]\n",
      " [ 0.97645018  1.15594141]\n",
      " [ 1.01258584  1.14555896]\n",
      " [ 1.04525019  1.13535055]\n",
      " [ 1.07478798  1.12535253]\n",
      " [ 1.10150897  1.11559418]\n",
      " [ 1.12569158  1.10609865]\n",
      " [ 1.14758603  1.09688377]\n",
      " [ 1.16741729  1.08796282]\n",
      " [ 1.18538766  1.07934511]\n",
      " [ 1.20167908  1.0710366 ]\n",
      " [ 1.21645519  1.06304036]\n",
      " [ 1.22986325  1.05535704]\n",
      " [ 1.24203578  1.0479852 ]\n",
      " [ 1.25309206  1.0409217 ]\n",
      " [ 1.2631395   1.03416197]\n",
      " [ 1.27227481  1.02770025]\n",
      " [ 1.28058513  1.02152982]\n",
      " [ 1.28814896  1.01564322]\n",
      " [ 1.29503707  1.01003238]\n",
      " [ 1.30131324  1.00468879]\n",
      " [ 1.30703501  0.99960361]\n",
      " [ 1.31225428  0.99476777]\n",
      " [ 1.31701789  0.9901721 ]\n",
      " [ 1.3213681   0.98580736]\n",
      " [ 1.32534309  0.98166433]\n",
      " [ 1.32897735  0.97773385]\n",
      " [ 1.33230204  0.97400691]\n",
      " [ 1.33534533  0.97047462]\n",
      " [ 1.33813268  0.96712829]\n",
      " [ 1.34068715  0.96395944]\n",
      " [ 1.3430296   0.96095984]\n",
      " [ 1.34517889  0.95812146]\n",
      " [ 1.34715215  0.95543657]\n",
      " [ 1.34896487  0.9528977 ]\n",
      " [ 1.35063111  0.95049761]\n",
      " [ 1.35216361  0.94822939]\n",
      " [ 1.35357393  0.94608636]\n",
      " [ 1.35487259  0.94406213]\n",
      " [ 1.35606911  0.94215056]\n",
      " [ 1.35717218  0.94034581]\n",
      " [ 1.35818967  0.93864226]\n",
      " [ 1.35912875  0.93703457]\n",
      " [ 1.35999595  0.93551762]\n",
      " [ 1.36079721  0.93408657]\n",
      " [ 1.36153796  0.93273677]\n",
      " [ 1.36222312  0.93146381]\n",
      " [ 1.36285721  0.93026351]\n",
      " [ 1.36344434  0.92913189]\n",
      " [ 1.36398826  0.92806515]\n",
      " [ 1.36449241  0.92705972]\n",
      " [ 1.36495991  0.92611218]\n",
      " [ 1.36539365  0.9252193 ]\n",
      " [ 1.36579625  0.92437803]\n",
      " [ 1.36617012  0.92358546]\n",
      " [ 1.36651745  0.92283885]\n",
      " [ 1.36684029  0.92213561]\n",
      " [ 1.36714048  0.92147326]\n",
      " [ 1.36741972  0.92084949]\n",
      " [ 1.36767958  0.9202621 ]\n",
      " [ 1.36792151  0.919709  ]\n",
      " [ 1.36814682  0.91918824]\n",
      " [ 1.36835674  0.91869796]\n",
      " [ 1.36855239  0.9182364 ]\n",
      " [ 1.36873479  0.9178019 ]\n",
      " [ 1.3689049   0.91739291]\n",
      " [ 1.36906361  0.91700795]\n",
      " [ 1.36921172  0.91664563]\n",
      " [ 1.36934999  0.91630463]\n",
      " [ 1.3694791   0.91598371]\n",
      " [ 1.3695997   0.91568171]\n",
      " [ 1.36971237  0.91539752]\n",
      " [ 1.36981767  0.9151301 ]\n",
      " [ 1.36991611  0.91487847]\n",
      " [ 1.37000815  0.91464172]\n",
      " [ 1.37009423  0.91441896]\n",
      " [ 1.37017475  0.91420938]\n",
      " [ 1.3702501   0.9140122 ]\n",
      " [ 1.37032061  0.9138267 ]\n",
      " [ 1.37038661  0.91365219]\n",
      " [ 1.3704484   0.91348802]\n",
      " [ 1.37050626  0.91333359]\n",
      " [ 1.37056045  0.91318832]\n",
      " [ 1.37061122  0.91305166]\n",
      " [ 1.37065878  0.91292312]\n",
      " [ 1.37070334  0.91280222]\n",
      " [ 1.37074511  0.91268849]\n",
      " [ 1.37078425  0.91258152]\n",
      " [ 1.37082095  0.91248091]\n",
      " [ 1.37085536  0.91238628]\n",
      " [ 1.37088762  0.91229728]\n",
      " [ 1.37091788  0.91221358]\n",
      " [ 1.37094625  0.91213485]\n",
      " [ 1.37097287  0.91206081]\n",
      " [ 1.37099784  0.91199118]\n",
      " [ 1.37102127  0.91192569]\n",
      " [ 1.37104325  0.9118641 ]\n",
      " [ 1.37106388  0.91180618]\n",
      " [ 1.37108324  0.91175171]\n",
      " [ 1.37110141  0.91170049]\n",
      " [ 1.37111846  0.91165232]\n",
      " [ 1.37113447  0.91160702]\n",
      " [ 1.3711495   0.91156442]\n",
      " [ 1.37116361  0.91152436]\n",
      " [ 1.37117685  0.91148668]\n",
      " [ 1.37118929  0.91145126]\n",
      " [ 1.37120097  0.91141795]\n",
      " [ 1.37121194  0.91138662]\n",
      " [ 1.37122224  0.91135716]\n",
      " [ 1.37123192  0.91132946]\n",
      " [ 1.371241    0.91130342]\n",
      " [ 1.37124954  0.91127892]\n",
      " [ 1.37125755  0.91125589]\n",
      " [ 1.37126509  0.91123424]\n",
      " [ 1.37127216  0.91121387]\n",
      " [ 1.37127881  0.91119473]\n",
      " [ 1.37128505  0.91117672]\n",
      " [ 1.37129092  0.91115979]\n",
      " [ 1.37129643  0.91114387]\n",
      " [ 1.37130161  0.9111289 ]\n",
      " [ 1.37130647  0.91111483]\n",
      " [ 1.37131104  0.91110159]\n",
      " [ 1.37131534  0.91108915]\n",
      " [ 1.37131938  0.91107745]\n",
      " [ 1.37132317  0.91106645]\n",
      " [ 1.37132674  0.9110561 ]\n",
      " [ 1.37133009  0.91104637]\n",
      " [ 1.37133323  0.91103723]\n",
      " [ 1.37133619  0.91102863]\n",
      " [ 1.37133897  0.91102054]\n",
      " [ 1.37134159  0.91101294]\n",
      " [ 1.37134404  0.91100579]\n",
      " [ 1.37134635  0.91099907]\n",
      " [ 1.37134852  0.91099275]\n",
      " [ 1.37135056  0.9109868 ]\n",
      " [ 1.37135248  0.91098122]\n",
      " [ 1.37135428  0.91097596]\n",
      " [ 1.37135597  0.91097102]\n",
      " [ 1.37135757  0.91096638]\n",
      " [ 1.37135906  0.91096201]\n",
      " [ 1.37136047  0.91095791]\n",
      " [ 1.37136179  0.91095405]\n",
      " [ 1.37136303  0.91095042]\n",
      " [ 1.3713642   0.910947  ]\n",
      " [ 1.3713653   0.91094379]\n",
      " [ 1.37136633  0.91094078]\n",
      " [ 1.3713673   0.91093794]\n",
      " [ 1.37136822  0.91093527]\n",
      " [ 1.37136907  0.91093276]\n",
      " [ 1.37136988  0.91093041]\n",
      " [ 1.37137064  0.91092819]\n",
      " [ 1.37137135  0.9109261 ]\n",
      " [ 1.37137202  0.91092414]\n",
      " [ 1.37137265  0.9109223 ]\n",
      " [ 1.37137324  0.91092057]\n",
      " [ 1.3713738   0.91091894]\n",
      " [ 1.37137432  0.91091741]\n",
      " [ 1.37137481  0.91091597]\n",
      " [ 1.37137528  0.91091461]\n",
      " [ 1.37137571  0.91091334]\n",
      " [ 1.37137612  0.91091214]\n",
      " [ 1.3713765   0.91091102]\n",
      " [ 1.37137687  0.91090996]\n",
      " [ 1.37137721  0.91090896]\n",
      " [ 1.37137752  0.91090803]\n",
      " [ 1.37137782  0.91090715]\n",
      " [ 1.37137811  0.91090632]\n",
      " [ 1.37137837  0.91090554]\n",
      " [ 1.37137862  0.91090481]\n",
      " [ 1.37137886  0.91090413]\n",
      " [ 1.37137908  0.91090348]\n",
      " [ 1.37137928  0.91090287]\n",
      " [ 1.37137948  0.9109023 ]\n",
      " [ 1.37137966  0.91090176]\n",
      " [ 1.37137983  0.91090126]\n",
      " [ 1.37138     0.91090078]\n",
      " [ 1.37138015  0.91090034]\n",
      " [ 1.37138029  0.91089992]\n",
      " [ 1.37138043  0.91089952]\n",
      " [ 1.37138055  0.91089915]\n",
      " [ 1.37138067  0.9108988 ]\n",
      " [ 1.37138078  0.91089847]\n",
      " [ 1.37138089  0.91089816]\n",
      " [ 1.37138099  0.91089787]\n",
      " [ 1.37138108  0.9108976 ]]\n",
      "[-0.57593163  1.26528858]\n",
      "[[-0.575931634401323, 1.265288583082113], [-0.3860560369018935, 1.2691288320653202], [-0.21522061711915796, 1.2701199517143398], [-0.061482319345825875, 1.2687064554076557], [0.07690151596255118, 1.265277583823725], [0.20149394913421, 1.2601736131146817], [0.31369707210039466, 1.2536914715555985], [0.4147686991749708, 1.2460897389186802], [0.5058373202561172, 1.2375930949385048], [0.5879154977562807, 1.2283962761829557], [0.6619118696232491, 1.2186675943373846], [0.7286419038526177, 1.2085520632684708], [0.7888375347028957, 1.1981741771891872], [0.8431557972235001, 1.1876403777344817], [0.8921865645268007, 1.1770412437226478], [0.9364594813294931, 1.1664534337696224], [0.9764501775227012, 1.1559414086976745], [1.0125858367851306, 1.1455589577958856], [1.045250187422532, 1.135350550411463], [1.074787975604111, 1.1253525320460496], [1.1015089748867346, 1.1155941820709492], [1.125691580294214, 1.106098648333773], [1.1475860301829508, 1.0968837722833367], [1.1674172946154007, 1.0879628167690256], [1.1853876649240964, 1.0793451073568052], [1.2016790755321438, 1.0710365968300557], [1.216455185857044, 1.063040361494621], [1.2298632472239066, 1.0553570369706522], [1.2420357771162487, 1.0479852003171513], [1.2530920607659566, 1.0409217045879475], [1.2631394980002628, 1.0341619712507217], [1.2722748113973852, 1.027700245305103], [1.2805851301310494, 1.021529817404248], [1.2881489623871136, 1.015643216809848], [1.2950370678947183, 1.0100323785871426], [1.301313240913464, 1.0046887880688116], [1.3070350129424686, 0.9996036052797014], [1.3122542834536886, 0.9947677717138877], [1.3170178860888797, 0.9901721015876818], [1.3213680969865398, 0.9858073594533842], [1.325343091212716, 0.9816643258457763], [1.3289773526492628, 0.9777338524437204], [1.332302042137466, 0.9740069080603462], [1.3353453281771603, 0.9704746166249101], [1.338132684035518, 0.9671282881855257], [1.34068715472017, 0.9639594438428268], [1.3430295969133792, 0.960959835418634], [1.3451788946433043, 0.9581214605694378], [1.3471521531810549, 0.9554365739707344], [1.348964873394797, 0.9528976951237923], [1.3506311085614828, 0.9504976132703133], [1.3521636054300674, 0.9482293898417494], [1.3535739311448445, 0.9460863588179493], [1.3548725874715337, 0.9440621253236241], [1.3560691136199912, 0.9421505627501802], [1.3571721788240834, 0.9403458086542075], [1.3581896657197732, 0.9386422596518136], [1.3591287454553518, 0.9370345654996034], [1.3599959453717492, 0.9355176225280093], [1.360797210004788, 0.9340865665705169], [1.3615379560840932, 0.9327367655127776], [1.3622231221342016, 0.931463811568362], [1.3628572132213945, 0.930263513372732], [1.363444341334175, 0.9291318879736608], [1.36398826183544, 0.9280651527845982], [1.3644924063796902, 0.9270597175571986], [1.364959912648507, 0.9261121764202064], [1.3653936512215645, 0.9252193000240215], [1.3657962498681715, 0.9243780278233797], [1.3661701155154007, 0.9235854605245892], [1.3665174541228904, 0.922838852718553], [1.3668402886711064, 0.9221356057162846], [1.3671404754489433, 0.9214732605997153], [1.3674197188077817, 0.9208494914972186], [1.3676795845322753, 0.9202620990903808], [1.3679215119630295, 0.9197090043560675], [1.3681468249927553, 0.9191882425457205], [1.3683567420453016, 0.9186979574020322], [1.3685523851360266, 0.9182363956116334], [1.3687347881021388, 0.917801901491171], [1.368904904082814, 0.9173929119031059], [1.3690636123209636, 0.9170079513967039], [1.3692117243514013, 0.9166456275690016], [1.3693499896337569, 0.9163046266399759], [1.3694791006827265, 0.9159837092357196], [1.3695996977430749, 0.9156817063731041], [1.3697123730521548, 0.9153975156391807], [1.369817674728523, 0.9151300975584217], [1.3699161103214694, 0.9148784721408162], [1.3700081500528918, 0.9146417156038127], [1.3700942297798955, 0.914418957261117], [1.3701747537037638, 0.9142093765714194], [1.370250096848469, 0.9140122003402177], [1.3703206073296703, 0.913826700068027], [1.3703866084331477, 0.9136521894384123], [1.3704484005198099, 0.9134880219394426], [1.3705062627727915, 0.9133335886123434], [1.370560454800689, 0.9131883159213147], [1.3706112181096588, 0.9130516637386739], [1.3706587774559122, 0.9129231234396895], [1.3707033420890675, 0.9128022161016742], [1.3707451068958387, 0.9126884908021125], [1.3707842534526768, 0.9125815230108059], [1.3708209509951768, 0.9124809130712241], [1.3708553573113498, 0.9123862847664527], [1.3708876195652206, 0.9122972839653272], [1.3709178750566131, 0.9122135773445426], [1.3709462519224664, 0.9121348511827131], [1.3709728697845447, 0.9120608102225481], [1.3709978403479646, 0.9119911765974872], [1.3710212679545772, 0.9119256888193142], [1.3710432500948837, 0.9118641008234395], [1.3710638778818396, 0.9118061810686997], [1.3710832364896146, 0.9117517116886863], [1.371101405560103, 0.911700487691759], [1.3711184595797448, 0.911652316207051], [1.3711344682289963, 0.9116070157739055], [1.371149496706589, 0.9115644156723223], [1.3711636060305366, 0.9115243552921142], [1.3711768533176854, 0.9114866835385982], [1.3711892920434516, 0.9114512582727604], [1.3712009722832579, 0.9114179457839441], [1.3712119409370478, 0.9113866202932159], [1.3712222419381574, 0.9113571634856644], [1.3712319164477051, 0.9113294640699809], [1.3712410030355786, 0.9113034173637625], [1.3712495378490042, 0.9112789249030626], [1.3712575547696098, 0.9112558940747975], [1.371265085559818, 0.9112342377706922], [1.3712721599993412, 0.9112138740615251], [1.3712788060124903, 0.9111947258904961], [1.3712850497869555, 0.911176720784615], [1.3712909158846613, 0.911159790583063], [1.3712964273452593, 0.9111438711815425], [1.3713016057827743, 0.9111289022916869], [1.371306471475882, 0.9111148272146513], [1.371311043452262, 0.9111015926280598], [1.371315339567433, 0.9110891483855277], [1.371319376578453, 0.911077447328025], [1.371323170212834, 0.9110664451063881], [1.371326735232995, 0.9110561000143265], [1.371330085496561, 0.9110463728313086], [1.3713332340127833, 0.9110372266747495], [1.3713361929953416, 0.9110286268609499], [1.3713389739117738, 0.9110205407742761], [1.3713415875297539, 0.9110129377440936], [1.3713440439604285, 0.9110057889289986], [1.3713463526990064, 0.9109990672079168], [1.37134852266278, 0.9109927470776649], [1.3713505622267497, 0.9109868045565941], [1.3713524792570055, 0.9109812170939553], [1.3713542811420123, 0.9109759634846483], [1.3713559748219342, 0.9109710237890372], [1.3713575668161264, 0.9109663792575319], [1.3713590632489097, 0.9109620122596539], [1.3713604698737405, 0.9109579062173203], [1.3713617920958776, 0.9109540455420972], [1.371363034993642, 0.9109504155761862], [1.3713642033383597, 0.9109470025369228], [1.37136530161307, 0.9109437934645802], [1.3713663340300786, 0.9109407761732786], [1.371367304547428, 0.91093793920482], [1.371368216884353, 0.9109352717852716], [1.3713690745357872, 0.9109327637841358], [1.3713698807859749, 0.9109304056759537], [1.3713706387212514, 0.910928188504196], [1.3713713512420382, 0.9109261038473063], [1.3713720210741045, 0.9109241437867688], [1.3713726507791395, 0.9109223008770796], [1.3713732427646799, 0.9109205681175087], [1.3713737992934303, 0.9109189389255455], [1.3713743224920167, 0.9109174071119291], [1.371374814359206, 0.9109159668571665], [1.3713752767736251, 0.9109146126894528], [1.371375711501012, 0.9109133394639086], [1.3713761202010233, 0.9109121423430554], [1.371376504433633, 0.910911016778457], [1.3713768656651382, 0.9109099584934561], [1.3713772052738038, 0.9109089634669414], [1.3713775245551647, 0.9109080279180831], [1.371377824727006, 0.9109071482919805], [1.3713781069340425, 0.9109063212461653], [1.3713783722523147, 0.9109055436379118], [1.3713786216933204, 0.9109048125123036], [1.3713788562078943, 0.9109041250910138], [1.3713790766898561, 0.9109034787617544], [1.3713792839794359, 0.9109028710683563], [1.3713794788664946, 0.9109022997014414], [1.3713796620935494, 0.910901762489652], [1.3713798343586174, 0.9109012573914035], [1.371379996317887, 0.9109007824871305], [1.3713801485882289, 0.9109003359719952], [1.3713802917495561, 0.9108999161490322], [1.371380426347042, 0.910899521422702], [1.3713805528932037, 0.9108991502928303], [1.371380671869862, 0.9108988013489085], [1.371380783729982, 0.9108984732647358], [1.3713808888994032, 0.9108981647933804], [1.3713809877784664, 0.9108978747624421], [1.3713810807435423, 0.9108976020695987]]\n"
     ]
    }
   ],
   "source": [
    "alpha =0.1\n",
    "n_iter = 200\n",
    "\n",
    "theta = np.random.randn(2,1)\n",
    "print(theta)\n",
    "X_b = np.c_[np.ones((len(X),1)),X]\n",
    "print(X_b)\n",
    "print(computeCost(theta,X_b,y))\n",
    "\n",
    "theta,cost_history,theta_history = gradient_descent(X_b,y,theta,alpha,n_iter)\n",
    "\n",
    "print('Theta0:          {:0.3f},\\nTheta1:          {:0.3f}'.format(theta[0][0],theta[1][0]))\n",
    "print('Final cost/MSE:  {:0.3f}'.format(cost_history[-1]))\n",
    "\n",
    "plt.plot(cost_history)\n",
    "plt.xlabel(\"Iteration\")\n",
    "plt.ylabel(\"$J(\\Theta)$\")\n",
    "plt.title(\"Cost function using Gradient Descent\")\n",
    "c=[]\n",
    "print('theta_history is',theta_history)\n",
    "print(theta_history[0])\n",
    "for i in range(len(theta_history)):\n",
    "    c.append([theta_history[i][0],theta_history[i][1]])\n",
    "print(c)"
   ]
  },
  {
   "cell_type": "markdown",
   "metadata": {},
   "source": [
    "<table><tr><td bgcolor=lightyellow>Note, a column of 1's is added to the data matrix to form the design matrix. This is necessary because the column of 1's multiplies with $\\theta_0$ to provide the intercept of the fit."
   ]
  },
  {
   "cell_type": "markdown",
   "metadata": {},
   "source": [
    "<table><tr><td bgcolor=lightyellow>To view the process of gradient descent, here we plot the cost_history:"
   ]
  },
  {
   "cell_type": "code",
   "execution_count": 72,
   "metadata": {
    "jupyter": {
     "outputs_hidden": false
    }
   },
   "outputs": [
    {
     "data": {
      "text/plain": [
       "Text(0.5, 1.0, 'Cost function using Gradient Descent')"
      ]
     },
     "execution_count": 72,
     "metadata": {},
     "output_type": "execute_result"
    }
   ],
   "source": [
    "plt.plot(cost_history)\n",
    "plt.xlabel(\"Iteration\")\n",
    "plt.ylabel(\"$J(\\Theta)$\")\n",
    "plt.yscale(\"log\")\n",
    "plt.title(\"Cost function using Gradient Descent\")"
   ]
  },
  {
   "cell_type": "code",
   "execution_count": 73,
   "metadata": {},
   "outputs": [],
   "source": [
    "x = np.linspace(-2,3,100)\n",
    "y_grad = 1.371+0.911*x\n",
    "\n",
    "plt.scatter(X, y, color='red')\n",
    "plt.plot(x,y_grad,'b-',label='Gradient Descent',color='blue')\n",
    "plt.title('Concentraiton vs Recession Rate', fontsize=14)\n",
    "plt.xlabel('Scaled Modelled SO2 Concentration', fontsize=14)\n",
    "plt.ylabel('Surface Recession Rate', fontsize=14)\n",
    "plt.legend(loc='upper left')\n",
    "plt.grid(True)\n",
    "plt.show()\n"
   ]
  },
  {
   "cell_type": "markdown",
   "metadata": {},
   "source": [
    "<table><tr><td bgcolor=lightyellow>The figure shows that in gradient descent, the cost function rapidly drops and then slows after many iterations, i.e. the rate of descent slows as the optimum value is approached."
   ]
  },
  {
   "cell_type": "markdown",
   "metadata": {},
   "source": [
    "#### Conjugate Gradient Descent"
   ]
  },
  {
   "cell_type": "markdown",
   "metadata": {},
   "source": [
    "<table><tr><td bgcolor=lightyellow>In essence, conjugate gradient descent is a method of solving a linear equation of the form $Ax=b$. Here, in the context of fitting data, A is the 'X' component(design matrix) and b is the 'y' component as written in the above problem and 'x' is the vector $\\theta$.\n",
    "    <br><br>The objective of conjugate gradient descent, just like previously, is to minimize the cost function. The cost function is equivalent to the one above, but can be written in another way."
   ]
  },
  {
   "cell_type": "markdown",
   "metadata": {},
   "source": [
    "<table><tr><td bgcolor=lightyellow>Since the cost function can be written as $J(\\theta)=\\frac{1}{2}(X\\theta-y)^T (X\\theta-y)$.\n",
    "This can also be written in the quadratic form $J(\\theta) = \\frac{1}{2}(\\theta^T X^T X\\theta)-(\\theta^T X^T y)-(y^T X \\theta)+y^T y$. Then the objective of conjugate gradient: minimizing that function can be performed."
   ]
  },
  {
   "cell_type": "code",
   "execution_count": 74,
   "metadata": {
    "jupyter": {
     "outputs_hidden": false
    }
   },
   "outputs": [],
   "source": [
    "def findcost(X,theta,y):                                  #cost function as above\n",
    "    J = 0.5*np.matmul(((X.dot(theta)-y).T),(X.dot(theta)-y))\n",
    "    return J"
   ]
  },
  {
   "cell_type": "code",
   "execution_count": 75,
   "metadata": {
    "jupyter": {
     "outputs_hidden": false
    }
   },
   "outputs": [],
   "source": [
    "theta = np.zeros((2,1))"
   ]
  },
  {
   "cell_type": "code",
   "execution_count": 76,
   "metadata": {
    "jupyter": {
     "outputs_hidden": false
    }
   },
   "outputs": [],
   "source": [
    "A = X_b.T @ X_b\n",
    "b = (X_b.T @ y)+ np.linalg.pinv(theta.T) @ y.T @ X_b @ theta\n",
    "c = y.T @ y"
   ]
  },
  {
   "cell_type": "markdown",
   "metadata": {},
   "source": [
    "<table><tr><td bgcolor=lightyellow>It may be proven that A is a symmetric and positive-definite matrix.  "
   ]
  },
  {
   "cell_type": "markdown",
   "metadata": {},
   "source": [
    "<table><tr><td bgcolor=lightyellow>If one were to try and solve the problem using conjugate gradient descent as a black box, the algorithm below would be used."
   ]
  },
  {
   "cell_type": "code",
   "execution_count": 77,
   "metadata": {
    "jupyter": {
     "outputs_hidden": false
    }
   },
   "outputs": [
    {
     "data": {
      "text/plain": [
       "(array([1.37138254, 0.91089331]), 0)"
      ]
     },
     "execution_count": 77,
     "metadata": {},
     "output_type": "execute_result"
    }
   ],
   "source": [
    "from scipy.sparse.linalg import cg\n",
    "cg(A,b)"
   ]
  },
  {
   "cell_type": "markdown",
   "metadata": {},
   "source": [
    "<table><tr><td bgcolor=lightyellow>Comparing the two results from gradient descent and conjugate descent overlayed on the original data."
   ]
  },
  {
   "cell_type": "code",
   "execution_count": 78,
   "metadata": {
    "jupyter": {
     "outputs_hidden": false
    }
   },
   "outputs": [],
   "source": [
    "\n",
    "y_grad = 1.371+0.911*X\n",
    "y_cg = 1.37138254+0.91089331*X"
   ]
  },
  {
   "cell_type": "code",
   "execution_count": 79,
   "metadata": {
    "jupyter": {
     "outputs_hidden": false
    },
    "scrolled": true
   },
   "outputs": [
    {
     "data": {
      "application/javascript": [
       "/* Put everything inside the global mpl namespace */\n",
       "window.mpl = {};\n",
       "\n",
       "\n",
       "mpl.get_websocket_type = function() {\n",
       "    if (typeof(WebSocket) !== 'undefined') {\n",
       "        return WebSocket;\n",
       "    } else if (typeof(MozWebSocket) !== 'undefined') {\n",
       "        return MozWebSocket;\n",
       "    } else {\n",
       "        alert('Your browser does not have WebSocket support.' +\n",
       "              'Please try Chrome, Safari or Firefox ≥ 6. ' +\n",
       "              'Firefox 4 and 5 are also supported but you ' +\n",
       "              'have to enable WebSockets in about:config.');\n",
       "    };\n",
       "}\n",
       "\n",
       "mpl.figure = function(figure_id, websocket, ondownload, parent_element) {\n",
       "    this.id = figure_id;\n",
       "\n",
       "    this.ws = websocket;\n",
       "\n",
       "    this.supports_binary = (this.ws.binaryType != undefined);\n",
       "\n",
       "    if (!this.supports_binary) {\n",
       "        var warnings = document.getElementById(\"mpl-warnings\");\n",
       "        if (warnings) {\n",
       "            warnings.style.display = 'block';\n",
       "            warnings.textContent = (\n",
       "                \"This browser does not support binary websocket messages. \" +\n",
       "                    \"Performance may be slow.\");\n",
       "        }\n",
       "    }\n",
       "\n",
       "    this.imageObj = new Image();\n",
       "\n",
       "    this.context = undefined;\n",
       "    this.message = undefined;\n",
       "    this.canvas = undefined;\n",
       "    this.rubberband_canvas = undefined;\n",
       "    this.rubberband_context = undefined;\n",
       "    this.format_dropdown = undefined;\n",
       "\n",
       "    this.image_mode = 'full';\n",
       "\n",
       "    this.root = $('<div/>');\n",
       "    this._root_extra_style(this.root)\n",
       "    this.root.attr('style', 'display: inline-block');\n",
       "\n",
       "    $(parent_element).append(this.root);\n",
       "\n",
       "    this._init_header(this);\n",
       "    this._init_canvas(this);\n",
       "    this._init_toolbar(this);\n",
       "\n",
       "    var fig = this;\n",
       "\n",
       "    this.waiting = false;\n",
       "\n",
       "    this.ws.onopen =  function () {\n",
       "            fig.send_message(\"supports_binary\", {value: fig.supports_binary});\n",
       "            fig.send_message(\"send_image_mode\", {});\n",
       "            if (mpl.ratio != 1) {\n",
       "                fig.send_message(\"set_dpi_ratio\", {'dpi_ratio': mpl.ratio});\n",
       "            }\n",
       "            fig.send_message(\"refresh\", {});\n",
       "        }\n",
       "\n",
       "    this.imageObj.onload = function() {\n",
       "            if (fig.image_mode == 'full') {\n",
       "                // Full images could contain transparency (where diff images\n",
       "                // almost always do), so we need to clear the canvas so that\n",
       "                // there is no ghosting.\n",
       "                fig.context.clearRect(0, 0, fig.canvas.width, fig.canvas.height);\n",
       "            }\n",
       "            fig.context.drawImage(fig.imageObj, 0, 0);\n",
       "        };\n",
       "\n",
       "    this.imageObj.onunload = function() {\n",
       "        fig.ws.close();\n",
       "    }\n",
       "\n",
       "    this.ws.onmessage = this._make_on_message_function(this);\n",
       "\n",
       "    this.ondownload = ondownload;\n",
       "}\n",
       "\n",
       "mpl.figure.prototype._init_header = function() {\n",
       "    var titlebar = $(\n",
       "        '<div class=\"ui-dialog-titlebar ui-widget-header ui-corner-all ' +\n",
       "        'ui-helper-clearfix\"/>');\n",
       "    var titletext = $(\n",
       "        '<div class=\"ui-dialog-title\" style=\"width: 100%; ' +\n",
       "        'text-align: center; padding: 3px;\"/>');\n",
       "    titlebar.append(titletext)\n",
       "    this.root.append(titlebar);\n",
       "    this.header = titletext[0];\n",
       "}\n",
       "\n",
       "\n",
       "\n",
       "mpl.figure.prototype._canvas_extra_style = function(canvas_div) {\n",
       "\n",
       "}\n",
       "\n",
       "\n",
       "mpl.figure.prototype._root_extra_style = function(canvas_div) {\n",
       "\n",
       "}\n",
       "\n",
       "mpl.figure.prototype._init_canvas = function() {\n",
       "    var fig = this;\n",
       "\n",
       "    var canvas_div = $('<div/>');\n",
       "\n",
       "    canvas_div.attr('style', 'position: relative; clear: both; outline: 0');\n",
       "\n",
       "    function canvas_keyboard_event(event) {\n",
       "        return fig.key_event(event, event['data']);\n",
       "    }\n",
       "\n",
       "    canvas_div.keydown('key_press', canvas_keyboard_event);\n",
       "    canvas_div.keyup('key_release', canvas_keyboard_event);\n",
       "    this.canvas_div = canvas_div\n",
       "    this._canvas_extra_style(canvas_div)\n",
       "    this.root.append(canvas_div);\n",
       "\n",
       "    var canvas = $('<canvas/>');\n",
       "    canvas.addClass('mpl-canvas');\n",
       "    canvas.attr('style', \"left: 0; top: 0; z-index: 0; outline: 0\")\n",
       "\n",
       "    this.canvas = canvas[0];\n",
       "    this.context = canvas[0].getContext(\"2d\");\n",
       "\n",
       "    var backingStore = this.context.backingStorePixelRatio ||\n",
       "\tthis.context.webkitBackingStorePixelRatio ||\n",
       "\tthis.context.mozBackingStorePixelRatio ||\n",
       "\tthis.context.msBackingStorePixelRatio ||\n",
       "\tthis.context.oBackingStorePixelRatio ||\n",
       "\tthis.context.backingStorePixelRatio || 1;\n",
       "\n",
       "    mpl.ratio = (window.devicePixelRatio || 1) / backingStore;\n",
       "\n",
       "    var rubberband = $('<canvas/>');\n",
       "    rubberband.attr('style', \"position: absolute; left: 0; top: 0; z-index: 1;\")\n",
       "\n",
       "    var pass_mouse_events = true;\n",
       "\n",
       "    canvas_div.resizable({\n",
       "        start: function(event, ui) {\n",
       "            pass_mouse_events = false;\n",
       "        },\n",
       "        resize: function(event, ui) {\n",
       "            fig.request_resize(ui.size.width, ui.size.height);\n",
       "        },\n",
       "        stop: function(event, ui) {\n",
       "            pass_mouse_events = true;\n",
       "            fig.request_resize(ui.size.width, ui.size.height);\n",
       "        },\n",
       "    });\n",
       "\n",
       "    function mouse_event_fn(event) {\n",
       "        if (pass_mouse_events)\n",
       "            return fig.mouse_event(event, event['data']);\n",
       "    }\n",
       "\n",
       "    rubberband.mousedown('button_press', mouse_event_fn);\n",
       "    rubberband.mouseup('button_release', mouse_event_fn);\n",
       "    // Throttle sequential mouse events to 1 every 20ms.\n",
       "    rubberband.mousemove('motion_notify', mouse_event_fn);\n",
       "\n",
       "    rubberband.mouseenter('figure_enter', mouse_event_fn);\n",
       "    rubberband.mouseleave('figure_leave', mouse_event_fn);\n",
       "\n",
       "    canvas_div.on(\"wheel\", function (event) {\n",
       "        event = event.originalEvent;\n",
       "        event['data'] = 'scroll'\n",
       "        if (event.deltaY < 0) {\n",
       "            event.step = 1;\n",
       "        } else {\n",
       "            event.step = -1;\n",
       "        }\n",
       "        mouse_event_fn(event);\n",
       "    });\n",
       "\n",
       "    canvas_div.append(canvas);\n",
       "    canvas_div.append(rubberband);\n",
       "\n",
       "    this.rubberband = rubberband;\n",
       "    this.rubberband_canvas = rubberband[0];\n",
       "    this.rubberband_context = rubberband[0].getContext(\"2d\");\n",
       "    this.rubberband_context.strokeStyle = \"#000000\";\n",
       "\n",
       "    this._resize_canvas = function(width, height) {\n",
       "        // Keep the size of the canvas, canvas container, and rubber band\n",
       "        // canvas in synch.\n",
       "        canvas_div.css('width', width)\n",
       "        canvas_div.css('height', height)\n",
       "\n",
       "        canvas.attr('width', width * mpl.ratio);\n",
       "        canvas.attr('height', height * mpl.ratio);\n",
       "        canvas.attr('style', 'width: ' + width + 'px; height: ' + height + 'px;');\n",
       "\n",
       "        rubberband.attr('width', width);\n",
       "        rubberband.attr('height', height);\n",
       "    }\n",
       "\n",
       "    // Set the figure to an initial 600x600px, this will subsequently be updated\n",
       "    // upon first draw.\n",
       "    this._resize_canvas(600, 600);\n",
       "\n",
       "    // Disable right mouse context menu.\n",
       "    $(this.rubberband_canvas).bind(\"contextmenu\",function(e){\n",
       "        return false;\n",
       "    });\n",
       "\n",
       "    function set_focus () {\n",
       "        canvas.focus();\n",
       "        canvas_div.focus();\n",
       "    }\n",
       "\n",
       "    window.setTimeout(set_focus, 100);\n",
       "}\n",
       "\n",
       "mpl.figure.prototype._init_toolbar = function() {\n",
       "    var fig = this;\n",
       "\n",
       "    var nav_element = $('<div/>')\n",
       "    nav_element.attr('style', 'width: 100%');\n",
       "    this.root.append(nav_element);\n",
       "\n",
       "    // Define a callback function for later on.\n",
       "    function toolbar_event(event) {\n",
       "        return fig.toolbar_button_onclick(event['data']);\n",
       "    }\n",
       "    function toolbar_mouse_event(event) {\n",
       "        return fig.toolbar_button_onmouseover(event['data']);\n",
       "    }\n",
       "\n",
       "    for(var toolbar_ind in mpl.toolbar_items) {\n",
       "        var name = mpl.toolbar_items[toolbar_ind][0];\n",
       "        var tooltip = mpl.toolbar_items[toolbar_ind][1];\n",
       "        var image = mpl.toolbar_items[toolbar_ind][2];\n",
       "        var method_name = mpl.toolbar_items[toolbar_ind][3];\n",
       "\n",
       "        if (!name) {\n",
       "            // put a spacer in here.\n",
       "            continue;\n",
       "        }\n",
       "        var button = $('<button/>');\n",
       "        button.addClass('ui-button ui-widget ui-state-default ui-corner-all ' +\n",
       "                        'ui-button-icon-only');\n",
       "        button.attr('role', 'button');\n",
       "        button.attr('aria-disabled', 'false');\n",
       "        button.click(method_name, toolbar_event);\n",
       "        button.mouseover(tooltip, toolbar_mouse_event);\n",
       "\n",
       "        var icon_img = $('<span/>');\n",
       "        icon_img.addClass('ui-button-icon-primary ui-icon');\n",
       "        icon_img.addClass(image);\n",
       "        icon_img.addClass('ui-corner-all');\n",
       "\n",
       "        var tooltip_span = $('<span/>');\n",
       "        tooltip_span.addClass('ui-button-text');\n",
       "        tooltip_span.html(tooltip);\n",
       "\n",
       "        button.append(icon_img);\n",
       "        button.append(tooltip_span);\n",
       "\n",
       "        nav_element.append(button);\n",
       "    }\n",
       "\n",
       "    var fmt_picker_span = $('<span/>');\n",
       "\n",
       "    var fmt_picker = $('<select/>');\n",
       "    fmt_picker.addClass('mpl-toolbar-option ui-widget ui-widget-content');\n",
       "    fmt_picker_span.append(fmt_picker);\n",
       "    nav_element.append(fmt_picker_span);\n",
       "    this.format_dropdown = fmt_picker[0];\n",
       "\n",
       "    for (var ind in mpl.extensions) {\n",
       "        var fmt = mpl.extensions[ind];\n",
       "        var option = $(\n",
       "            '<option/>', {selected: fmt === mpl.default_extension}).html(fmt);\n",
       "        fmt_picker.append(option)\n",
       "    }\n",
       "\n",
       "    // Add hover states to the ui-buttons\n",
       "    $( \".ui-button\" ).hover(\n",
       "        function() { $(this).addClass(\"ui-state-hover\");},\n",
       "        function() { $(this).removeClass(\"ui-state-hover\");}\n",
       "    );\n",
       "\n",
       "    var status_bar = $('<span class=\"mpl-message\"/>');\n",
       "    nav_element.append(status_bar);\n",
       "    this.message = status_bar[0];\n",
       "}\n",
       "\n",
       "mpl.figure.prototype.request_resize = function(x_pixels, y_pixels) {\n",
       "    // Request matplotlib to resize the figure. Matplotlib will then trigger a resize in the client,\n",
       "    // which will in turn request a refresh of the image.\n",
       "    this.send_message('resize', {'width': x_pixels, 'height': y_pixels});\n",
       "}\n",
       "\n",
       "mpl.figure.prototype.send_message = function(type, properties) {\n",
       "    properties['type'] = type;\n",
       "    properties['figure_id'] = this.id;\n",
       "    this.ws.send(JSON.stringify(properties));\n",
       "}\n",
       "\n",
       "mpl.figure.prototype.send_draw_message = function() {\n",
       "    if (!this.waiting) {\n",
       "        this.waiting = true;\n",
       "        this.ws.send(JSON.stringify({type: \"draw\", figure_id: this.id}));\n",
       "    }\n",
       "}\n",
       "\n",
       "\n",
       "mpl.figure.prototype.handle_save = function(fig, msg) {\n",
       "    var format_dropdown = fig.format_dropdown;\n",
       "    var format = format_dropdown.options[format_dropdown.selectedIndex].value;\n",
       "    fig.ondownload(fig, format);\n",
       "}\n",
       "\n",
       "\n",
       "mpl.figure.prototype.handle_resize = function(fig, msg) {\n",
       "    var size = msg['size'];\n",
       "    if (size[0] != fig.canvas.width || size[1] != fig.canvas.height) {\n",
       "        fig._resize_canvas(size[0], size[1]);\n",
       "        fig.send_message(\"refresh\", {});\n",
       "    };\n",
       "}\n",
       "\n",
       "mpl.figure.prototype.handle_rubberband = function(fig, msg) {\n",
       "    var x0 = msg['x0'] / mpl.ratio;\n",
       "    var y0 = (fig.canvas.height - msg['y0']) / mpl.ratio;\n",
       "    var x1 = msg['x1'] / mpl.ratio;\n",
       "    var y1 = (fig.canvas.height - msg['y1']) / mpl.ratio;\n",
       "    x0 = Math.floor(x0) + 0.5;\n",
       "    y0 = Math.floor(y0) + 0.5;\n",
       "    x1 = Math.floor(x1) + 0.5;\n",
       "    y1 = Math.floor(y1) + 0.5;\n",
       "    var min_x = Math.min(x0, x1);\n",
       "    var min_y = Math.min(y0, y1);\n",
       "    var width = Math.abs(x1 - x0);\n",
       "    var height = Math.abs(y1 - y0);\n",
       "\n",
       "    fig.rubberband_context.clearRect(\n",
       "        0, 0, fig.canvas.width, fig.canvas.height);\n",
       "\n",
       "    fig.rubberband_context.strokeRect(min_x, min_y, width, height);\n",
       "}\n",
       "\n",
       "mpl.figure.prototype.handle_figure_label = function(fig, msg) {\n",
       "    // Updates the figure title.\n",
       "    fig.header.textContent = msg['label'];\n",
       "}\n",
       "\n",
       "mpl.figure.prototype.handle_cursor = function(fig, msg) {\n",
       "    var cursor = msg['cursor'];\n",
       "    switch(cursor)\n",
       "    {\n",
       "    case 0:\n",
       "        cursor = 'pointer';\n",
       "        break;\n",
       "    case 1:\n",
       "        cursor = 'default';\n",
       "        break;\n",
       "    case 2:\n",
       "        cursor = 'crosshair';\n",
       "        break;\n",
       "    case 3:\n",
       "        cursor = 'move';\n",
       "        break;\n",
       "    }\n",
       "    fig.rubberband_canvas.style.cursor = cursor;\n",
       "}\n",
       "\n",
       "mpl.figure.prototype.handle_message = function(fig, msg) {\n",
       "    fig.message.textContent = msg['message'];\n",
       "}\n",
       "\n",
       "mpl.figure.prototype.handle_draw = function(fig, msg) {\n",
       "    // Request the server to send over a new figure.\n",
       "    fig.send_draw_message();\n",
       "}\n",
       "\n",
       "mpl.figure.prototype.handle_image_mode = function(fig, msg) {\n",
       "    fig.image_mode = msg['mode'];\n",
       "}\n",
       "\n",
       "mpl.figure.prototype.updated_canvas_event = function() {\n",
       "    // Called whenever the canvas gets updated.\n",
       "    this.send_message(\"ack\", {});\n",
       "}\n",
       "\n",
       "// A function to construct a web socket function for onmessage handling.\n",
       "// Called in the figure constructor.\n",
       "mpl.figure.prototype._make_on_message_function = function(fig) {\n",
       "    return function socket_on_message(evt) {\n",
       "        if (evt.data instanceof Blob) {\n",
       "            /* FIXME: We get \"Resource interpreted as Image but\n",
       "             * transferred with MIME type text/plain:\" errors on\n",
       "             * Chrome.  But how to set the MIME type?  It doesn't seem\n",
       "             * to be part of the websocket stream */\n",
       "            evt.data.type = \"image/png\";\n",
       "\n",
       "            /* Free the memory for the previous frames */\n",
       "            if (fig.imageObj.src) {\n",
       "                (window.URL || window.webkitURL).revokeObjectURL(\n",
       "                    fig.imageObj.src);\n",
       "            }\n",
       "\n",
       "            fig.imageObj.src = (window.URL || window.webkitURL).createObjectURL(\n",
       "                evt.data);\n",
       "            fig.updated_canvas_event();\n",
       "            fig.waiting = false;\n",
       "            return;\n",
       "        }\n",
       "        else if (typeof evt.data === 'string' && evt.data.slice(0, 21) == \"data:image/png;base64\") {\n",
       "            fig.imageObj.src = evt.data;\n",
       "            fig.updated_canvas_event();\n",
       "            fig.waiting = false;\n",
       "            return;\n",
       "        }\n",
       "\n",
       "        var msg = JSON.parse(evt.data);\n",
       "        var msg_type = msg['type'];\n",
       "\n",
       "        // Call the  \"handle_{type}\" callback, which takes\n",
       "        // the figure and JSON message as its only arguments.\n",
       "        try {\n",
       "            var callback = fig[\"handle_\" + msg_type];\n",
       "        } catch (e) {\n",
       "            console.log(\"No handler for the '\" + msg_type + \"' message type: \", msg);\n",
       "            return;\n",
       "        }\n",
       "\n",
       "        if (callback) {\n",
       "            try {\n",
       "                // console.log(\"Handling '\" + msg_type + \"' message: \", msg);\n",
       "                callback(fig, msg);\n",
       "            } catch (e) {\n",
       "                console.log(\"Exception inside the 'handler_\" + msg_type + \"' callback:\", e, e.stack, msg);\n",
       "            }\n",
       "        }\n",
       "    };\n",
       "}\n",
       "\n",
       "// from http://stackoverflow.com/questions/1114465/getting-mouse-location-in-canvas\n",
       "mpl.findpos = function(e) {\n",
       "    //this section is from http://www.quirksmode.org/js/events_properties.html\n",
       "    var targ;\n",
       "    if (!e)\n",
       "        e = window.event;\n",
       "    if (e.target)\n",
       "        targ = e.target;\n",
       "    else if (e.srcElement)\n",
       "        targ = e.srcElement;\n",
       "    if (targ.nodeType == 3) // defeat Safari bug\n",
       "        targ = targ.parentNode;\n",
       "\n",
       "    // jQuery normalizes the pageX and pageY\n",
       "    // pageX,Y are the mouse positions relative to the document\n",
       "    // offset() returns the position of the element relative to the document\n",
       "    var x = e.pageX - $(targ).offset().left;\n",
       "    var y = e.pageY - $(targ).offset().top;\n",
       "\n",
       "    return {\"x\": x, \"y\": y};\n",
       "};\n",
       "\n",
       "/*\n",
       " * return a copy of an object with only non-object keys\n",
       " * we need this to avoid circular references\n",
       " * http://stackoverflow.com/a/24161582/3208463\n",
       " */\n",
       "function simpleKeys (original) {\n",
       "  return Object.keys(original).reduce(function (obj, key) {\n",
       "    if (typeof original[key] !== 'object')\n",
       "        obj[key] = original[key]\n",
       "    return obj;\n",
       "  }, {});\n",
       "}\n",
       "\n",
       "mpl.figure.prototype.mouse_event = function(event, name) {\n",
       "    var canvas_pos = mpl.findpos(event)\n",
       "\n",
       "    if (name === 'button_press')\n",
       "    {\n",
       "        this.canvas.focus();\n",
       "        this.canvas_div.focus();\n",
       "    }\n",
       "\n",
       "    var x = canvas_pos.x * mpl.ratio;\n",
       "    var y = canvas_pos.y * mpl.ratio;\n",
       "\n",
       "    this.send_message(name, {x: x, y: y, button: event.button,\n",
       "                             step: event.step,\n",
       "                             guiEvent: simpleKeys(event)});\n",
       "\n",
       "    /* This prevents the web browser from automatically changing to\n",
       "     * the text insertion cursor when the button is pressed.  We want\n",
       "     * to control all of the cursor setting manually through the\n",
       "     * 'cursor' event from matplotlib */\n",
       "    event.preventDefault();\n",
       "    return false;\n",
       "}\n",
       "\n",
       "mpl.figure.prototype._key_event_extra = function(event, name) {\n",
       "    // Handle any extra behaviour associated with a key event\n",
       "}\n",
       "\n",
       "mpl.figure.prototype.key_event = function(event, name) {\n",
       "\n",
       "    // Prevent repeat events\n",
       "    if (name == 'key_press')\n",
       "    {\n",
       "        if (event.which === this._key)\n",
       "            return;\n",
       "        else\n",
       "            this._key = event.which;\n",
       "    }\n",
       "    if (name == 'key_release')\n",
       "        this._key = null;\n",
       "\n",
       "    var value = '';\n",
       "    if (event.ctrlKey && event.which != 17)\n",
       "        value += \"ctrl+\";\n",
       "    if (event.altKey && event.which != 18)\n",
       "        value += \"alt+\";\n",
       "    if (event.shiftKey && event.which != 16)\n",
       "        value += \"shift+\";\n",
       "\n",
       "    value += 'k';\n",
       "    value += event.which.toString();\n",
       "\n",
       "    this._key_event_extra(event, name);\n",
       "\n",
       "    this.send_message(name, {key: value,\n",
       "                             guiEvent: simpleKeys(event)});\n",
       "    return false;\n",
       "}\n",
       "\n",
       "mpl.figure.prototype.toolbar_button_onclick = function(name) {\n",
       "    if (name == 'download') {\n",
       "        this.handle_save(this, null);\n",
       "    } else {\n",
       "        this.send_message(\"toolbar_button\", {name: name});\n",
       "    }\n",
       "};\n",
       "\n",
       "mpl.figure.prototype.toolbar_button_onmouseover = function(tooltip) {\n",
       "    this.message.textContent = tooltip;\n",
       "};\n",
       "mpl.toolbar_items = [[\"Home\", \"Reset original view\", \"fa fa-home icon-home\", \"home\"], [\"Back\", \"Back to previous view\", \"fa fa-arrow-left icon-arrow-left\", \"back\"], [\"Forward\", \"Forward to next view\", \"fa fa-arrow-right icon-arrow-right\", \"forward\"], [\"\", \"\", \"\", \"\"], [\"Pan\", \"Pan axes with left mouse, zoom with right\", \"fa fa-arrows icon-move\", \"pan\"], [\"Zoom\", \"Zoom to rectangle\", \"fa fa-square-o icon-check-empty\", \"zoom\"], [\"\", \"\", \"\", \"\"], [\"Download\", \"Download plot\", \"fa fa-floppy-o icon-save\", \"download\"]];\n",
       "\n",
       "mpl.extensions = [\"eps\", \"pdf\", \"png\", \"ps\", \"raw\", \"svg\"];\n",
       "\n",
       "mpl.default_extension = \"png\";var comm_websocket_adapter = function(comm) {\n",
       "    // Create a \"websocket\"-like object which calls the given IPython comm\n",
       "    // object with the appropriate methods. Currently this is a non binary\n",
       "    // socket, so there is still some room for performance tuning.\n",
       "    var ws = {};\n",
       "\n",
       "    ws.close = function() {\n",
       "        comm.close()\n",
       "    };\n",
       "    ws.send = function(m) {\n",
       "        //console.log('sending', m);\n",
       "        comm.send(m);\n",
       "    };\n",
       "    // Register the callback with on_msg.\n",
       "    comm.on_msg(function(msg) {\n",
       "        //console.log('receiving', msg['content']['data'], msg);\n",
       "        // Pass the mpl event to the overridden (by mpl) onmessage function.\n",
       "        ws.onmessage(msg['content']['data'])\n",
       "    });\n",
       "    return ws;\n",
       "}\n",
       "\n",
       "mpl.mpl_figure_comm = function(comm, msg) {\n",
       "    // This is the function which gets called when the mpl process\n",
       "    // starts-up an IPython Comm through the \"matplotlib\" channel.\n",
       "\n",
       "    var id = msg.content.data.id;\n",
       "    // Get hold of the div created by the display call when the Comm\n",
       "    // socket was opened in Python.\n",
       "    var element = $(\"#\" + id);\n",
       "    var ws_proxy = comm_websocket_adapter(comm)\n",
       "\n",
       "    function ondownload(figure, format) {\n",
       "        window.open(figure.imageObj.src);\n",
       "    }\n",
       "\n",
       "    var fig = new mpl.figure(id, ws_proxy,\n",
       "                           ondownload,\n",
       "                           element.get(0));\n",
       "\n",
       "    // Call onopen now - mpl needs it, as it is assuming we've passed it a real\n",
       "    // web socket which is closed, not our websocket->open comm proxy.\n",
       "    ws_proxy.onopen();\n",
       "\n",
       "    fig.parent_element = element.get(0);\n",
       "    fig.cell_info = mpl.find_output_cell(\"<div id='\" + id + \"'></div>\");\n",
       "    if (!fig.cell_info) {\n",
       "        console.error(\"Failed to find cell for figure\", id, fig);\n",
       "        return;\n",
       "    }\n",
       "\n",
       "    var output_index = fig.cell_info[2]\n",
       "    var cell = fig.cell_info[0];\n",
       "\n",
       "};\n",
       "\n",
       "mpl.figure.prototype.handle_close = function(fig, msg) {\n",
       "    var width = fig.canvas.width/mpl.ratio\n",
       "    fig.root.unbind('remove')\n",
       "\n",
       "    // Update the output cell to use the data from the current canvas.\n",
       "    fig.push_to_output();\n",
       "    var dataURL = fig.canvas.toDataURL();\n",
       "    // Re-enable the keyboard manager in IPython - without this line, in FF,\n",
       "    // the notebook keyboard shortcuts fail.\n",
       "    IPython.keyboard_manager.enable()\n",
       "    $(fig.parent_element).html('<img src=\"' + dataURL + '\" width=\"' + width + '\">');\n",
       "    fig.close_ws(fig, msg);\n",
       "}\n",
       "\n",
       "mpl.figure.prototype.close_ws = function(fig, msg){\n",
       "    fig.send_message('closing', msg);\n",
       "    // fig.ws.close()\n",
       "}\n",
       "\n",
       "mpl.figure.prototype.push_to_output = function(remove_interactive) {\n",
       "    // Turn the data on the canvas into data in the output cell.\n",
       "    var width = this.canvas.width/mpl.ratio\n",
       "    var dataURL = this.canvas.toDataURL();\n",
       "    this.cell_info[1]['text/html'] = '<img src=\"' + dataURL + '\" width=\"' + width + '\">';\n",
       "}\n",
       "\n",
       "mpl.figure.prototype.updated_canvas_event = function() {\n",
       "    // Tell IPython that the notebook contents must change.\n",
       "    IPython.notebook.set_dirty(true);\n",
       "    this.send_message(\"ack\", {});\n",
       "    var fig = this;\n",
       "    // Wait a second, then push the new image to the DOM so\n",
       "    // that it is saved nicely (might be nice to debounce this).\n",
       "    setTimeout(function () { fig.push_to_output() }, 1000);\n",
       "}\n",
       "\n",
       "mpl.figure.prototype._init_toolbar = function() {\n",
       "    var fig = this;\n",
       "\n",
       "    var nav_element = $('<div/>')\n",
       "    nav_element.attr('style', 'width: 100%');\n",
       "    this.root.append(nav_element);\n",
       "\n",
       "    // Define a callback function for later on.\n",
       "    function toolbar_event(event) {\n",
       "        return fig.toolbar_button_onclick(event['data']);\n",
       "    }\n",
       "    function toolbar_mouse_event(event) {\n",
       "        return fig.toolbar_button_onmouseover(event['data']);\n",
       "    }\n",
       "\n",
       "    for(var toolbar_ind in mpl.toolbar_items){\n",
       "        var name = mpl.toolbar_items[toolbar_ind][0];\n",
       "        var tooltip = mpl.toolbar_items[toolbar_ind][1];\n",
       "        var image = mpl.toolbar_items[toolbar_ind][2];\n",
       "        var method_name = mpl.toolbar_items[toolbar_ind][3];\n",
       "\n",
       "        if (!name) { continue; };\n",
       "\n",
       "        var button = $('<button class=\"btn btn-default\" href=\"#\" title=\"' + name + '\"><i class=\"fa ' + image + ' fa-lg\"></i></button>');\n",
       "        button.click(method_name, toolbar_event);\n",
       "        button.mouseover(tooltip, toolbar_mouse_event);\n",
       "        nav_element.append(button);\n",
       "    }\n",
       "\n",
       "    // Add the status bar.\n",
       "    var status_bar = $('<span class=\"mpl-message\" style=\"text-align:right; float: right;\"/>');\n",
       "    nav_element.append(status_bar);\n",
       "    this.message = status_bar[0];\n",
       "\n",
       "    // Add the close button to the window.\n",
       "    var buttongrp = $('<div class=\"btn-group inline pull-right\"></div>');\n",
       "    var button = $('<button class=\"btn btn-mini btn-primary\" href=\"#\" title=\"Stop Interaction\"><i class=\"fa fa-power-off icon-remove icon-large\"></i></button>');\n",
       "    button.click(function (evt) { fig.handle_close(fig, {}); } );\n",
       "    button.mouseover('Stop Interaction', toolbar_mouse_event);\n",
       "    buttongrp.append(button);\n",
       "    var titlebar = this.root.find($('.ui-dialog-titlebar'));\n",
       "    titlebar.prepend(buttongrp);\n",
       "}\n",
       "\n",
       "mpl.figure.prototype._root_extra_style = function(el){\n",
       "    var fig = this\n",
       "    el.on(\"remove\", function(){\n",
       "\tfig.close_ws(fig, {});\n",
       "    });\n",
       "}\n",
       "\n",
       "mpl.figure.prototype._canvas_extra_style = function(el){\n",
       "    // this is important to make the div 'focusable\n",
       "    el.attr('tabindex', 0)\n",
       "    // reach out to IPython and tell the keyboard manager to turn it's self\n",
       "    // off when our div gets focus\n",
       "\n",
       "    // location in version 3\n",
       "    if (IPython.notebook.keyboard_manager) {\n",
       "        IPython.notebook.keyboard_manager.register_events(el);\n",
       "    }\n",
       "    else {\n",
       "        // location in version 2\n",
       "        IPython.keyboard_manager.register_events(el);\n",
       "    }\n",
       "\n",
       "}\n",
       "\n",
       "mpl.figure.prototype._key_event_extra = function(event, name) {\n",
       "    var manager = IPython.notebook.keyboard_manager;\n",
       "    if (!manager)\n",
       "        manager = IPython.keyboard_manager;\n",
       "\n",
       "    // Check for shift+enter\n",
       "    if (event.shiftKey && event.which == 13) {\n",
       "        this.canvas_div.blur();\n",
       "        event.shiftKey = false;\n",
       "        // Send a \"J\" for go to next cell\n",
       "        event.which = 74;\n",
       "        event.keyCode = 74;\n",
       "        manager.command_mode();\n",
       "        manager.handle_keydown(event);\n",
       "    }\n",
       "}\n",
       "\n",
       "mpl.figure.prototype.handle_save = function(fig, msg) {\n",
       "    fig.ondownload(fig, null);\n",
       "}\n",
       "\n",
       "\n",
       "mpl.find_output_cell = function(html_output) {\n",
       "    // Return the cell and output element which can be found *uniquely* in the notebook.\n",
       "    // Note - this is a bit hacky, but it is done because the \"notebook_saving.Notebook\"\n",
       "    // IPython event is triggered only after the cells have been serialised, which for\n",
       "    // our purposes (turning an active figure into a static one), is too late.\n",
       "    var cells = IPython.notebook.get_cells();\n",
       "    var ncells = cells.length;\n",
       "    for (var i=0; i<ncells; i++) {\n",
       "        var cell = cells[i];\n",
       "        if (cell.cell_type === 'code'){\n",
       "            for (var j=0; j<cell.output_area.outputs.length; j++) {\n",
       "                var data = cell.output_area.outputs[j];\n",
       "                if (data.data) {\n",
       "                    // IPython >= 3 moved mimebundle to data attribute of output\n",
       "                    data = data.data;\n",
       "                }\n",
       "                if (data['text/html'] == html_output) {\n",
       "                    return [cell, data, j];\n",
       "                }\n",
       "            }\n",
       "        }\n",
       "    }\n",
       "}\n",
       "\n",
       "// Register the function which deals with the matplotlib target/channel.\n",
       "// The kernel may be null if the page has been refreshed.\n",
       "if (IPython.notebook.kernel != null) {\n",
       "    IPython.notebook.kernel.comm_manager.register_target('matplotlib', mpl.mpl_figure_comm);\n",
       "}\n"
      ],
      "text/plain": [
       "<IPython.core.display.Javascript object>"
      ]
     },
     "metadata": {},
     "output_type": "display_data"
    },
    {
     "data": {
      "text/html": [
       "<img src=\"data:image/png;base64,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\" width=\"900\">"
      ],
      "text/plain": [
       "<IPython.core.display.HTML object>"
      ]
     },
     "metadata": {},
     "output_type": "display_data"
    }
   ],
   "source": [
    "#XX,y_grad,y_cg=X.reshape((1,len(X))),y_grad.reshape((1,len(X))),y_cg.reshape((1,len(X)))\n",
    "plt.scatter(X, y, color='red')\n",
    "plt.plot(X,y_grad,'b-',label='Gradient Descent',color='blue')\n",
    "plt.plot(X,y_cg,'b-',label='Conjugate Gradient Descent',color='lightgreen',ls='--')\n",
    "plt.title('Concentraiton vs Recession Rate', fontsize=14)\n",
    "plt.xlabel('Scaled Modelled SO2 Concentration', fontsize=14)\n",
    "plt.ylabel('Surface Recession Rate', fontsize=14)\n",
    "plt.legend(loc='upper left')\n",
    "plt.grid(True)\n",
    "plt.show()"
   ]
  },
  {
   "cell_type": "markdown",
   "metadata": {},
   "source": [
    "<table><tr><td bgcolor=lightyellow>As the figure demonstrates, both fits are reasonable fits, now, let's dwelve into the inner workings of the algorithm of conjugate gradient descent.\n",
    "<br><br>Given that we now have the cost function in the required quadratic form: $f(x)=x^T A x - x^T b +c$, we can now start to minimize the function using conjugate gradient descent."
   ]
  },
  {
   "cell_type": "code",
   "execution_count": 80,
   "metadata": {
    "jupyter": {
     "outputs_hidden": false
    }
   },
   "outputs": [],
   "source": [
    "def conjugate_gradient(A,b,atol=10**(-1000),x = np.zeros((len(A),1))):\n",
    "    r = b - A @ x\n",
    "    cost_history_cg = []\n",
    "    x_history=[]\n",
    "    x_history.append([x[0][0],x[1][0]])\n",
    "    while r.mean() > atol:\n",
    "        r = b - A @ x\n",
    "        p = r\n",
    "        alpha = (r.T @ r)/(p.T @ A @ p)\n",
    "        x = x + alpha*p\n",
    "        x_history.append([x[0][0],x[1][0]])\n",
    "        r = r - alpha*A @ p\n",
    "        beta = (r.T @ r)/(p.T @ p)\n",
    "        p = r + beta*p\n",
    "        cost_history_cg.append(computeCost(x,A,b))\n",
    "    return x, cost_history_cg,x_history"
   ]
  },
  {
   "cell_type": "code",
   "execution_count": 81,
   "metadata": {
    "jupyter": {
     "outputs_hidden": false
    }
   },
   "outputs": [
    {
     "name": "stdout",
     "output_type": "stream",
     "text": [
      "theta_history is [[0.0, 0.0], [1.4432017803357207, 0.7475398001791788], [1.361863893776291, 0.9045708808830799], [1.3718810336036298, 0.9097594905473181], [1.3713164743063588, 0.9108494298157432], [1.3713860024151017, 0.9108854435105879], [1.3713820838574204, 0.9108930086856062], [1.3713825664460624, 0.9108932586535746], [1.3713825392476895, 0.9108933111628059], [1.3713825425972959, 0.9108933128978122], [1.3713825424085144, 0.9108933132622742], [1.3713825424317638, 0.9108933132743166], [1.3713825424304533, 0.9108933132768464], [1.371382542430615, 0.9108933132769299], [1.3713825424306056, 0.9108933132769473], [1.3713825424306068, 0.910893313276948], [1.3713825424306068, 0.9108933132769482]]\n"
     ]
    }
   ],
   "source": [
    "theta,cost_history_cg ,theta_history_cg= conjugate_gradient(A,b)\n",
    "print('theta_history is',theta_history_cg)\n",
    "#print(cost_history_cg)"
   ]
  },
  {
   "cell_type": "code",
   "execution_count": 82,
   "metadata": {
    "jupyter": {
     "outputs_hidden": false
    }
   },
   "outputs": [],
   "source": [
    "y_cg2 = theta[0]+theta[1]*X"
   ]
  },
  {
   "cell_type": "markdown",
   "metadata": {},
   "source": [
    "<table><tr><td bgcolor=lightyellow>Now, we compare the 3 fittings together with the initial data in the figure below"
   ]
  },
  {
   "cell_type": "code",
   "execution_count": 83,
   "metadata": {
    "jupyter": {
     "outputs_hidden": false
    },
    "scrolled": true
   },
   "outputs": [],
   "source": [
    "plt.scatter(X, y, color='red')\n",
    "plt.plot(X,y_grad,'ob-',label='Gradient Descent',color='blue')\n",
    "plt.plot(X,y_cg,'g-',label='Conjugate Gradient Descent',color='orange')\n",
    "plt.plot(X,y_cg2,'-',label='Conjugate Gradient Descent 2',color='lightgreen',ls='--')\n",
    "plt.title('Concentraiton vs Recession Rate', fontsize=14)\n",
    "plt.xlabel('Scaled Modelled SO2 Concentration', fontsize=14)\n",
    "plt.ylabel('Surface Recession Rate', fontsize=14)\n",
    "plt.legend(loc='lower right')\n",
    "plt.grid(True)\n",
    "plt.show()"
   ]
  },
  {
   "cell_type": "markdown",
   "metadata": {},
   "source": [
    "<table><tr><td bgcolor=lightyellow>Again, nice fit.<br /> \n",
    "    <br>\n",
    "In addition, have a look at the working of both gradient descent and conjugate gradient descent by plotting the cost function"
   ]
  },
  {
   "cell_type": "code",
   "execution_count": 84,
   "metadata": {
    "jupyter": {
     "outputs_hidden": false
    }
   },
   "outputs": [
    {
     "data": {
      "text/plain": [
       "Text(0.5, 1.0, 'Comparison of Cost Function from Different methods')"
      ]
     },
     "execution_count": 84,
     "metadata": {},
     "output_type": "execute_result"
    }
   ],
   "source": [
    "plt.plot(cost_history,label='Gradient Descent')\n",
    "plt.plot(cost_history_cg,label='Conjugate Gradient Descent')\n",
    "plt.xlabel(\"Iteration\")\n",
    "plt.ylabel(\"$J(\\Theta)$\")\n",
    "plt.legend(loc='best')\n",
    "plt.title(\"Comparison of Cost Function from Different methods\")"
   ]
  },
  {
   "cell_type": "markdown",
   "metadata": {},
   "source": [
    "<table><tr><td bgcolor=lightyellow>As the figure shows, the conjugate gradient descent method converges much quicker, and converges to a smaller value."
   ]
  },
  {
   "cell_type": "markdown",
   "metadata": {},
   "source": [
    "### 3D plot"
   ]
  },
  {
   "cell_type": "markdown",
   "metadata": {},
   "source": [
    "<table><tr><td bgcolor=lightyellow>Here, we try to show the cost function in $\\theta$-space."
   ]
  },
  {
   "cell_type": "code",
   "execution_count": 85,
   "metadata": {
    "jupyter": {
     "outputs_hidden": false
    }
   },
   "outputs": [],
   "source": [
    "def computeCost2(theta0,theta1):\n",
    "    J = 0\n",
    "    m = len(X)\n",
    "    for i in range(m):\n",
    "        J=J+(1/(2*m)) * np.square(theta0+X[i]*theta1-y[i])\n",
    "    return J"
   ]
  },
  {
   "cell_type": "code",
   "execution_count": 86,
   "metadata": {
    "jupyter": {
     "outputs_hidden": false
    },
    "scrolled": true
   },
   "outputs": [],
   "source": [
    "from mpl_toolkits import mplot3d\n",
    "import numpy as np\n",
    "import matplotlib.pyplot as plt\n",
    "\n",
    "\n",
    "A=theta_history[:,0].tolist() #theta0\n",
    "B=theta_history[:,1].tolist()  #theta1\n",
    "A1=np.linspace(-1.5,3,100).tolist()# To make the surface complete\n",
    "B1=np.linspace(-1.5,3,100).tolist()\n",
    "\n",
    "A1,B1= np.meshgrid(A1,B1) \n",
    "C=computeCost2(A1,B1)"
   ]
  },
  {
   "cell_type": "code",
   "execution_count": 87,
   "metadata": {
    "jupyter": {
     "outputs_hidden": false
    }
   },
   "outputs": [
    {
     "data": {
      "application/javascript": [
       "/* Put everything inside the global mpl namespace */\n",
       "window.mpl = {};\n",
       "\n",
       "\n",
       "mpl.get_websocket_type = function() {\n",
       "    if (typeof(WebSocket) !== 'undefined') {\n",
       "        return WebSocket;\n",
       "    } else if (typeof(MozWebSocket) !== 'undefined') {\n",
       "        return MozWebSocket;\n",
       "    } else {\n",
       "        alert('Your browser does not have WebSocket support.' +\n",
       "              'Please try Chrome, Safari or Firefox ≥ 6. ' +\n",
       "              'Firefox 4 and 5 are also supported but you ' +\n",
       "              'have to enable WebSockets in about:config.');\n",
       "    };\n",
       "}\n",
       "\n",
       "mpl.figure = function(figure_id, websocket, ondownload, parent_element) {\n",
       "    this.id = figure_id;\n",
       "\n",
       "    this.ws = websocket;\n",
       "\n",
       "    this.supports_binary = (this.ws.binaryType != undefined);\n",
       "\n",
       "    if (!this.supports_binary) {\n",
       "        var warnings = document.getElementById(\"mpl-warnings\");\n",
       "        if (warnings) {\n",
       "            warnings.style.display = 'block';\n",
       "            warnings.textContent = (\n",
       "                \"This browser does not support binary websocket messages. \" +\n",
       "                    \"Performance may be slow.\");\n",
       "        }\n",
       "    }\n",
       "\n",
       "    this.imageObj = new Image();\n",
       "\n",
       "    this.context = undefined;\n",
       "    this.message = undefined;\n",
       "    this.canvas = undefined;\n",
       "    this.rubberband_canvas = undefined;\n",
       "    this.rubberband_context = undefined;\n",
       "    this.format_dropdown = undefined;\n",
       "\n",
       "    this.image_mode = 'full';\n",
       "\n",
       "    this.root = $('<div/>');\n",
       "    this._root_extra_style(this.root)\n",
       "    this.root.attr('style', 'display: inline-block');\n",
       "\n",
       "    $(parent_element).append(this.root);\n",
       "\n",
       "    this._init_header(this);\n",
       "    this._init_canvas(this);\n",
       "    this._init_toolbar(this);\n",
       "\n",
       "    var fig = this;\n",
       "\n",
       "    this.waiting = false;\n",
       "\n",
       "    this.ws.onopen =  function () {\n",
       "            fig.send_message(\"supports_binary\", {value: fig.supports_binary});\n",
       "            fig.send_message(\"send_image_mode\", {});\n",
       "            if (mpl.ratio != 1) {\n",
       "                fig.send_message(\"set_dpi_ratio\", {'dpi_ratio': mpl.ratio});\n",
       "            }\n",
       "            fig.send_message(\"refresh\", {});\n",
       "        }\n",
       "\n",
       "    this.imageObj.onload = function() {\n",
       "            if (fig.image_mode == 'full') {\n",
       "                // Full images could contain transparency (where diff images\n",
       "                // almost always do), so we need to clear the canvas so that\n",
       "                // there is no ghosting.\n",
       "                fig.context.clearRect(0, 0, fig.canvas.width, fig.canvas.height);\n",
       "            }\n",
       "            fig.context.drawImage(fig.imageObj, 0, 0);\n",
       "        };\n",
       "\n",
       "    this.imageObj.onunload = function() {\n",
       "        fig.ws.close();\n",
       "    }\n",
       "\n",
       "    this.ws.onmessage = this._make_on_message_function(this);\n",
       "\n",
       "    this.ondownload = ondownload;\n",
       "}\n",
       "\n",
       "mpl.figure.prototype._init_header = function() {\n",
       "    var titlebar = $(\n",
       "        '<div class=\"ui-dialog-titlebar ui-widget-header ui-corner-all ' +\n",
       "        'ui-helper-clearfix\"/>');\n",
       "    var titletext = $(\n",
       "        '<div class=\"ui-dialog-title\" style=\"width: 100%; ' +\n",
       "        'text-align: center; padding: 3px;\"/>');\n",
       "    titlebar.append(titletext)\n",
       "    this.root.append(titlebar);\n",
       "    this.header = titletext[0];\n",
       "}\n",
       "\n",
       "\n",
       "\n",
       "mpl.figure.prototype._canvas_extra_style = function(canvas_div) {\n",
       "\n",
       "}\n",
       "\n",
       "\n",
       "mpl.figure.prototype._root_extra_style = function(canvas_div) {\n",
       "\n",
       "}\n",
       "\n",
       "mpl.figure.prototype._init_canvas = function() {\n",
       "    var fig = this;\n",
       "\n",
       "    var canvas_div = $('<div/>');\n",
       "\n",
       "    canvas_div.attr('style', 'position: relative; clear: both; outline: 0');\n",
       "\n",
       "    function canvas_keyboard_event(event) {\n",
       "        return fig.key_event(event, event['data']);\n",
       "    }\n",
       "\n",
       "    canvas_div.keydown('key_press', canvas_keyboard_event);\n",
       "    canvas_div.keyup('key_release', canvas_keyboard_event);\n",
       "    this.canvas_div = canvas_div\n",
       "    this._canvas_extra_style(canvas_div)\n",
       "    this.root.append(canvas_div);\n",
       "\n",
       "    var canvas = $('<canvas/>');\n",
       "    canvas.addClass('mpl-canvas');\n",
       "    canvas.attr('style', \"left: 0; top: 0; z-index: 0; outline: 0\")\n",
       "\n",
       "    this.canvas = canvas[0];\n",
       "    this.context = canvas[0].getContext(\"2d\");\n",
       "\n",
       "    var backingStore = this.context.backingStorePixelRatio ||\n",
       "\tthis.context.webkitBackingStorePixelRatio ||\n",
       "\tthis.context.mozBackingStorePixelRatio ||\n",
       "\tthis.context.msBackingStorePixelRatio ||\n",
       "\tthis.context.oBackingStorePixelRatio ||\n",
       "\tthis.context.backingStorePixelRatio || 1;\n",
       "\n",
       "    mpl.ratio = (window.devicePixelRatio || 1) / backingStore;\n",
       "\n",
       "    var rubberband = $('<canvas/>');\n",
       "    rubberband.attr('style', \"position: absolute; left: 0; top: 0; z-index: 1;\")\n",
       "\n",
       "    var pass_mouse_events = true;\n",
       "\n",
       "    canvas_div.resizable({\n",
       "        start: function(event, ui) {\n",
       "            pass_mouse_events = false;\n",
       "        },\n",
       "        resize: function(event, ui) {\n",
       "            fig.request_resize(ui.size.width, ui.size.height);\n",
       "        },\n",
       "        stop: function(event, ui) {\n",
       "            pass_mouse_events = true;\n",
       "            fig.request_resize(ui.size.width, ui.size.height);\n",
       "        },\n",
       "    });\n",
       "\n",
       "    function mouse_event_fn(event) {\n",
       "        if (pass_mouse_events)\n",
       "            return fig.mouse_event(event, event['data']);\n",
       "    }\n",
       "\n",
       "    rubberband.mousedown('button_press', mouse_event_fn);\n",
       "    rubberband.mouseup('button_release', mouse_event_fn);\n",
       "    // Throttle sequential mouse events to 1 every 20ms.\n",
       "    rubberband.mousemove('motion_notify', mouse_event_fn);\n",
       "\n",
       "    rubberband.mouseenter('figure_enter', mouse_event_fn);\n",
       "    rubberband.mouseleave('figure_leave', mouse_event_fn);\n",
       "\n",
       "    canvas_div.on(\"wheel\", function (event) {\n",
       "        event = event.originalEvent;\n",
       "        event['data'] = 'scroll'\n",
       "        if (event.deltaY < 0) {\n",
       "            event.step = 1;\n",
       "        } else {\n",
       "            event.step = -1;\n",
       "        }\n",
       "        mouse_event_fn(event);\n",
       "    });\n",
       "\n",
       "    canvas_div.append(canvas);\n",
       "    canvas_div.append(rubberband);\n",
       "\n",
       "    this.rubberband = rubberband;\n",
       "    this.rubberband_canvas = rubberband[0];\n",
       "    this.rubberband_context = rubberband[0].getContext(\"2d\");\n",
       "    this.rubberband_context.strokeStyle = \"#000000\";\n",
       "\n",
       "    this._resize_canvas = function(width, height) {\n",
       "        // Keep the size of the canvas, canvas container, and rubber band\n",
       "        // canvas in synch.\n",
       "        canvas_div.css('width', width)\n",
       "        canvas_div.css('height', height)\n",
       "\n",
       "        canvas.attr('width', width * mpl.ratio);\n",
       "        canvas.attr('height', height * mpl.ratio);\n",
       "        canvas.attr('style', 'width: ' + width + 'px; height: ' + height + 'px;');\n",
       "\n",
       "        rubberband.attr('width', width);\n",
       "        rubberband.attr('height', height);\n",
       "    }\n",
       "\n",
       "    // Set the figure to an initial 600x600px, this will subsequently be updated\n",
       "    // upon first draw.\n",
       "    this._resize_canvas(600, 600);\n",
       "\n",
       "    // Disable right mouse context menu.\n",
       "    $(this.rubberband_canvas).bind(\"contextmenu\",function(e){\n",
       "        return false;\n",
       "    });\n",
       "\n",
       "    function set_focus () {\n",
       "        canvas.focus();\n",
       "        canvas_div.focus();\n",
       "    }\n",
       "\n",
       "    window.setTimeout(set_focus, 100);\n",
       "}\n",
       "\n",
       "mpl.figure.prototype._init_toolbar = function() {\n",
       "    var fig = this;\n",
       "\n",
       "    var nav_element = $('<div/>')\n",
       "    nav_element.attr('style', 'width: 100%');\n",
       "    this.root.append(nav_element);\n",
       "\n",
       "    // Define a callback function for later on.\n",
       "    function toolbar_event(event) {\n",
       "        return fig.toolbar_button_onclick(event['data']);\n",
       "    }\n",
       "    function toolbar_mouse_event(event) {\n",
       "        return fig.toolbar_button_onmouseover(event['data']);\n",
       "    }\n",
       "\n",
       "    for(var toolbar_ind in mpl.toolbar_items) {\n",
       "        var name = mpl.toolbar_items[toolbar_ind][0];\n",
       "        var tooltip = mpl.toolbar_items[toolbar_ind][1];\n",
       "        var image = mpl.toolbar_items[toolbar_ind][2];\n",
       "        var method_name = mpl.toolbar_items[toolbar_ind][3];\n",
       "\n",
       "        if (!name) {\n",
       "            // put a spacer in here.\n",
       "            continue;\n",
       "        }\n",
       "        var button = $('<button/>');\n",
       "        button.addClass('ui-button ui-widget ui-state-default ui-corner-all ' +\n",
       "                        'ui-button-icon-only');\n",
       "        button.attr('role', 'button');\n",
       "        button.attr('aria-disabled', 'false');\n",
       "        button.click(method_name, toolbar_event);\n",
       "        button.mouseover(tooltip, toolbar_mouse_event);\n",
       "\n",
       "        var icon_img = $('<span/>');\n",
       "        icon_img.addClass('ui-button-icon-primary ui-icon');\n",
       "        icon_img.addClass(image);\n",
       "        icon_img.addClass('ui-corner-all');\n",
       "\n",
       "        var tooltip_span = $('<span/>');\n",
       "        tooltip_span.addClass('ui-button-text');\n",
       "        tooltip_span.html(tooltip);\n",
       "\n",
       "        button.append(icon_img);\n",
       "        button.append(tooltip_span);\n",
       "\n",
       "        nav_element.append(button);\n",
       "    }\n",
       "\n",
       "    var fmt_picker_span = $('<span/>');\n",
       "\n",
       "    var fmt_picker = $('<select/>');\n",
       "    fmt_picker.addClass('mpl-toolbar-option ui-widget ui-widget-content');\n",
       "    fmt_picker_span.append(fmt_picker);\n",
       "    nav_element.append(fmt_picker_span);\n",
       "    this.format_dropdown = fmt_picker[0];\n",
       "\n",
       "    for (var ind in mpl.extensions) {\n",
       "        var fmt = mpl.extensions[ind];\n",
       "        var option = $(\n",
       "            '<option/>', {selected: fmt === mpl.default_extension}).html(fmt);\n",
       "        fmt_picker.append(option)\n",
       "    }\n",
       "\n",
       "    // Add hover states to the ui-buttons\n",
       "    $( \".ui-button\" ).hover(\n",
       "        function() { $(this).addClass(\"ui-state-hover\");},\n",
       "        function() { $(this).removeClass(\"ui-state-hover\");}\n",
       "    );\n",
       "\n",
       "    var status_bar = $('<span class=\"mpl-message\"/>');\n",
       "    nav_element.append(status_bar);\n",
       "    this.message = status_bar[0];\n",
       "}\n",
       "\n",
       "mpl.figure.prototype.request_resize = function(x_pixels, y_pixels) {\n",
       "    // Request matplotlib to resize the figure. Matplotlib will then trigger a resize in the client,\n",
       "    // which will in turn request a refresh of the image.\n",
       "    this.send_message('resize', {'width': x_pixels, 'height': y_pixels});\n",
       "}\n",
       "\n",
       "mpl.figure.prototype.send_message = function(type, properties) {\n",
       "    properties['type'] = type;\n",
       "    properties['figure_id'] = this.id;\n",
       "    this.ws.send(JSON.stringify(properties));\n",
       "}\n",
       "\n",
       "mpl.figure.prototype.send_draw_message = function() {\n",
       "    if (!this.waiting) {\n",
       "        this.waiting = true;\n",
       "        this.ws.send(JSON.stringify({type: \"draw\", figure_id: this.id}));\n",
       "    }\n",
       "}\n",
       "\n",
       "\n",
       "mpl.figure.prototype.handle_save = function(fig, msg) {\n",
       "    var format_dropdown = fig.format_dropdown;\n",
       "    var format = format_dropdown.options[format_dropdown.selectedIndex].value;\n",
       "    fig.ondownload(fig, format);\n",
       "}\n",
       "\n",
       "\n",
       "mpl.figure.prototype.handle_resize = function(fig, msg) {\n",
       "    var size = msg['size'];\n",
       "    if (size[0] != fig.canvas.width || size[1] != fig.canvas.height) {\n",
       "        fig._resize_canvas(size[0], size[1]);\n",
       "        fig.send_message(\"refresh\", {});\n",
       "    };\n",
       "}\n",
       "\n",
       "mpl.figure.prototype.handle_rubberband = function(fig, msg) {\n",
       "    var x0 = msg['x0'] / mpl.ratio;\n",
       "    var y0 = (fig.canvas.height - msg['y0']) / mpl.ratio;\n",
       "    var x1 = msg['x1'] / mpl.ratio;\n",
       "    var y1 = (fig.canvas.height - msg['y1']) / mpl.ratio;\n",
       "    x0 = Math.floor(x0) + 0.5;\n",
       "    y0 = Math.floor(y0) + 0.5;\n",
       "    x1 = Math.floor(x1) + 0.5;\n",
       "    y1 = Math.floor(y1) + 0.5;\n",
       "    var min_x = Math.min(x0, x1);\n",
       "    var min_y = Math.min(y0, y1);\n",
       "    var width = Math.abs(x1 - x0);\n",
       "    var height = Math.abs(y1 - y0);\n",
       "\n",
       "    fig.rubberband_context.clearRect(\n",
       "        0, 0, fig.canvas.width, fig.canvas.height);\n",
       "\n",
       "    fig.rubberband_context.strokeRect(min_x, min_y, width, height);\n",
       "}\n",
       "\n",
       "mpl.figure.prototype.handle_figure_label = function(fig, msg) {\n",
       "    // Updates the figure title.\n",
       "    fig.header.textContent = msg['label'];\n",
       "}\n",
       "\n",
       "mpl.figure.prototype.handle_cursor = function(fig, msg) {\n",
       "    var cursor = msg['cursor'];\n",
       "    switch(cursor)\n",
       "    {\n",
       "    case 0:\n",
       "        cursor = 'pointer';\n",
       "        break;\n",
       "    case 1:\n",
       "        cursor = 'default';\n",
       "        break;\n",
       "    case 2:\n",
       "        cursor = 'crosshair';\n",
       "        break;\n",
       "    case 3:\n",
       "        cursor = 'move';\n",
       "        break;\n",
       "    }\n",
       "    fig.rubberband_canvas.style.cursor = cursor;\n",
       "}\n",
       "\n",
       "mpl.figure.prototype.handle_message = function(fig, msg) {\n",
       "    fig.message.textContent = msg['message'];\n",
       "}\n",
       "\n",
       "mpl.figure.prototype.handle_draw = function(fig, msg) {\n",
       "    // Request the server to send over a new figure.\n",
       "    fig.send_draw_message();\n",
       "}\n",
       "\n",
       "mpl.figure.prototype.handle_image_mode = function(fig, msg) {\n",
       "    fig.image_mode = msg['mode'];\n",
       "}\n",
       "\n",
       "mpl.figure.prototype.updated_canvas_event = function() {\n",
       "    // Called whenever the canvas gets updated.\n",
       "    this.send_message(\"ack\", {});\n",
       "}\n",
       "\n",
       "// A function to construct a web socket function for onmessage handling.\n",
       "// Called in the figure constructor.\n",
       "mpl.figure.prototype._make_on_message_function = function(fig) {\n",
       "    return function socket_on_message(evt) {\n",
       "        if (evt.data instanceof Blob) {\n",
       "            /* FIXME: We get \"Resource interpreted as Image but\n",
       "             * transferred with MIME type text/plain:\" errors on\n",
       "             * Chrome.  But how to set the MIME type?  It doesn't seem\n",
       "             * to be part of the websocket stream */\n",
       "            evt.data.type = \"image/png\";\n",
       "\n",
       "            /* Free the memory for the previous frames */\n",
       "            if (fig.imageObj.src) {\n",
       "                (window.URL || window.webkitURL).revokeObjectURL(\n",
       "                    fig.imageObj.src);\n",
       "            }\n",
       "\n",
       "            fig.imageObj.src = (window.URL || window.webkitURL).createObjectURL(\n",
       "                evt.data);\n",
       "            fig.updated_canvas_event();\n",
       "            fig.waiting = false;\n",
       "            return;\n",
       "        }\n",
       "        else if (typeof evt.data === 'string' && evt.data.slice(0, 21) == \"data:image/png;base64\") {\n",
       "            fig.imageObj.src = evt.data;\n",
       "            fig.updated_canvas_event();\n",
       "            fig.waiting = false;\n",
       "            return;\n",
       "        }\n",
       "\n",
       "        var msg = JSON.parse(evt.data);\n",
       "        var msg_type = msg['type'];\n",
       "\n",
       "        // Call the  \"handle_{type}\" callback, which takes\n",
       "        // the figure and JSON message as its only arguments.\n",
       "        try {\n",
       "            var callback = fig[\"handle_\" + msg_type];\n",
       "        } catch (e) {\n",
       "            console.log(\"No handler for the '\" + msg_type + \"' message type: \", msg);\n",
       "            return;\n",
       "        }\n",
       "\n",
       "        if (callback) {\n",
       "            try {\n",
       "                // console.log(\"Handling '\" + msg_type + \"' message: \", msg);\n",
       "                callback(fig, msg);\n",
       "            } catch (e) {\n",
       "                console.log(\"Exception inside the 'handler_\" + msg_type + \"' callback:\", e, e.stack, msg);\n",
       "            }\n",
       "        }\n",
       "    };\n",
       "}\n",
       "\n",
       "// from http://stackoverflow.com/questions/1114465/getting-mouse-location-in-canvas\n",
       "mpl.findpos = function(e) {\n",
       "    //this section is from http://www.quirksmode.org/js/events_properties.html\n",
       "    var targ;\n",
       "    if (!e)\n",
       "        e = window.event;\n",
       "    if (e.target)\n",
       "        targ = e.target;\n",
       "    else if (e.srcElement)\n",
       "        targ = e.srcElement;\n",
       "    if (targ.nodeType == 3) // defeat Safari bug\n",
       "        targ = targ.parentNode;\n",
       "\n",
       "    // jQuery normalizes the pageX and pageY\n",
       "    // pageX,Y are the mouse positions relative to the document\n",
       "    // offset() returns the position of the element relative to the document\n",
       "    var x = e.pageX - $(targ).offset().left;\n",
       "    var y = e.pageY - $(targ).offset().top;\n",
       "\n",
       "    return {\"x\": x, \"y\": y};\n",
       "};\n",
       "\n",
       "/*\n",
       " * return a copy of an object with only non-object keys\n",
       " * we need this to avoid circular references\n",
       " * http://stackoverflow.com/a/24161582/3208463\n",
       " */\n",
       "function simpleKeys (original) {\n",
       "  return Object.keys(original).reduce(function (obj, key) {\n",
       "    if (typeof original[key] !== 'object')\n",
       "        obj[key] = original[key]\n",
       "    return obj;\n",
       "  }, {});\n",
       "}\n",
       "\n",
       "mpl.figure.prototype.mouse_event = function(event, name) {\n",
       "    var canvas_pos = mpl.findpos(event)\n",
       "\n",
       "    if (name === 'button_press')\n",
       "    {\n",
       "        this.canvas.focus();\n",
       "        this.canvas_div.focus();\n",
       "    }\n",
       "\n",
       "    var x = canvas_pos.x * mpl.ratio;\n",
       "    var y = canvas_pos.y * mpl.ratio;\n",
       "\n",
       "    this.send_message(name, {x: x, y: y, button: event.button,\n",
       "                             step: event.step,\n",
       "                             guiEvent: simpleKeys(event)});\n",
       "\n",
       "    /* This prevents the web browser from automatically changing to\n",
       "     * the text insertion cursor when the button is pressed.  We want\n",
       "     * to control all of the cursor setting manually through the\n",
       "     * 'cursor' event from matplotlib */\n",
       "    event.preventDefault();\n",
       "    return false;\n",
       "}\n",
       "\n",
       "mpl.figure.prototype._key_event_extra = function(event, name) {\n",
       "    // Handle any extra behaviour associated with a key event\n",
       "}\n",
       "\n",
       "mpl.figure.prototype.key_event = function(event, name) {\n",
       "\n",
       "    // Prevent repeat events\n",
       "    if (name == 'key_press')\n",
       "    {\n",
       "        if (event.which === this._key)\n",
       "            return;\n",
       "        else\n",
       "            this._key = event.which;\n",
       "    }\n",
       "    if (name == 'key_release')\n",
       "        this._key = null;\n",
       "\n",
       "    var value = '';\n",
       "    if (event.ctrlKey && event.which != 17)\n",
       "        value += \"ctrl+\";\n",
       "    if (event.altKey && event.which != 18)\n",
       "        value += \"alt+\";\n",
       "    if (event.shiftKey && event.which != 16)\n",
       "        value += \"shift+\";\n",
       "\n",
       "    value += 'k';\n",
       "    value += event.which.toString();\n",
       "\n",
       "    this._key_event_extra(event, name);\n",
       "\n",
       "    this.send_message(name, {key: value,\n",
       "                             guiEvent: simpleKeys(event)});\n",
       "    return false;\n",
       "}\n",
       "\n",
       "mpl.figure.prototype.toolbar_button_onclick = function(name) {\n",
       "    if (name == 'download') {\n",
       "        this.handle_save(this, null);\n",
       "    } else {\n",
       "        this.send_message(\"toolbar_button\", {name: name});\n",
       "    }\n",
       "};\n",
       "\n",
       "mpl.figure.prototype.toolbar_button_onmouseover = function(tooltip) {\n",
       "    this.message.textContent = tooltip;\n",
       "};\n",
       "mpl.toolbar_items = [[\"Home\", \"Reset original view\", \"fa fa-home icon-home\", \"home\"], [\"Back\", \"Back to previous view\", \"fa fa-arrow-left icon-arrow-left\", \"back\"], [\"Forward\", \"Forward to next view\", \"fa fa-arrow-right icon-arrow-right\", \"forward\"], [\"\", \"\", \"\", \"\"], [\"Pan\", \"Pan axes with left mouse, zoom with right\", \"fa fa-arrows icon-move\", \"pan\"], [\"Zoom\", \"Zoom to rectangle\", \"fa fa-square-o icon-check-empty\", \"zoom\"], [\"\", \"\", \"\", \"\"], [\"Download\", \"Download plot\", \"fa fa-floppy-o icon-save\", \"download\"]];\n",
       "\n",
       "mpl.extensions = [\"eps\", \"pdf\", \"png\", \"ps\", \"raw\", \"svg\"];\n",
       "\n",
       "mpl.default_extension = \"png\";var comm_websocket_adapter = function(comm) {\n",
       "    // Create a \"websocket\"-like object which calls the given IPython comm\n",
       "    // object with the appropriate methods. Currently this is a non binary\n",
       "    // socket, so there is still some room for performance tuning.\n",
       "    var ws = {};\n",
       "\n",
       "    ws.close = function() {\n",
       "        comm.close()\n",
       "    };\n",
       "    ws.send = function(m) {\n",
       "        //console.log('sending', m);\n",
       "        comm.send(m);\n",
       "    };\n",
       "    // Register the callback with on_msg.\n",
       "    comm.on_msg(function(msg) {\n",
       "        //console.log('receiving', msg['content']['data'], msg);\n",
       "        // Pass the mpl event to the overridden (by mpl) onmessage function.\n",
       "        ws.onmessage(msg['content']['data'])\n",
       "    });\n",
       "    return ws;\n",
       "}\n",
       "\n",
       "mpl.mpl_figure_comm = function(comm, msg) {\n",
       "    // This is the function which gets called when the mpl process\n",
       "    // starts-up an IPython Comm through the \"matplotlib\" channel.\n",
       "\n",
       "    var id = msg.content.data.id;\n",
       "    // Get hold of the div created by the display call when the Comm\n",
       "    // socket was opened in Python.\n",
       "    var element = $(\"#\" + id);\n",
       "    var ws_proxy = comm_websocket_adapter(comm)\n",
       "\n",
       "    function ondownload(figure, format) {\n",
       "        window.open(figure.imageObj.src);\n",
       "    }\n",
       "\n",
       "    var fig = new mpl.figure(id, ws_proxy,\n",
       "                           ondownload,\n",
       "                           element.get(0));\n",
       "\n",
       "    // Call onopen now - mpl needs it, as it is assuming we've passed it a real\n",
       "    // web socket which is closed, not our websocket->open comm proxy.\n",
       "    ws_proxy.onopen();\n",
       "\n",
       "    fig.parent_element = element.get(0);\n",
       "    fig.cell_info = mpl.find_output_cell(\"<div id='\" + id + \"'></div>\");\n",
       "    if (!fig.cell_info) {\n",
       "        console.error(\"Failed to find cell for figure\", id, fig);\n",
       "        return;\n",
       "    }\n",
       "\n",
       "    var output_index = fig.cell_info[2]\n",
       "    var cell = fig.cell_info[0];\n",
       "\n",
       "};\n",
       "\n",
       "mpl.figure.prototype.handle_close = function(fig, msg) {\n",
       "    var width = fig.canvas.width/mpl.ratio\n",
       "    fig.root.unbind('remove')\n",
       "\n",
       "    // Update the output cell to use the data from the current canvas.\n",
       "    fig.push_to_output();\n",
       "    var dataURL = fig.canvas.toDataURL();\n",
       "    // Re-enable the keyboard manager in IPython - without this line, in FF,\n",
       "    // the notebook keyboard shortcuts fail.\n",
       "    IPython.keyboard_manager.enable()\n",
       "    $(fig.parent_element).html('<img src=\"' + dataURL + '\" width=\"' + width + '\">');\n",
       "    fig.close_ws(fig, msg);\n",
       "}\n",
       "\n",
       "mpl.figure.prototype.close_ws = function(fig, msg){\n",
       "    fig.send_message('closing', msg);\n",
       "    // fig.ws.close()\n",
       "}\n",
       "\n",
       "mpl.figure.prototype.push_to_output = function(remove_interactive) {\n",
       "    // Turn the data on the canvas into data in the output cell.\n",
       "    var width = this.canvas.width/mpl.ratio\n",
       "    var dataURL = this.canvas.toDataURL();\n",
       "    this.cell_info[1]['text/html'] = '<img src=\"' + dataURL + '\" width=\"' + width + '\">';\n",
       "}\n",
       "\n",
       "mpl.figure.prototype.updated_canvas_event = function() {\n",
       "    // Tell IPython that the notebook contents must change.\n",
       "    IPython.notebook.set_dirty(true);\n",
       "    this.send_message(\"ack\", {});\n",
       "    var fig = this;\n",
       "    // Wait a second, then push the new image to the DOM so\n",
       "    // that it is saved nicely (might be nice to debounce this).\n",
       "    setTimeout(function () { fig.push_to_output() }, 1000);\n",
       "}\n",
       "\n",
       "mpl.figure.prototype._init_toolbar = function() {\n",
       "    var fig = this;\n",
       "\n",
       "    var nav_element = $('<div/>')\n",
       "    nav_element.attr('style', 'width: 100%');\n",
       "    this.root.append(nav_element);\n",
       "\n",
       "    // Define a callback function for later on.\n",
       "    function toolbar_event(event) {\n",
       "        return fig.toolbar_button_onclick(event['data']);\n",
       "    }\n",
       "    function toolbar_mouse_event(event) {\n",
       "        return fig.toolbar_button_onmouseover(event['data']);\n",
       "    }\n",
       "\n",
       "    for(var toolbar_ind in mpl.toolbar_items){\n",
       "        var name = mpl.toolbar_items[toolbar_ind][0];\n",
       "        var tooltip = mpl.toolbar_items[toolbar_ind][1];\n",
       "        var image = mpl.toolbar_items[toolbar_ind][2];\n",
       "        var method_name = mpl.toolbar_items[toolbar_ind][3];\n",
       "\n",
       "        if (!name) { continue; };\n",
       "\n",
       "        var button = $('<button class=\"btn btn-default\" href=\"#\" title=\"' + name + '\"><i class=\"fa ' + image + ' fa-lg\"></i></button>');\n",
       "        button.click(method_name, toolbar_event);\n",
       "        button.mouseover(tooltip, toolbar_mouse_event);\n",
       "        nav_element.append(button);\n",
       "    }\n",
       "\n",
       "    // Add the status bar.\n",
       "    var status_bar = $('<span class=\"mpl-message\" style=\"text-align:right; float: right;\"/>');\n",
       "    nav_element.append(status_bar);\n",
       "    this.message = status_bar[0];\n",
       "\n",
       "    // Add the close button to the window.\n",
       "    var buttongrp = $('<div class=\"btn-group inline pull-right\"></div>');\n",
       "    var button = $('<button class=\"btn btn-mini btn-primary\" href=\"#\" title=\"Stop Interaction\"><i class=\"fa fa-power-off icon-remove icon-large\"></i></button>');\n",
       "    button.click(function (evt) { fig.handle_close(fig, {}); } );\n",
       "    button.mouseover('Stop Interaction', toolbar_mouse_event);\n",
       "    buttongrp.append(button);\n",
       "    var titlebar = this.root.find($('.ui-dialog-titlebar'));\n",
       "    titlebar.prepend(buttongrp);\n",
       "}\n",
       "\n",
       "mpl.figure.prototype._root_extra_style = function(el){\n",
       "    var fig = this\n",
       "    el.on(\"remove\", function(){\n",
       "\tfig.close_ws(fig, {});\n",
       "    });\n",
       "}\n",
       "\n",
       "mpl.figure.prototype._canvas_extra_style = function(el){\n",
       "    // this is important to make the div 'focusable\n",
       "    el.attr('tabindex', 0)\n",
       "    // reach out to IPython and tell the keyboard manager to turn it's self\n",
       "    // off when our div gets focus\n",
       "\n",
       "    // location in version 3\n",
       "    if (IPython.notebook.keyboard_manager) {\n",
       "        IPython.notebook.keyboard_manager.register_events(el);\n",
       "    }\n",
       "    else {\n",
       "        // location in version 2\n",
       "        IPython.keyboard_manager.register_events(el);\n",
       "    }\n",
       "\n",
       "}\n",
       "\n",
       "mpl.figure.prototype._key_event_extra = function(event, name) {\n",
       "    var manager = IPython.notebook.keyboard_manager;\n",
       "    if (!manager)\n",
       "        manager = IPython.keyboard_manager;\n",
       "\n",
       "    // Check for shift+enter\n",
       "    if (event.shiftKey && event.which == 13) {\n",
       "        this.canvas_div.blur();\n",
       "        event.shiftKey = false;\n",
       "        // Send a \"J\" for go to next cell\n",
       "        event.which = 74;\n",
       "        event.keyCode = 74;\n",
       "        manager.command_mode();\n",
       "        manager.handle_keydown(event);\n",
       "    }\n",
       "}\n",
       "\n",
       "mpl.figure.prototype.handle_save = function(fig, msg) {\n",
       "    fig.ondownload(fig, null);\n",
       "}\n",
       "\n",
       "\n",
       "mpl.find_output_cell = function(html_output) {\n",
       "    // Return the cell and output element which can be found *uniquely* in the notebook.\n",
       "    // Note - this is a bit hacky, but it is done because the \"notebook_saving.Notebook\"\n",
       "    // IPython event is triggered only after the cells have been serialised, which for\n",
       "    // our purposes (turning an active figure into a static one), is too late.\n",
       "    var cells = IPython.notebook.get_cells();\n",
       "    var ncells = cells.length;\n",
       "    for (var i=0; i<ncells; i++) {\n",
       "        var cell = cells[i];\n",
       "        if (cell.cell_type === 'code'){\n",
       "            for (var j=0; j<cell.output_area.outputs.length; j++) {\n",
       "                var data = cell.output_area.outputs[j];\n",
       "                if (data.data) {\n",
       "                    // IPython >= 3 moved mimebundle to data attribute of output\n",
       "                    data = data.data;\n",
       "                }\n",
       "                if (data['text/html'] == html_output) {\n",
       "                    return [cell, data, j];\n",
       "                }\n",
       "            }\n",
       "        }\n",
       "    }\n",
       "}\n",
       "\n",
       "// Register the function which deals with the matplotlib target/channel.\n",
       "// The kernel may be null if the page has been refreshed.\n",
       "if (IPython.notebook.kernel != null) {\n",
       "    IPython.notebook.kernel.comm_manager.register_target('matplotlib', mpl.mpl_figure_comm);\n",
       "}\n"
      ],
      "text/plain": [
       "<IPython.core.display.Javascript object>"
      ]
     },
     "metadata": {},
     "output_type": "display_data"
    },
    {
     "data": {
      "text/html": [
       "<img src=\"data:image/png;base64,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\" width=\"800\">"
      ],
      "text/plain": [
       "<IPython.core.display.HTML object>"
      ]
     },
     "metadata": {},
     "output_type": "display_data"
    }
   ],
   "source": [
    "from matplotlib import rc\n",
    "from matplotlib import cm\n",
    "from mpl_toolkits.mplot3d import Axes3D\n",
    "%matplotlib notebook\n",
    "\n",
    "rc('text', usetex=True)\n",
    "fig = plt.figure(figsize=(8,5))\n",
    "ax1 = Axes3D(fig)#fig.add_subplot(111, projection='3d')\n",
    "ax1.set_facecolor('white')\n",
    "ax1.grid(False)\n",
    "ax1.set_title('Map of Cost function in Theta Space')\n",
    "ax1.set_xlabel(r\"$\\theta_0$\")\n",
    "ax1.set_ylabel(r\"$\\theta_1$\")\n",
    "ax1.set_zlabel(r\"$J(\\theta)$\")\n",
    "surf1 = ax1.plot_surface(A1, B1, C,alpha=0.5,cmap=cm.coolwarm)\n",
    "s2=ax1.scatter(1.371,0.911,computeCost2(1.371,0.911),c='r')     #plot the single point using the 'theta's we got previously\n",
    "ax1.view_init(10, -20)\n",
    "plt.show()"
   ]
  },
  {
   "cell_type": "markdown",
   "metadata": {},
   "source": [
    "<table><tr><td bgcolor=lightyellow>Note that the single red point in the bottom is the cost function we got previously.\n",
    "    <br>The figure shows how the cost function changes in the $\\theta$-space and its minimum accords with the single point."
   ]
  },
  {
   "cell_type": "code",
   "execution_count": null,
   "metadata": {
    "jupyter": {
     "outputs_hidden": false
    }
   },
   "outputs": [],
   "source": []
  },
  {
   "cell_type": "code",
   "execution_count": null,
   "metadata": {},
   "outputs": [],
   "source": []
  },
  {
   "cell_type": "code",
   "execution_count": null,
   "metadata": {},
   "outputs": [],
   "source": []
  },
  {
   "cell_type": "code",
   "execution_count": null,
   "metadata": {},
   "outputs": [],
   "source": []
  }
 ],
 "metadata": {
  "kernelspec": {
   "display_name": "Python 3 (ipykernel)",
   "language": "python",
   "name": "python3"
  },
  "language_info": {
   "codemirror_mode": {
    "name": "ipython",
    "version": 3
   },
   "file_extension": ".py",
   "mimetype": "text/x-python",
   "name": "python",
   "nbconvert_exporter": "python",
   "pygments_lexer": "ipython3",
   "version": "3.9.9"
  }
 },
 "nbformat": 4,
 "nbformat_minor": 4
}
