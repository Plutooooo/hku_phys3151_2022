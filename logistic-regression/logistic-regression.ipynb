{
  "metadata": {
    "kernelspec": {
      "name": "python3",
      "display_name": "Python 3",
      "language": "python"
    },
    "language_info": {
      "name": "python",
      "version": "3.7.3",
      "mimetype": "text/x-python",
      "codemirror_mode": {
        "name": "ipython",
        "version": 3
      },
      "pygments_lexer": "ipython3",
      "nbconvert_exporter": "python",
      "file_extension": ".py"
    },
    "colab": {
      "name": "logistic-regression.ipynb",
      "provenance": [],
      "include_colab_link": true
    }
  },
  "nbformat_minor": 0,
  "nbformat": 4,
  "cells": [
    {
      "cell_type": "markdown",
      "metadata": {
        "id": "view-in-github",
        "colab_type": "text"
      },
      "source": [
        "<a href=\"https://colab.research.google.com/github/Plutooooo/hku_phys3151_2022/blob/main/logistic-regression/logistic-regression.ipynb\" target=\"_parent\"><img src=\"https://colab.research.google.com/assets/colab-badge.svg\" alt=\"Open In Colab\"/></a>"
      ]
    },
    {
      "cell_type": "markdown",
      "source": [
        "# Logistic Linear Regression"
      ],
      "metadata": {
        "id": "rrtZtPBIZqy8"
      }
    },
    {
      "cell_type": "markdown",
      "source": [
        "A few examples using logistic linear regression are provided below."
      ],
      "metadata": {
        "id": "-hKM8XxiZqzB"
      }
    },
    {
      "cell_type": "markdown",
      "source": [
        "## Example 1"
      ],
      "metadata": {
        "id": "NowP8hf1ZqzB"
      }
    },
    {
      "cell_type": "markdown",
      "source": [
        "Here we have a dataset comprising of diabetes data from the Pima Indian Diabetes Database.\n",
        "\n",
        "Data courtesy of Pima Indians Diabetes Database: 'National Institute of Diabetes and Digestive and Kidney Diseases'.\n",
        "\n",
        "Source link:https://www.kaggle.com/uciml/pima-indians-diabetes-database\n",
        "\n",
        "The objective of this data is to predict the chances of Diabetes from health parameters like glucose, blood pressure, etc. This data is all taken from Pima Indians females of over 21 years old."
      ],
      "metadata": {
        "id": "metb7Ji_ZqzB"
      }
    },
    {
      "cell_type": "markdown",
      "source": [
        "### Data Layer"
      ],
      "metadata": {
        "id": "cDU-rIlaZqzC"
      }
    },
    {
      "cell_type": "markdown",
      "source": [
        "Here, we have a quick view at part of the data."
      ],
      "metadata": {
        "id": "PPMUgOX2ZqzC"
      }
    },
    {
      "cell_type": "code",
      "source": [
        "import pandas as pd\n",
        "from pandas import DataFrame"
      ],
      "metadata": {
        "jupyter": {
          "outputs_hidden": false
        },
        "trusted": true,
        "id": "HbAYw2YxZqzD"
      },
      "execution_count": 1,
      "outputs": []
    },
    {
      "cell_type": "code",
      "source": [
        "!git clone https://github.com/XiaoxueRan/hku_phys3151_2022"
      ],
      "metadata": {
        "id": "xFN4SRcGaGSG",
        "outputId": "3fc6e2a6-a4d7-440d-f60c-ebf94b60fb7c",
        "colab": {
          "base_uri": "https://localhost:8080/"
        }
      },
      "execution_count": 4,
      "outputs": [
        {
          "output_type": "stream",
          "name": "stdout",
          "text": [
            "Cloning into 'hku_phys3151_2022'...\n",
            "remote: Enumerating objects: 43, done.\u001b[K\n",
            "remote: Counting objects: 100% (43/43), done.\u001b[K\n",
            "remote: Compressing objects: 100% (42/42), done.\u001b[K\n",
            "remote: Total 43 (delta 11), reused 20 (delta 1), pack-reused 0\u001b[K\n",
            "Unpacking objects: 100% (43/43), done.\n"
          ]
        }
      ]
    },
    {
      "cell_type": "code",
      "source": [
        "df = pd.read_csv(\"/content/hku_phys3151_2022/logistic-regression/logistic-regression-example-1.csv\", sep=\",\")\n",
        "print (df.head(10).append(df.tail(10)))"
      ],
      "metadata": {
        "jupyter": {
          "outputs_hidden": false
        },
        "trusted": true,
        "id": "XRGHapsDZqzE",
        "outputId": "35614c21-170d-41d1-9365-0d987d7a5042",
        "colab": {
          "base_uri": "https://localhost:8080/"
        }
      },
      "execution_count": null,
      "outputs": [
        {
          "output_type": "stream",
          "name": "stdout",
          "text": [
            "     Pregnancies  Glucose  ...  Age  Outcome\n",
            "0              6      148  ...   50        1\n",
            "1              1       85  ...   31        0\n",
            "2              8      183  ...   32        1\n",
            "3              1       89  ...   21        0\n",
            "4              0      137  ...   33        1\n",
            "5              5      116  ...   30        0\n",
            "6              3       78  ...   26        1\n",
            "7             10      115  ...   29        0\n",
            "8              2      197  ...   53        1\n",
            "9              8      125  ...   54        1\n",
            "758            1      106  ...   26        0\n",
            "759            6      190  ...   66        1\n",
            "760            2       88  ...   22        0\n",
            "761            9      170  ...   43        1\n",
            "762            9       89  ...   33        0\n",
            "763           10      101  ...   63        0\n",
            "764            2      122  ...   27        0\n",
            "765            5      121  ...   30        0\n",
            "766            1      126  ...   47        1\n",
            "767            1       93  ...   23        0\n",
            "\n",
            "[20 rows x 9 columns]\n"
          ]
        }
      ]
    },
    {
      "cell_type": "markdown",
      "source": [
        "Clearly datasets consist of several medical predictor (independent) variables and one target (dependent) variable, Outcome. Independent variables include the number of pregnancies the patient has had, their BMI, insulin level, age, and so on.\n",
        "\n",
        "  <br>Then, we can go on to to define the functions we need."
      ],
      "metadata": {
        "id": "OnLbsxShZqzF"
      }
    },
    {
      "cell_type": "markdown",
      "source": [
        "### Code Layer"
      ],
      "metadata": {
        "id": "pJnmu4UZZqzF"
      }
    },
    {
      "cell_type": "markdown",
      "source": [
        "For the representation of the hypothesis, we define <span style=\"border-bottom: dashed\">sigmoid function</span> :\n",
        "$$\n",
        "h_{\\theta}=\\frac{1}{1+e^{-\\theta^Tx}}\n",
        "$$\n",
        "Note that $\\theta^Tx$ can be non-linear. \n",
        "    <br> <span style=\"border-bottom: dashed\">Cost function</span> in logistic refression is defined as: \n",
        "$$\n",
        "J(\\theta)=\\frac{1}{m}\\sum_{i=1}^m-ylog(h_\\theta)-(1-y)log(1-h_\\theta),\n",
        "$$\n",
        "and still, we can use gradient descent to minimize it.\n",
        "    \n",
        "<br>In addition, we use <span style=\"border-bottom: dashed\">accuracy function</span> to see how well the algorithm works, which is defined as: \n",
        "$$\n",
        "Accuracy=\\frac{1}{m}\\sum_{i=1}^{m}\\delta_{predicted,real}\n",
        "$$"
      ],
      "metadata": {
        "id": "rFmoJRWoZqzG"
      }
    },
    {
      "cell_type": "code",
      "source": [
        "import numpy as np\n",
        "from scipy.optimize import fmin_tnc\n",
        "\n",
        "\n",
        "class LogisticRegressionUsingGD:\n",
        "\n",
        "# Activation function used to map any real value between 0 and 1\n",
        "    @staticmethod\n",
        "    def sigmoid(x):  \n",
        "        return 1 / (1 + np.exp(-x))\n",
        "\n",
        "# Computes the weighted sum of inputs Similar to Linear Regression\n",
        "    @staticmethod\n",
        "    def net_input(theta, x):\n",
        "        return np.dot(x, theta)\n",
        "\n",
        "# Calculates the probability that an instance belongs to a particular class\n",
        "    def probability(self, theta, x):\n",
        "        return self.sigmoid(self.net_input(theta, x))\n",
        "\n",
        "# Computes the cost function for all the training samples\n",
        "    def cost_function(self, theta, x, y):\n",
        "        m = x.shape[0]\n",
        "        total_cost = -(1 / m) * np.sum(\n",
        "            y * np.log(self.probability(theta, x)) + (1 - y) * np.log(\n",
        "                1 - self.probability(theta, x)))\n",
        "        return total_cost\n",
        "\n",
        "# Computes the gradient of the cost function at the point theta\n",
        "    def gradient(self, theta, x, y):     \n",
        "        m = x.shape[0]\n",
        "        return (1 / m) * np.dot(x.T, self.sigmoid(self.net_input(theta, x)) - y)\n",
        "\n",
        "    def fit(self, x, y, theta):\n",
        "        opt_weights = fmin_tnc(func=self.cost_function, x0=theta, fprime=self.gradient, args=(x, y.flatten()))\n",
        "        self.w_ = opt_weights[0]\n",
        "        return self\n",
        "\n",
        "    def predict(self, x):\n",
        "        theta = self.w_[:, np.newaxis]\n",
        "        return self.probability(theta, x)\n",
        "\n",
        "    def accuracy(self, x, actual_classes, probab_threshold=0.5):\n",
        "        predicted_classes = (self.predict(x) >= probab_threshold).astype(int)\n",
        "        predicted_classes = predicted_classes.flatten()\n",
        "        accuracy = np.mean(predicted_classes == actual_classes)\n",
        "        return accuracy * 100"
      ],
      "metadata": {
        "jupyter": {
          "outputs_hidden": false
        },
        "id": "mCkza3L7ZqzG"
      },
      "execution_count": 11,
      "outputs": []
    },
    {
      "cell_type": "markdown",
      "source": [
        "Now, we pick the features and outcome out of the initial data."
      ],
      "metadata": {
        "id": "x-mbv2xXZqzH"
      }
    },
    {
      "cell_type": "code",
      "source": [
        "import numpy as np\n",
        "import matplotlib.pyplot as plt\n",
        "import pandas as pd\n",
        "from sklearn.linear_model import LogisticRegression\n",
        "from sklearn.metrics import accuracy_score\n",
        "\n",
        "data = df"
      ],
      "metadata": {
        "jupyter": {
          "outputs_hidden": false
        },
        "id": "_KU7RTmqZqzI"
      },
      "execution_count": 16,
      "outputs": []
    },
    {
      "cell_type": "code",
      "source": [
        "X = data.iloc[:, :-1]        #features\n",
        "y = data.iloc[:, -1]         #outcome"
      ],
      "metadata": {
        "jupyter": {
          "outputs_hidden": false
        },
        "id": "uk42LnkEZqzI"
      },
      "execution_count": null,
      "outputs": []
    },
    {
      "cell_type": "markdown",
      "source": [
        "Then we start prepare the data for fitting the model."
      ],
      "metadata": {
        "id": "9BWHguzvZqzI"
      }
    },
    {
      "cell_type": "code",
      "source": [
        "X = np.c_[np.ones((X.shape[0], 1)), X]    #we need x_0\n",
        "y = y.values.reshape((len(y),1))\n",
        "theta = np.zeros((X.shape[1], 1))"
      ],
      "metadata": {
        "jupyter": {
          "outputs_hidden": false
        },
        "id": "g_BSQSNXZqzJ"
      },
      "execution_count": null,
      "outputs": []
    },
    {
      "cell_type": "markdown",
      "source": [
        "Implement the Logistic Regression algorithm."
      ],
      "metadata": {
        "id": "t9oxGFVXZqzJ"
      }
    },
    {
      "cell_type": "code",
      "source": [
        "model1 = LogisticRegressionUsingGD()\n",
        "model1.fit(X, y, theta)\n",
        "accuracy = model1.accuracy(X, y.flatten())\n",
        "parameters = model1.w_\n",
        "print(\"The accuracy of the model is {}\".format(accuracy))\n",
        "print(\"The model parameters got by Gradient descent:\")\n",
        "print(parameters)"
      ],
      "metadata": {
        "jupyter": {
          "outputs_hidden": false
        },
        "id": "tTiuBiMYZqzJ",
        "outputId": "212b1ff3-088a-4424-a9c8-8e51bc3e0b6a",
        "colab": {
          "base_uri": "https://localhost:8080/"
        }
      },
      "execution_count": null,
      "outputs": [
        {
          "output_type": "stream",
          "name": "stdout",
          "text": [
            "The accuracy of the model is 78.25520833333334\n",
            "The model parameters got by Gradient descent:\n",
            "[-8.33952751e+00  1.22991826e-01  3.49871054e-02 -1.33847661e-02\n",
            "  6.20381429e-04 -1.17722539e-03  8.89255836e-02  9.37140408e-01\n",
            "  1.46878699e-02]\n"
          ]
        }
      ]
    },
    {
      "cell_type": "markdown",
      "source": [
        "As the result turns out, the accuracy is not so high, but acceptable anyway."
      ],
      "metadata": {
        "id": "nHb6MVxbZqzK"
      }
    },
    {
      "cell_type": "markdown",
      "source": [
        "Alternatively, we can also use the prebuilt sklearn logistic regression package."
      ],
      "metadata": {
        "id": "mTSFGyGmZqzK"
      }
    },
    {
      "cell_type": "code",
      "source": [
        "model = LogisticRegression()\n",
        "model.fit(X, y)\n",
        "parameters = model.coef_\n",
        "predicted_classes = model.predict(X)\n",
        "accuracy = accuracy_score(y.flatten(),predicted_classes)\n",
        "print('The accuracy score using scikit-learn is {}'.format(accuracy))\n",
        "print(\"The model parameters from scikit learn:\")\n",
        "print(parameters)"
      ],
      "metadata": {
        "jupyter": {
          "outputs_hidden": false
        },
        "id": "Q5xauD84ZqzL",
        "outputId": "2e322d5d-59fd-4af8-b34f-d8a91e83f180",
        "colab": {
          "base_uri": "https://localhost:8080/"
        }
      },
      "execution_count": null,
      "outputs": [
        {
          "output_type": "stream",
          "name": "stdout",
          "text": [
            "The accuracy score using scikit-learn is 0.77734375\n",
            "The model parameters from scikit learn:\n",
            "[[-3.27521683e+00  1.21084259e-01  3.30848021e-02 -1.29543056e-02\n",
            "   4.10283332e-03 -1.39328683e-03  7.26878130e-02  1.01532943e+00\n",
            "   1.27465010e-02]]\n"
          ]
        },
        {
          "output_type": "stream",
          "name": "stderr",
          "text": [
            "/usr/local/lib/python3.7/dist-packages/sklearn/utils/validation.py:993: DataConversionWarning: A column-vector y was passed when a 1d array was expected. Please change the shape of y to (n_samples, ), for example using ravel().\n",
            "  y = column_or_1d(y, warn=True)\n",
            "/usr/local/lib/python3.7/dist-packages/sklearn/linear_model/_logistic.py:818: ConvergenceWarning: lbfgs failed to converge (status=1):\n",
            "STOP: TOTAL NO. of ITERATIONS REACHED LIMIT.\n",
            "\n",
            "Increase the number of iterations (max_iter) or scale the data as shown in:\n",
            "    https://scikit-learn.org/stable/modules/preprocessing.html\n",
            "Please also refer to the documentation for alternative solver options:\n",
            "    https://scikit-learn.org/stable/modules/linear_model.html#logistic-regression\n",
            "  extra_warning_msg=_LOGISTIC_SOLVER_CONVERGENCE_MSG,\n"
          ]
        }
      ]
    },
    {
      "cell_type": "markdown",
      "source": [
        "Note that the results from sklearn package are substancially different to the package written from scratch, this is because sklearn has a feature called 'regularization', which prevents the overfitting to the dataset. For overfitting, we will discuss it in the following example.\n",
        "<br><br>Since we've got the trained models, we want to use it to predict whether a person has diabetes.\n",
        "<br>Say if person A's conditions are: Pregnancies:6, Glucose:150, Blood Pressure:72, Skin thickness:36, Insulin：170， BMI:42，DiabetesPedigreeFunction:1, Age:51;\n",
        "<br>Person B: Pregnancies:0, Glucose:85, Blood Pressure:70, Skin thickness:24, Insulin:200， BMI:25，DiabetesPedigreeFunction:0.2, Age:25."
      ],
      "metadata": {
        "id": "HrEIPKYbZqzL"
      }
    },
    {
      "cell_type": "markdown",
      "source": [
        "### Prediction"
      ],
      "metadata": {
        "id": "PrZGziBWZqzL"
      }
    },
    {
      "cell_type": "code",
      "source": [
        "X1=[[1,6,150,72,36,170,42,1,51],[1,0,85,70,24,200,25,0.2,25]]\n",
        "print('The prediction of the first method:',model1.predict(X1))\n",
        "print('The prediction of the second method:',model.predict(X1))"
      ],
      "metadata": {
        "jupyter": {
          "outputs_hidden": false
        },
        "id": "RaJWdFRHZqzL",
        "outputId": "09a422d9-db7f-4233-dd17-0ff10cd0812c",
        "colab": {
          "base_uri": "https://localhost:8080/"
        }
      },
      "execution_count": null,
      "outputs": [
        {
          "output_type": "stream",
          "name": "stdout",
          "text": [
            "The prediction of the first method: [[0.87281576]\n",
            " [0.02308202]]\n",
            "The prediction of the second method: [1 0]\n"
          ]
        }
      ]
    },
    {
      "cell_type": "markdown",
      "source": [
        "The result turns out that person A has diabetes while B doesn't. Considering their conditions, the predictions make sense."
      ],
      "metadata": {
        "id": "tvr7WcRKZqzM"
      }
    },
    {
      "cell_type": "markdown",
      "source": [
        "## Example 2"
      ],
      "metadata": {
        "id": "iBUlKdttZqzM"
      }
    },
    {
      "cell_type": "markdown",
      "source": [
        "### Data Layer"
      ],
      "metadata": {
        "id": "emBvSBk9ZqzM"
      }
    },
    {
      "cell_type": "code",
      "source": [
        "import pandas as pd\n",
        "from pandas import DataFrame\n",
        "import numpy as np\n",
        "import random"
      ],
      "metadata": {
        "jupyter": {
          "outputs_hidden": false
        },
        "id": "6M2w4HyIZqzM"
      },
      "execution_count": null,
      "outputs": []
    },
    {
      "cell_type": "markdown",
      "source": [
        "This time, we try to predict heart disease. \n",
        "<br>Data source: https://www.kaggle.com/amanajmera1/framingham-heart-study-dataset/data\n",
        "<br><br>We try to predict whether a given person will have a coronary heart disease in the next 10 years given various parameters like sex, age, eduction, blood pressure, BMI, etc. "
      ],
      "metadata": {
        "id": "O43uya-EZqzN"
      }
    },
    {
      "cell_type": "markdown",
      "source": [
        "Given that there are some NaN (missing data) in the dataframe, they will be filled with data randomly chosen from other values of the same feature.\n",
        "    \n",
        "<br>Still, have a quick view of the data."
      ],
      "metadata": {
        "id": "999tBAQ9ZqzN"
      }
    },
    {
      "cell_type": "code",
      "source": [
        "df = pd.read_csv(\"/content/hku_phys3151_2022/logistic-regression/logistic-regression-example-2.csv\", sep=\",\")\n",
        "\n",
        "#print(df)\n",
        "\n",
        "df = df.apply(lambda x: x.fillna(random.choice(x.dropna())), axis=1)\n",
        "print(df.head(10).append(df.tail(10))) #first 10 & last 10"
      ],
      "metadata": {
        "scrolled": true,
        "jupyter": {
          "outputs_hidden": false
        },
        "trusted": true,
        "id": "bI-b8FvVZqzN",
        "outputId": "560906e2-3b43-4e7e-f52a-d4beb389c616",
        "colab": {
          "base_uri": "https://localhost:8080/"
        }
      },
      "execution_count": null,
      "outputs": [
        {
          "output_type": "stream",
          "name": "stdout",
          "text": [
            "      male   age  education  ...  heartRate  glucose  TenYearCHD\n",
            "0      1.0  39.0        4.0  ...       80.0     77.0         0.0\n",
            "1      0.0  46.0        2.0  ...       95.0     76.0         0.0\n",
            "2      1.0  48.0        1.0  ...       75.0     70.0         0.0\n",
            "3      0.0  61.0        3.0  ...       65.0    103.0         1.0\n",
            "4      0.0  46.0        3.0  ...       85.0     85.0         0.0\n",
            "5      0.0  43.0        2.0  ...       77.0     99.0         0.0\n",
            "6      0.0  63.0        1.0  ...       60.0     85.0         1.0\n",
            "7      0.0  45.0        2.0  ...       79.0     78.0         0.0\n",
            "8      1.0  52.0        1.0  ...       76.0     79.0         0.0\n",
            "9      1.0  43.0        1.0  ...       93.0     88.0         0.0\n",
            "4228   0.0  50.0        1.0  ...       85.0    260.0         0.0\n",
            "4229   0.0  51.0        3.0  ...       75.0      0.0         0.0\n",
            "4230   0.0  56.0        1.0  ...       57.0     56.0         0.0\n",
            "4231   1.0  58.0        3.0  ...       80.0     81.0         0.0\n",
            "4232   1.0  68.0        1.0  ...       60.0     79.0         1.0\n",
            "4233   1.0  50.0        1.0  ...       66.0     86.0         1.0\n",
            "4234   1.0  51.0        3.0  ...       65.0     68.0         0.0\n",
            "4235   0.0  48.0        2.0  ...       84.0     86.0         0.0\n",
            "4236   0.0  44.0        1.0  ...       86.0      0.0         0.0\n",
            "4237   0.0  52.0        2.0  ...       80.0    107.0         0.0\n",
            "\n",
            "[20 rows x 16 columns]\n"
          ]
        }
      ]
    },
    {
      "cell_type": "markdown",
      "source": [
        "### Sigmoid Function"
      ],
      "metadata": {
        "id": "5sRpK78NZqzO"
      }
    },
    {
      "cell_type": "code",
      "source": [
        "def sigmoid(x):\n",
        "    return 1 / (1 + np.exp(-x))\n",
        "def  computeCost(theta,X,y):\n",
        "    \n",
        "    m = float(len(y))\n",
        "    \n",
        "    predictions = sigmoid(X.dot(theta))\n",
        "    cost = -(1/m) * (y.T.dot(np.log(predictions))+(1-y).T.dot(np.log(1-predictions)))\n",
        "    return cost"
      ],
      "metadata": {
        "jupyter": {
          "outputs_hidden": false
        },
        "id": "RUH4Wz3nZqzO"
      },
      "execution_count": null,
      "outputs": []
    },
    {
      "cell_type": "markdown",
      "source": [
        "Now, we define our sigmoid function which is characteristic of logistic regression. Note: the sigmoid function has two equavalent forms (which is trivally easy to show): \n",
        "$$\n",
        "\\sigma(x)=\\frac{1}{1+e^{-x}}=\\frac{e^x}{e^x+1}\n",
        "$$\n",
        "In most  cases the former is better because it only calls the exponential function once, however, when x is very large it may be favorable to use the second form due to floating-point limitations.\n",
        "    \n",
        "<br>We also define a cost function to minimize."
      ],
      "metadata": {
        "id": "UV7PqTtYZqzP"
      }
    },
    {
      "cell_type": "markdown",
      "source": [
        "### Feature scaling"
      ],
      "metadata": {
        "id": "PldAijyRZqzP"
      }
    },
    {
      "cell_type": "markdown",
      "source": [
        "Then, we set our data for computation."
      ],
      "metadata": {
        "id": "m9XQgnURZqzQ"
      }
    },
    {
      "cell_type": "code",
      "source": [
        "df = df.to_numpy()\n",
        "X = df[:,0:-1]\n",
        "y = df[:,-1]\n",
        "y = y.reshape((len(y),1))\n",
        "n = X.shape[1]+1\n",
        "print(X.shape)"
      ],
      "metadata": {
        "jupyter": {
          "outputs_hidden": false
        },
        "id": "GqB8vWLuZqzQ",
        "outputId": "5c0d9c11-b8fd-4663-a302-c1a3c38967f7",
        "colab": {
          "base_uri": "https://localhost:8080/"
        }
      },
      "execution_count": null,
      "outputs": [
        {
          "output_type": "stream",
          "name": "stdout",
          "text": [
            "(4238, 15)\n"
          ]
        }
      ]
    },
    {
      "cell_type": "markdown",
      "source": [
        "Next, as with all machine learning tasks where the scalar distance is involved, this data needs to be scaled, meaning that any feature which has a high numerical value does not dominate the fit. Note, the $y$ value does not need to be scaled because it is a vector and hence any scalar operations can be thought of as being performed *in the units of* $y$. In fact, if one does scale $Y$, then information is lost about the units of $Y$. "
      ],
      "metadata": {
        "id": "fFfR39KPZqzR"
      }
    },
    {
      "cell_type": "code",
      "source": [
        "from sklearn import preprocessing\n",
        "scaler = preprocessing.RobustScaler()\n",
        "X_scaled = scaler.fit_transform(X)\n",
        "print(X_scaled.shape)\n",
        "print(scaler)\n",
        "X = X_scaled     #we want to use symbol X"
      ],
      "metadata": {
        "jupyter": {
          "outputs_hidden": false
        },
        "id": "5XeSHb-RZqzR",
        "outputId": "2d051c7e-0403-4c2d-84c0-e8e5f2b0dfa6",
        "colab": {
          "base_uri": "https://localhost:8080/"
        }
      },
      "execution_count": null,
      "outputs": [
        {
          "output_type": "stream",
          "name": "stdout",
          "text": [
            "(4238, 15)\n",
            "RobustScaler()\n"
          ]
        }
      ]
    },
    {
      "cell_type": "markdown",
      "source": [
        "Like linear regression, we append a column for the intercept."
      ],
      "metadata": {
        "id": "pGqtl0vMZqzR"
      }
    },
    {
      "cell_type": "code",
      "source": [
        "X_b = np.c_[np.ones((len(X),1)),X]\n",
        "theta = np.zeros((n,1))"
      ],
      "metadata": {
        "jupyter": {
          "outputs_hidden": false
        },
        "id": "4Wv7HiZbZqzR"
      },
      "execution_count": null,
      "outputs": []
    },
    {
      "cell_type": "markdown",
      "source": [
        "### Gradient Descent "
      ],
      "metadata": {
        "id": "enMQkE7dZqzS"
      }
    },
    {
      "cell_type": "markdown",
      "source": [
        "First we define the algorithm for gradient descent."
      ],
      "metadata": {
        "id": "YoIlRVIhZqzS"
      }
    },
    {
      "cell_type": "code",
      "source": [
        "def gradient_descent(X,y,theta,alpha=0.01,iterations=100):\n",
        "    '''\n",
        "    X    = Matrix of X with added bias units\n",
        "    y    = Vector of Y\n",
        "    theta = Vector of thetas np.random.randn(j,1)\n",
        "    alpha \n",
        "    iterations = no of iterations\"\n",
        "    \n",
        "    Returns the final theta vector and array of cost history over no of iterations\n",
        "    '''\n",
        "    m = float(y.shape[0])\n",
        "    cost_history = np.zeros(iterations)\n",
        "    theta_history = np.zeros((iterations,X.shape[1]))\n",
        "    for it in range(iterations):\n",
        "        \n",
        "        prediction = sigmoid(X.dot(theta))\n",
        "        #print(prediction)\n",
        "        #print(np.dot(X.T,prediction - y))\n",
        "        theta = theta -(1/m)*alpha*(X.T.dot((prediction - y)))\n",
        "        theta_history[it,:] = theta.T\n",
        "        cost_history[it]  = computeCost(theta,X,y)\n",
        "        \n",
        "    return theta, cost_history, theta_history"
      ],
      "metadata": {
        "jupyter": {
          "outputs_hidden": false
        },
        "id": "SU1LngAuZqzT"
      },
      "execution_count": null,
      "outputs": []
    },
    {
      "cell_type": "markdown",
      "source": [
        "Now, we can do gradient descent, get the coefficients in the hypothesis and also observe the change of the cost_function."
      ],
      "metadata": {
        "id": "NSkgtSaPZqzT"
      }
    },
    {
      "cell_type": "code",
      "source": [
        "alpha =0.01\n",
        "n_iter =10000\n",
        "\n",
        "theta,cost_history,theta_history = gradient_descent(X_b,y,theta,alpha,n_iter)\n",
        "print(theta)"
      ],
      "metadata": {
        "jupyter": {
          "outputs_hidden": false
        },
        "id": "yULORVxBZqzU",
        "outputId": "e2ded29f-30bf-455f-8e6e-4ee6a1afc139",
        "colab": {
          "base_uri": "https://localhost:8080/"
        }
      },
      "execution_count": null,
      "outputs": [
        {
          "output_type": "stream",
          "name": "stdout",
          "text": [
            "[[-2.30399978]\n",
            " [ 0.37169462]\n",
            " [ 0.80437737]\n",
            " [-0.00460032]\n",
            " [ 0.04544746]\n",
            " [ 0.23131579]\n",
            " [ 0.00494947]\n",
            " [ 0.0919766 ]\n",
            " [ 0.04536421]\n",
            " [ 0.10319284]\n",
            " [ 0.04992401]\n",
            " [ 0.39840403]\n",
            " [ 0.02385979]\n",
            " [ 0.02914904]\n",
            " [-0.01357274]\n",
            " [ 0.07608293]]\n"
          ]
        }
      ]
    },
    {
      "cell_type": "code",
      "source": [
        "import matplotlib.pyplot as plt\n",
        "plt.plot(cost_history)\n",
        "plt.xlabel(\"Iteration\")\n",
        "plt.ylabel(\"$J(\\Theta)$\")\n",
        "#plt.yscale(\"log\")\n",
        "plt.title(\"Cost function using Gradient Descent\")"
      ],
      "metadata": {
        "jupyter": {
          "outputs_hidden": false
        },
        "id": "TgIUOxdnZqzU",
        "outputId": "71dd60ce-94e1-468b-ef00-8a98abf38bcb",
        "colab": {
          "base_uri": "https://localhost:8080/",
          "height": 312
        }
      },
      "execution_count": null,
      "outputs": [
        {
          "output_type": "execute_result",
          "data": {
            "text/plain": [
              "Text(0.5, 1.0, 'Cost function using Gradient Descent')"
            ]
          },
          "metadata": {},
          "execution_count": 11
        },
        {
          "output_type": "display_data",
          "data": {
            "image/png": "[encoded data removed]",
            "text/plain": [
              "<Figure size 432x288 with 1 Axes>"
            ]
          },
          "metadata": {
            "needs_background": "light"
          }
        }
      ]
    },
    {
      "cell_type": "code",
      "source": [
        "print('Final Cost is :', cost_history[-1])\n"
      ],
      "metadata": {
        "jupyter": {
          "outputs_hidden": false
        },
        "id": "TV1AcUCKZqzU",
        "outputId": "e8a802f8-1c66-4a45-e687-052dae72e4a2",
        "colab": {
          "base_uri": "https://localhost:8080/"
        }
      },
      "execution_count": null,
      "outputs": [
        {
          "output_type": "stream",
          "name": "stdout",
          "text": [
            "Final Cost is : 0.3821351789213728\n"
          ]
        }
      ]
    },
    {
      "cell_type": "markdown",
      "source": [
        "As is common in gradient descent, the cost function decrases rapidly at the beginning then levels off very quickly."
      ],
      "metadata": {
        "id": "UmHG6WWXZqzU"
      }
    },
    {
      "cell_type": "markdown",
      "source": [
        "### Regularization"
      ],
      "metadata": {
        "id": "QfTD_ZsMZqzU"
      }
    },
    {
      "cell_type": "markdown",
      "source": [
        "However, a concept known as regularization can be used to improve generality of the fit i.e. make it more suited to classifying unseen data, hence avoiding the problem of overfitting. <br>In statistics, overfitting is the production of an analysis that corresponds too closely or exactly to a particular set of data, and may therefore fail to fit additional data or predict future observations reliably.\n",
        "    \n",
        "<br>To do this, we need to introduce a regularization constant $\\lambda$, and redefine our cost function."
      ],
      "metadata": {
        "id": "b3Cqp8AtZqzU"
      }
    },
    {
      "cell_type": "code",
      "source": [
        "def  RegcomputeCost(theta,X,y,reg=0):\n",
        "    \n",
        "    m = float(len(y))\n",
        "    \n",
        "    predictions = sigmoid(X.dot(theta))\n",
        "    theta2 = np.square(theta)\n",
        "    cost = -(1/m) * (y.T.dot(np.log(predictions))+(1-y).T.dot(np.log(1-predictions))) + (reg/(2*m))*np.sum(theta2)\n",
        "    return cost"
      ],
      "metadata": {
        "jupyter": {
          "outputs_hidden": false
        },
        "id": "LdNdidXyZqzV"
      },
      "execution_count": null,
      "outputs": []
    },
    {
      "cell_type": "markdown",
      "source": [
        "Here, the additional term  \n",
        "$$\n",
        "\\frac{\\lambda}{2m}\\sum^{n}_{j=1}\\theta_j^2\n",
        "$$\n",
        "in the cost is the regularization term."
      ],
      "metadata": {
        "id": "ubX5QmXuZqzV"
      }
    },
    {
      "cell_type": "markdown",
      "source": [
        "Since the cost function has changed, the function within gradient descent needs to change too. Essentially the formula for updating gradient descnet is $\\theta_j:=\\theta_j-\\alpha\\nabla J(\\theta)$. This formula has been implemented previously without explicitly using the derivative of the cost function since the functions inside the derivative can be explicitly defined. However, the derivative of the regularized cost function is piecewise since, by convention, the intercept ($\\theta_0$) is not regularized; this means that the subtraction operation must be performed on theta twice—once for the gradient of the cost function, the second time for the gradient of the regularization term which does not apply to $\\theta_0$."
      ],
      "metadata": {
        "id": "KyW7c5Z9ZqzV"
      }
    },
    {
      "cell_type": "code",
      "source": [
        "def Reggradient_descent(X,y,theta,alpha=0.01,iterations=100,reg=0):\n",
        "    '''\n",
        "    X    = Matrix of X with added bias units\n",
        "    y    = Vector of Y\n",
        "    theta=Vector of thetas np.random.randn(j,1)\n",
        "    alpha \n",
        "    iterations = no of iterations\n",
        "    \n",
        "    Returns the final theta vector and array of cost history over no of iterations\n",
        "    '''\n",
        "    m = float(y.shape[0])\n",
        "    cost_history = np.zeros(iterations)\n",
        "    theta_history = np.zeros((iterations,X.shape[1]))\n",
        "    for it in range(iterations):\n",
        "        prediction = sigmoid(X.dot(theta))\n",
        "        theta = theta -(1/m)*alpha*(X.T.dot((prediction - y)))\n",
        "        theta[1:] = theta[1:]-alpha*reg*(1/m)*theta[1:]\n",
        "        theta_history[it,:] = theta.T\n",
        "        cost_history[it]  = RegcomputeCost(theta,X,y,reg)\n",
        "        \n",
        "    return theta, cost_history, theta_history"
      ],
      "metadata": {
        "jupyter": {
          "outputs_hidden": false
        },
        "id": "zYeVzTBuZqzV"
      },
      "execution_count": null,
      "outputs": []
    },
    {
      "cell_type": "markdown",
      "source": [
        "Now, running the regularized gradient descent with the same parameters as above."
      ],
      "metadata": {
        "id": "IHqVWgXuZqzV"
      }
    },
    {
      "cell_type": "code",
      "source": [
        "theta = np.zeros((n,1))\n",
        "reg = 0.1\n",
        "theta,cost_history,theta_history = Reggradient_descent(X_b,y,theta,alpha,n_iter,reg)\n",
        "print(theta)\n"
      ],
      "metadata": {
        "jupyter": {
          "outputs_hidden": false
        },
        "id": "E8cpK2GvZqzV",
        "outputId": "fadeaac6-4a72-44fe-8c87-149edb84d165",
        "colab": {
          "base_uri": "https://localhost:8080/"
        }
      },
      "execution_count": null,
      "outputs": [
        {
          "output_type": "stream",
          "name": "stdout",
          "text": [
            "[[-2.30387112]\n",
            " [ 0.37153312]\n",
            " [ 0.80397388]\n",
            " [-0.00459934]\n",
            " [ 0.04556678]\n",
            " [ 0.23116299]\n",
            " [ 0.00495033]\n",
            " [ 0.0918788 ]\n",
            " [ 0.04559276]\n",
            " [ 0.10311837]\n",
            " [ 0.04993907]\n",
            " [ 0.39828011]\n",
            " [ 0.02389778]\n",
            " [ 0.02915332]\n",
            " [-0.01358102]\n",
            " [ 0.07609194]]\n"
          ]
        }
      ]
    },
    {
      "cell_type": "code",
      "source": [
        "import matplotlib.pyplot as plt\n",
        "plt.plot(cost_history)\n",
        "plt.xlabel(\"Iteration\")\n",
        "plt.ylabel(\"$J(\\Theta)$\")\n",
        "#plt.yscale(\"log\")\n",
        "plt.title(\"Cost function using Gradient Descent with Regularization\")"
      ],
      "metadata": {
        "jupyter": {
          "outputs_hidden": false
        },
        "id": "viljwf2hZqzW",
        "outputId": "3186eb6a-49a4-49fb-e410-66c43fdb8fa9",
        "colab": {
          "base_uri": "https://localhost:8080/",
          "height": 312
        }
      },
      "execution_count": null,
      "outputs": [
        {
          "output_type": "execute_result",
          "data": {
            "text/plain": [
              "Text(0.5, 1.0, 'Cost function using Gradient Descent with Regularization')"
            ]
          },
          "metadata": {},
          "execution_count": 16
        },
        {
          "output_type": "display_data",
          "data": {
            "image/png": "[encoded data removed]",
            "text/plain": [
              "<Figure size 432x288 with 1 Axes>"
            ]
          },
          "metadata": {
            "needs_background": "light"
          }
        }
      ]
    },
    {
      "cell_type": "code",
      "source": [
        "print('Final Cost is :', cost_history[-1])"
      ],
      "metadata": {
        "jupyter": {
          "outputs_hidden": false
        },
        "id": "WiQRr8FsZqzW",
        "outputId": "56439323-cb8a-4412-a855-762cc8ffc927",
        "colab": {
          "base_uri": "https://localhost:8080/"
        }
      },
      "execution_count": null,
      "outputs": [
        {
          "output_type": "stream",
          "name": "stdout",
          "text": [
            "Final Cost is : 0.38221086822313527\n"
          ]
        }
      ]
    },
    {
      "cell_type": "markdown",
      "source": [
        "From this, the final cost using the same parameters is very much the same as that using the unregularized version.  <br>In some sense, the result reflects that there's no overfitting in this dataset， but we have showed what the method is like, anyway.<br>When faced with problems with very many features, it is best to use this version of the algorithm."
      ],
      "metadata": {
        "id": "leAhJOChZqzW"
      }
    },
    {
      "cell_type": "markdown",
      "source": [
        "### Prediction"
      ],
      "metadata": {
        "id": "RIGUWec6ZqzW"
      }
    },
    {
      "cell_type": "markdown",
      "source": [
        "With the hypothesis got, we are now trying to make a prediction.\n",
        "\n",
        "<br>Take a healthy person with :gender-1(male), age-25, education-4(college), current smoker-0, cigs_perday-0, bpmeds-0(not on blood pressure medication, prevalentstroke-0, prevalentHyp-0, diabetes-0, totChol-225, sysBP-100,diaBP-70,BMI-24, heartrate-72, glucose-64)\n",
        "\n",
        "<br>Note, since we are using $\\theta$s got from scaled data, we need to scale the feature before predicting."
      ],
      "metadata": {
        "id": "jC16J72YZqzW"
      }
    },
    {
      "cell_type": "code",
      "source": [
        "#so, X would be:\n",
        "X=np.asarray([1,25,4,0,0,0,0,0,0,225,100,70,24,72,64]).reshape(15,1)\n",
        "from sklearn import preprocessing\n",
        "scaler = preprocessing.RobustScaler()\n",
        "X_scaled = scaler.fit_transform(X)# scaling\n",
        "X = X_scaled.reshape(1,15)\n",
        "X=np.c_[np.mat([[1]]),X]\n",
        "print('the variable of sigmoid function(linear function):',np.dot(X,theta),'sigmoid function:',1/(1+np.exp(-np.dot(X,theta))))\n"
      ],
      "metadata": {
        "jupyter": {
          "outputs_hidden": false
        },
        "id": "lwe27kXIZqzW",
        "outputId": "9cad45f4-e8e0-4566-da1b-053b0fa48aa6",
        "colab": {
          "base_uri": "https://localhost:8080/"
        }
      },
      "execution_count": null,
      "outputs": [
        {
          "output_type": "stream",
          "name": "stdout",
          "text": [
            "the variable of sigmoid function(linear function): [[-1.27769912]] sigmoid function: [[0.21794214]]\n"
          ]
        }
      ]
    },
    {
      "cell_type": "markdown",
      "source": [
        "We predict $y=0$ (he will not have a heart disease in the next 10 years) when the linear part $\\leq0$ and sigmoid function $\\leq0.5$, which accords with the data given."
      ],
      "metadata": {
        "id": "r4VrXDgYZqzW"
      }
    },
    {
      "cell_type": "markdown",
      "source": [
        "## Example 3"
      ],
      "metadata": {
        "id": "Ttp4-92JZqzW"
      }
    },
    {
      "cell_type": "markdown",
      "source": [
        "In logistic regression, decision boundary is important and can clearly show the classification. Therefore, we plan to make the figure of decision boundary in the following, which is the main task in the example."
      ],
      "metadata": {
        "id": "gS7-BwY8ZqzW"
      }
    },
    {
      "cell_type": "markdown",
      "source": [
        "### Data Layer"
      ],
      "metadata": {
        "id": "4buTo_8VZqzW"
      }
    },
    {
      "cell_type": "markdown",
      "source": [
        "The idea is to use the scores of 2 exams to predict whether a person is admitted.\n",
        "<br>Data source:https://www.kaggle.com/chadansharma/logistic-regression-practice\n",
        "<br><br>Have a look at the data:"
      ],
      "metadata": {
        "id": "ltq5FBWDZqzW"
      }
    },
    {
      "cell_type": "code",
      "source": [
        "import pandas as pd\n",
        "from pandas import DataFrame\n"
      ],
      "metadata": {
        "jupyter": {
          "outputs_hidden": false
        },
        "id": "0HENPfMKZqzX"
      },
      "execution_count": 38,
      "outputs": []
    },
    {
      "cell_type": "code",
      "source": [
        "df = pd.read_csv(\"/content/hku_phys3151_2022/logistic-regression/logistic-regression-example-3.csv\", sep=\",\")\n",
        "\n",
        "print (df.head(10).append(df.tail(10)))"
      ],
      "metadata": {
        "jupyter": {
          "outputs_hidden": false
        },
        "trusted": true,
        "id": "IeeulHq0ZqzX",
        "outputId": "0a548700-d251-4d44-98be-3936869f3118",
        "colab": {
          "base_uri": "https://localhost:8080/"
        }
      },
      "execution_count": 39,
      "outputs": [
        {
          "output_type": "stream",
          "name": "stdout",
          "text": [
            "     1st_exam   2nd_exam  admitted\n",
            "0   34.623660  78.024693         0\n",
            "1   30.286711  43.894998         0\n",
            "2   35.847409  72.902198         0\n",
            "3   60.182599  86.308552         1\n",
            "4   79.032736  75.344376         1\n",
            "5   45.083277  56.316372         0\n",
            "6   61.106665  96.511426         1\n",
            "7   75.024746  46.554014         1\n",
            "8   76.098787  87.420570         1\n",
            "9   84.432820  43.533393         1\n",
            "90  94.094331  77.159105         1\n",
            "91  90.448551  87.508792         1\n",
            "92  55.482161  35.570703         0\n",
            "93  74.492692  84.845137         1\n",
            "94  89.845807  45.358284         1\n",
            "95  83.489163  48.380286         1\n",
            "96  42.261701  87.103851         1\n",
            "97  99.315009  68.775409         1\n",
            "98  55.340018  64.931938         1\n",
            "99  74.775893  89.529813         1\n"
          ]
        }
      ]
    },
    {
      "cell_type": "markdown",
      "source": [
        "### Logistic Regression"
      ],
      "metadata": {
        "id": "AtcyjrVuZqzX"
      }
    },
    {
      "cell_type": "markdown",
      "source": [
        "Then we define the functions we need as before."
      ],
      "metadata": {
        "id": "ADW46CCGZqzX"
      }
    },
    {
      "cell_type": "code",
      "source": [
        "def sigmoid(x):\n",
        "    return 1 / (1 + np.exp(-x))\n",
        "def  computeCost(theta,X,y):\n",
        "    \n",
        "    m = float(len(y))\n",
        "    \n",
        "    predictions = sigmoid(X.dot(theta))\n",
        "    cost = -(1/m) * (y.T.dot(np.log(predictions))+(1-y).T.dot(np.log(1-predictions)))\n",
        "    return cost"
      ],
      "metadata": {
        "jupyter": {
          "outputs_hidden": false
        },
        "id": "uAB2j6VVZqzX"
      },
      "execution_count": 40,
      "outputs": []
    },
    {
      "cell_type": "code",
      "source": [
        "def gradient_descent(X,y,theta,alpha=0.01,iterations=100):\n",
        "    '''\n",
        "    X    = Matrix of X with added bias units\n",
        "    y    = Vector of Y\n",
        "    theta=Vector of thetas np.random.randn(j,1)\n",
        "    alpha \n",
        "    iterations = no of iterations\"\n",
        "    \n",
        "    Returns the final theta vector and array of cost history over no of iterations\n",
        "    '''\n",
        "    m = float(y.shape[0])\n",
        "    cost_history = np.zeros(iterations)\n",
        "    theta_history = np.zeros((iterations,X.shape[1]))\n",
        "    for it in range(iterations):\n",
        "        \n",
        "        prediction = sigmoid(X.dot(theta))\n",
        "        #print(prediction)\n",
        "        #print(np.dot(X.T,prediction - y))\n",
        "        theta = theta -(1/m)*alpha*(X.T.dot((prediction - y)))\n",
        "        theta_history[it,:] = theta.T\n",
        "        cost_history[it]  = computeCost(theta,X,y)\n",
        "        \n",
        "    return theta, cost_history, theta_history"
      ],
      "metadata": {
        "jupyter": {
          "outputs_hidden": false
        },
        "id": "6xBeME3PZqzX"
      },
      "execution_count": 41,
      "outputs": []
    },
    {
      "cell_type": "markdown",
      "source": [
        "### Feature Scaling"
      ],
      "metadata": {
        "id": "c6BlxRGaZqzX"
      }
    },
    {
      "cell_type": "markdown",
      "source": [
        "Now, we prepare the data for computation, including feature scaling and adding a column to X to fit $\\theta$."
      ],
      "metadata": {
        "id": "2op9-pNnZqzX"
      }
    },
    {
      "cell_type": "code",
      "source": [
        "df = df.to_numpy()\n",
        "X = df[:,0:-1]\n",
        "y = df[:,-1]\n",
        "y = y.reshape((len(y),1))\n",
        "n = X.shape[1]+1\n",
        "print(X.shape)"
      ],
      "metadata": {
        "jupyter": {
          "outputs_hidden": false
        },
        "id": "lvfChynAZqzX",
        "outputId": "331a0af1-63e3-4936-ed4f-16755b16122c",
        "colab": {
          "base_uri": "https://localhost:8080/"
        }
      },
      "execution_count": 42,
      "outputs": [
        {
          "output_type": "stream",
          "name": "stdout",
          "text": [
            "(100, 2)\n"
          ]
        }
      ]
    },
    {
      "cell_type": "code",
      "source": [
        "from sklearn import preprocessing\n",
        "scaler = preprocessing.RobustScaler()\n",
        "X_scaled = scaler.fit_transform(X)\n",
        "print(X_scaled.shape)\n",
        "print(scaler)\n",
        "X = X_scaled     #we want to use symbol X"
      ],
      "metadata": {
        "jupyter": {
          "outputs_hidden": false
        },
        "id": "WSA1Yv9kZqzY",
        "outputId": "47cb75d2-09d8-4785-ff36-f41b1575552e",
        "colab": {
          "base_uri": "https://localhost:8080/"
        }
      },
      "execution_count": 43,
      "outputs": [
        {
          "output_type": "stream",
          "name": "stdout",
          "text": [
            "(100, 2)\n",
            "RobustScaler()\n"
          ]
        }
      ]
    },
    {
      "cell_type": "code",
      "source": [
        "X_b = np.c_[np.ones((len(X),1)),X]\n",
        "theta = np.zeros((n,1))"
      ],
      "metadata": {
        "jupyter": {
          "outputs_hidden": false
        },
        "id": "bxBHDYZlZqzY"
      },
      "execution_count": 44,
      "outputs": []
    },
    {
      "cell_type": "markdown",
      "source": [
        "### Implementation"
      ],
      "metadata": {
        "id": "dWxp1JfiZqzY"
      }
    },
    {
      "cell_type": "markdown",
      "source": [
        "With the data ready, we can now implement the functions to get the coefficients(parameters) in the hypothesis."
      ],
      "metadata": {
        "id": "CYvO5gpoZqzY"
      }
    },
    {
      "cell_type": "code",
      "source": [
        "alpha =0.05\n",
        "n_iter =2000\n",
        "\n",
        "theta,cost_history,theta_history = gradient_descent(X_b,y,theta,alpha,n_iter)\n",
        "print(theta)"
      ],
      "metadata": {
        "jupyter": {
          "outputs_hidden": false
        },
        "id": "YZq_sqnsZqzY",
        "outputId": "b9e66efd-07a7-4cd4-f3bc-2945125023e6",
        "colab": {
          "base_uri": "https://localhost:8080/"
        }
      },
      "execution_count": 45,
      "outputs": [
        {
          "output_type": "stream",
          "name": "stdout",
          "text": [
            "[[1.29407585]\n",
            " [3.51738029]\n",
            " [3.52046089]]\n"
          ]
        }
      ]
    },
    {
      "cell_type": "code",
      "source": [
        "import matplotlib.pyplot as plt\n",
        "plt.plot(cost_history)\n",
        "plt.xlabel(\"Iteration\")\n",
        "plt.ylabel(\"$J(\\Theta)$\")\n",
        "#plt.yscale(\"log\")\n",
        "plt.title(\"Cost function using Gradient Descent\")"
      ],
      "metadata": {
        "id": "U6T40Ebp3k6S",
        "outputId": "1ba06527-5823-40b4-eb13-892240d48514",
        "colab": {
          "base_uri": "https://localhost:8080/",
          "height": 312
        }
      },
      "execution_count": 46,
      "outputs": [
        {
          "output_type": "execute_result",
          "data": {
            "text/plain": [
              "Text(0.5, 1.0, 'Cost function using Gradient Descent')"
            ]
          },
          "metadata": {},
          "execution_count": 46
        },
        {
          "output_type": "display_data",
          "data": {
            "image/png": "[encoded data removed]",
            "text/plain": [
              "<Figure size 432x288 with 1 Axes>"
            ]
          },
          "metadata": {
            "needs_background": "light"
          }
        }
      ]
    },
    {
      "cell_type": "code",
      "source": [
        "print('Final Cost is :', cost_history[-1])"
      ],
      "metadata": {
        "id": "uEvxgGY93q1e",
        "outputId": "a226d3f1-5613-4877-9096-1f6d2b225c28",
        "colab": {
          "base_uri": "https://localhost:8080/"
        }
      },
      "execution_count": 47,
      "outputs": [
        {
          "output_type": "stream",
          "name": "stdout",
          "text": [
            "Final Cost is : 0.23117841067478856\n"
          ]
        }
      ]
    },
    {
      "cell_type": "markdown",
      "source": [
        "### Decision Boundary"
      ],
      "metadata": {
        "id": "UVetdreDZqzY"
      }
    },
    {
      "cell_type": "markdown",
      "source": [
        "Now we should have a better decision of what the hypothesis function is computing by drawing the decision boundary:\n",
        "With  $h_\\theta=g(\\theta_0+\\theta_1X_1+\\theta_2X_2)$ and $g(z)=\\frac{1}{1+e^{-z}}$, we predict $y=1$ if the sigmoild function $\\geq0.5$, so the boundary would be $\\theta_0+\\theta_1X_1+\\theta_2X_2=0$\n",
        "\n",
        "<br>Here, $\\theta_0=1.2940,\\theta_1=3.517,\\theta_2=3.520$, so the decision boundary is:    $   3.517X_1+3.52X_2=-1.294$\n",
        "<br>Show it in the figure below.\n"
      ],
      "metadata": {
        "id": "KMWf_xT2ZqzY"
      }
    },
    {
      "cell_type": "markdown",
      "source": [
        "To scatter the two results respectively, set two datasets of differents results."
      ],
      "metadata": {
        "id": "Ixz22kXNZqzY"
      }
    },
    {
      "cell_type": "code",
      "source": [
        "#y=1 admitted(yes)\n",
        "yes_x=[]\n",
        "yes_y=[]\n",
        "#y=0 not admitted(no)\n",
        "no_x=[]\n",
        "no_y=[]\n",
        "for i in range(0,100):\n",
        "    if y[i]==0:\n",
        "        no_x.append(X_b[i][1])\n",
        "        no_y.append(X_b[i][2])\n",
        "    else:\n",
        "        yes_x.append(X_b[i][1])\n",
        "        yes_y.append(X_b[i][2])"
      ],
      "metadata": {
        "jupyter": {
          "outputs_hidden": false
        },
        "id": "FVoX-pgCZqzY"
      },
      "execution_count": 34,
      "outputs": []
    },
    {
      "cell_type": "markdown",
      "source": [
        "Since the features are scaled, we use those scaled data to plot.  Feature scaling doesn't change the inner relation of the variable, so the feature of the figure will not change anyway."
      ],
      "metadata": {
        "id": "eTL9YaelZqzY"
      }
    },
    {
      "cell_type": "code",
      "source": [
        "plt.xlabel('1st Exam(Scaled)')\n",
        "plt.ylabel('2nd Exam(Scaled)')\n",
        "plt.title('Admission Prediction')\n",
        "x=np.arange(-1,1,0.01)\n",
        "y=(-3.517/3.52)*x+(-1.29/3.52)\n",
        "plt.plot(x,y,label='Decision Boundary',color='green' )\n",
        "plt.scatter(yes_x,yes_y,label='Admitted')\n",
        "plt.scatter(no_x,no_y,label='Not Admitted')\n",
        "plt.legend()"
      ],
      "metadata": {
        "jupyter": {
          "outputs_hidden": false
        },
        "id": "w16HBxkGZqzZ",
        "outputId": "dd3aec48-21bd-40b9-849c-aa7dc650bc84",
        "colab": {
          "base_uri": "https://localhost:8080/",
          "height": 312
        }
      },
      "execution_count": 48,
      "outputs": [
        {
          "output_type": "execute_result",
          "data": {
            "text/plain": [
              "<matplotlib.legend.Legend at 0x7fd1ff6d7610>"
            ]
          },
          "metadata": {},
          "execution_count": 48
        },
        {
          "output_type": "display_data",
          "data": {
            "image/png": "[encoded data removed]",
            "text/plain": [
              "<Figure size 432x288 with 1 Axes>"
            ]
          },
          "metadata": {
            "needs_background": "light"
          }
        }
      ]
    },
    {
      "cell_type": "markdown",
      "source": [
        "Nice, the decision boundary works well and makes the classification so clear."
      ],
      "metadata": {
        "id": "9VUmySgJZqzZ"
      }
    }
  ]
}